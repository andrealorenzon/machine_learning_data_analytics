{
 "cells": [
  {
   "cell_type": "markdown",
   "metadata": {},
   "source": [
    "# Classification\n",
    "\n",
    "There are two main types of classificationL\n",
    "\n",
    "* **Supervised classification**, when all the classes are known. In this case, the data are represented by a matrix having the response categorical variable $y$ in the first column.\n",
    "\n",
    "* **Cluster analysis**, where the classes are not known in advance.\n",
    "\n",
    "We the denote the set of possible classes using $G$.\n",
    "\n",
    "If the response variable takes only two values, it is called **binary variable**. If it takes more than two classes, it is called **multinomial variable**.\n",
    "\n",
    "Most common methods of classification:\n",
    "\n",
    "Logistic regression, KNN, Linear Discriminant Analysis (LDA), SVM, Decision Trees, Random Forests, GAMs $\\implies$ **supervised**\n",
    "\n",
    "Cluster analysis $\\implies$ **unsupervised**\n",
    "\n",
    "The confusion matrix shows all the missclassified examples in your sample, from which you can compute the classification error. We can compute the confusion matrix on both the train and the test sets.\n",
    "\n",
    "The global classification error is given by the classification error of each class $i$ times the probability that an individual belongs to class $i$. This is the **empyrical** or **training** classification error, and it typically underestimates the real classification error.\n",
    "\n",
    "# Logistic Regression\n",
    "\n",
    "We can model a binary classification problem as a linear problem in which the target is to predict the value of $y$ (which has to be transformed in factor beforehand) by minimizing the error of a linear model on the prediction. We can thus build a rule to represent that\n",
    "\n",
    "$y_i = 1$ if $\\hat{y} \\geq 0.5$, $y_i = 0$ if $\\hat{y} < 0.5$\n",
    "\n",
    "If $Y ~ Bern(p)$ we have that $E(Y) = 1p + 0(1-p) = p$. Thus, we can say that $E(Y) = P(1)$.\n",
    "\n",
    "We are building a model which will return $Pr(Y = 1| X)$, which is the probability of the data point belongs to the default class given its features. We will refer to it as $p(X)$, and it returns a value between 0 and 1. Linear regression doesn't estimate this probability well because some estimated probabilities are below 0 or above 1, so we use the **Logistic Regression**.\n",
    "\n",
    "If the response variable is multinomial, we can use **Multiclass Logistic Regression**.\n",
    "\n",
    "The logistic function goes as follows\n",
    "\n",
    "$$p(X) = \\frac{e^{\\beta_0 + \\beta_1X}}{1 + e^{\\beta_0 + \\beta_1X}}$$\n",
    "\n",
    "We can apply a monotonic transformation, called **log odds** or **logit function**, to obtain the linear equation representing our logistic model (defined of the $[-\\infty, \\infty]$ domain).\n",
    "\n",
    "$$log(\\frac{p(X)}{1 - p(X)} = \\beta_0 + \\beta_1X$$\n",
    "\n",
    "It is called log odds because it is simply the logarithm of the odds, represented by\n",
    "\n",
    "$$\\frac{p(X)}{1 - p(X} = e^{\\beta_0 + \\beta_1X}$$\n",
    "\n",
    "which are simply the probability of X happening divided by the probability of it not happening.\n",
    "\n",
    "* a one-unit increase of X changes the log odds by $\\beta_1$\n",
    "\n",
    "* a one-unit increase of X multiplies the odds by $e^{\\beta_1}$\n",
    "\n",
    "* a one-unit increase of X changes p(X) according to the sign of $\\beta_1$ and depending on the value of X (the relationship is not linear, is an “S”)\n",
    "\n",
    "\n",
    "\n",
    "# Generalized Linear Models (GLM)\n",
    "\n",
    "A family of of models which contains also the Logistic regression.\n",
    "\n",
    "The models in this family we consider the correct distribution for the response variable, and then we build a linear model in beta parameter by applying a transformation (called **link function**) which transforms the expected value of Y.\n",
    "\n",
    "For logistic regression the link function is the **logit**, which takes the logarithm of the odds.\n",
    "\n",
    "To estimate the parameters $\\beta_0, \\beta_1$ we use the **Maximum Likelihood Criterion**, which gives the probability of the data being described by the model having those as parameters.\n",
    "\n",
    "In R, we use the `glm` function to perform this estimation.\n",
    "\n",
    "To use the model for prediction, we simply plug the estimated parameters and then try it for the chosen values of X in order to obtain the probability for the observation to belong in the default class.\n",
    "\n",
    "The common rule is to define p > 0.5 as the threshold for classifying a result as default. This threshold could be changed in case of false positives or false negatives.\n",
    "\n",
    "\n",
    "# Multiple Logistic Regression\n",
    "\n",
    "It is simply an extension of the normal logistic regression\n",
    "\n",
    "$$p(X) = \\frac{e^{\\beta_0 + \\beta_1X + \\dots + \\beta_pX_p}}{1 + e^{\\beta_0 + \\beta_1X + \\dots + \\beta_pX_p}}$$\n",
    "\n",
    "One of the tasks of multiple regressions is to distinguish the effect of multiple variables on the outcome. This avoids a **confounding** effect brought by non-included variables. When we have multiple variables, we should include them at the beginning of our model analysis to manifest their effect.\n",
    "\n",
    "\n",
    "# Multiclass Logistic Regression\n",
    "\n",
    "It is simply an extension of the binary logistic regression\n",
    "\n",
    "$$p(X) = \\frac{e^{\\beta_{0k} + \\beta_{1k}X_1 + \\dots + \\beta_{pk}X_p}}{\\Sigma_{l = 1}^K e^{\\beta_{0l} + \\beta_{1l}X + \\dots + \\beta_{pl}X_p}}$$"
   ]
  },
  {
   "cell_type": "markdown",
   "metadata": {},
   "source": [
    "# Laboratory: Logistic Regression"
   ]
  },
  {
   "cell_type": "code",
   "execution_count": 1,
   "metadata": {},
   "outputs": [
    {
     "name": "stderr",
     "output_type": "stream",
     "text": [
      "\n",
      "Attaching package: ‘dplyr’\n",
      "\n",
      "The following objects are masked from ‘package:stats’:\n",
      "\n",
      "    filter, lag\n",
      "\n",
      "The following objects are masked from ‘package:base’:\n",
      "\n",
      "    intersect, setdiff, setequal, union\n",
      "\n",
      "gdata: read.xls support for 'XLS' (Excel 97-2004) files ENABLED.\n",
      "\n",
      "gdata: Unable to load perl libaries needed by read.xls()\n",
      "gdata: to support 'XLSX' (Excel 2007+) files.\n",
      "\n",
      "gdata: Run the function 'installXLSXsupport()'\n",
      "gdata: to automatically download and install the perl\n",
      "gdata: libaries needed to support Excel XLS and XLSX formats.\n",
      "\n",
      "Attaching package: ‘gdata’\n",
      "\n",
      "The following objects are masked from ‘package:dplyr’:\n",
      "\n",
      "    combine, first, last\n",
      "\n",
      "The following object is masked from ‘package:stats’:\n",
      "\n",
      "    nobs\n",
      "\n",
      "The following object is masked from ‘package:utils’:\n",
      "\n",
      "    object.size\n",
      "\n",
      "The following object is masked from ‘package:base’:\n",
      "\n",
      "    startsWith\n",
      "\n",
      "Loading required package: leaps\n"
     ]
    }
   ],
   "source": [
    "library(dplyr)\n",
    "library(gdata)\n",
    "library(bestglm) # like leaps, used to select the best subset of variables\n",
    "library(Fahrmeir)"
   ]
  },
  {
   "cell_type": "code",
   "execution_count": 2,
   "metadata": {},
   "outputs": [],
   "source": [
    "data  <- credit"
   ]
  },
  {
   "cell_type": "code",
   "execution_count": 3,
   "metadata": {},
   "outputs": [
    {
     "data": {
      "text/html": [
       "<table>\n",
       "<thead><tr><th scope=col>Y</th><th scope=col>Cuenta</th><th scope=col>Mes</th><th scope=col>Ppag</th><th scope=col>Uso</th><th scope=col>DM</th><th scope=col>Sexo</th><th scope=col>Estc</th></tr></thead>\n",
       "<tbody>\n",
       "\t<tr><td>buen            </td><td>no              </td><td>18              </td><td>pre buen pagador</td><td>privado         </td><td>1049            </td><td>mujer           </td><td>vive solo       </td></tr>\n",
       "\t<tr><td>buen            </td><td>no              </td><td> 9              </td><td>pre buen pagador</td><td>profesional     </td><td>2799            </td><td>hombre          </td><td>no vive solo    </td></tr>\n",
       "\t<tr><td>buen            </td><td>bad running     </td><td>12              </td><td>pre buen pagador</td><td>profesional     </td><td> 841            </td><td>mujer           </td><td>vive solo       </td></tr>\n",
       "\t<tr><td>buen            </td><td>no              </td><td>12              </td><td>pre buen pagador</td><td>profesional     </td><td>2122            </td><td>hombre          </td><td>no vive solo    </td></tr>\n",
       "\t<tr><td>buen            </td><td>no              </td><td>12              </td><td>pre buen pagador</td><td>profesional     </td><td>2171            </td><td>hombre          </td><td>no vive solo    </td></tr>\n",
       "\t<tr><td>buen            </td><td>no              </td><td>10              </td><td>pre buen pagador</td><td>profesional     </td><td>2241            </td><td>hombre          </td><td>no vive solo    </td></tr>\n",
       "</tbody>\n",
       "</table>\n"
      ],
      "text/latex": [
       "\\begin{tabular}{r|llllllll}\n",
       " Y & Cuenta & Mes & Ppag & Uso & DM & Sexo & Estc\\\\\n",
       "\\hline\n",
       "\t buen             & no               & 18               & pre buen pagador & privado          & 1049             & mujer            & vive solo       \\\\\n",
       "\t buen             & no               &  9               & pre buen pagador & profesional      & 2799             & hombre           & no vive solo    \\\\\n",
       "\t buen             & bad running      & 12               & pre buen pagador & profesional      &  841             & mujer            & vive solo       \\\\\n",
       "\t buen             & no               & 12               & pre buen pagador & profesional      & 2122             & hombre           & no vive solo    \\\\\n",
       "\t buen             & no               & 12               & pre buen pagador & profesional      & 2171             & hombre           & no vive solo    \\\\\n",
       "\t buen             & no               & 10               & pre buen pagador & profesional      & 2241             & hombre           & no vive solo    \\\\\n",
       "\\end{tabular}\n"
      ],
      "text/markdown": [
       "\n",
       "Y | Cuenta | Mes | Ppag | Uso | DM | Sexo | Estc | \n",
       "|---|---|---|---|---|---|\n",
       "| buen             | no               | 18               | pre buen pagador | privado          | 1049             | mujer            | vive solo        | \n",
       "| buen             | no               |  9               | pre buen pagador | profesional      | 2799             | hombre           | no vive solo     | \n",
       "| buen             | bad running      | 12               | pre buen pagador | profesional      |  841             | mujer            | vive solo        | \n",
       "| buen             | no               | 12               | pre buen pagador | profesional      | 2122             | hombre           | no vive solo     | \n",
       "| buen             | no               | 12               | pre buen pagador | profesional      | 2171             | hombre           | no vive solo     | \n",
       "| buen             | no               | 10               | pre buen pagador | profesional      | 2241             | hombre           | no vive solo     | \n",
       "\n",
       "\n"
      ],
      "text/plain": [
       "  Y    Cuenta      Mes Ppag             Uso         DM   Sexo   Estc        \n",
       "1 buen no          18  pre buen pagador privado     1049 mujer  vive solo   \n",
       "2 buen no           9  pre buen pagador profesional 2799 hombre no vive solo\n",
       "3 buen bad running 12  pre buen pagador profesional  841 mujer  vive solo   \n",
       "4 buen no          12  pre buen pagador profesional 2122 hombre no vive solo\n",
       "5 buen no          12  pre buen pagador profesional 2171 hombre no vive solo\n",
       "6 buen no          10  pre buen pagador profesional 2241 hombre no vive solo"
      ]
     },
     "metadata": {},
     "output_type": "display_data"
    }
   ],
   "source": [
    "head(data)"
   ]
  },
  {
   "cell_type": "code",
   "execution_count": 4,
   "metadata": {},
   "outputs": [
    {
     "data": {
      "text/plain": [
       "    Y                Cuenta         Mes                     Ppag    \n",
       " buen:700   no          :274   Min.   : 4.0   pre buen pagador:911  \n",
       " mal :300   good running:394   1st Qu.:12.0   pre mal pagador : 89  \n",
       "            bad running :332   Median :18.0                         \n",
       "                               Mean   :20.9                         \n",
       "                               3rd Qu.:24.0                         \n",
       "                               Max.   :72.0                         \n",
       "          Uso            DM            Sexo               Estc    \n",
       " privado    :657   Min.   :  250   mujer :402   no vive solo:640  \n",
       " profesional:343   1st Qu.: 1366   hombre:598   vive solo   :360  \n",
       "                   Median : 2320                                  \n",
       "                   Mean   : 3271                                  \n",
       "                   3rd Qu.: 3972                                  \n",
       "                   Max.   :18424                                  "
      ]
     },
     "metadata": {},
     "output_type": "display_data"
    }
   ],
   "source": [
    "summary(data)"
   ]
  },
  {
   "cell_type": "code",
   "execution_count": 5,
   "metadata": {},
   "outputs": [
    {
     "data": {
      "text/html": [
       "<dl>\n",
       "\t<dt>$y</dt>\n",
       "\t\t<dd><ol class=list-inline>\n",
       "\t<li>'buen'</li>\n",
       "\t<li>'mal'</li>\n",
       "</ol>\n",
       "</dd>\n",
       "\t<dt>$cuenta</dt>\n",
       "\t\t<dd><ol class=list-inline>\n",
       "\t<li>'no'</li>\n",
       "\t<li>'good running'</li>\n",
       "\t<li>'bad running'</li>\n",
       "</ol>\n",
       "</dd>\n",
       "\t<dt>$ppag</dt>\n",
       "\t\t<dd><ol class=list-inline>\n",
       "\t<li>'pre buen pagador'</li>\n",
       "\t<li>'pre mal pagador'</li>\n",
       "</ol>\n",
       "</dd>\n",
       "\t<dt>$uso</dt>\n",
       "\t\t<dd><ol class=list-inline>\n",
       "\t<li>'privado'</li>\n",
       "\t<li>'profesional'</li>\n",
       "</ol>\n",
       "</dd>\n",
       "\t<dt>$sexo</dt>\n",
       "\t\t<dd><ol class=list-inline>\n",
       "\t<li>'mujer'</li>\n",
       "\t<li>'hombre'</li>\n",
       "</ol>\n",
       "</dd>\n",
       "\t<dt>$estc</dt>\n",
       "\t\t<dd><ol class=list-inline>\n",
       "\t<li>'no vive solo'</li>\n",
       "\t<li>'vive solo'</li>\n",
       "</ol>\n",
       "</dd>\n",
       "</dl>\n"
      ],
      "text/latex": [
       "\\begin{description}\n",
       "\\item[\\$y] \\begin{enumerate*}\n",
       "\\item 'buen'\n",
       "\\item 'mal'\n",
       "\\end{enumerate*}\n",
       "\n",
       "\\item[\\$cuenta] \\begin{enumerate*}\n",
       "\\item 'no'\n",
       "\\item 'good running'\n",
       "\\item 'bad running'\n",
       "\\end{enumerate*}\n",
       "\n",
       "\\item[\\$ppag] \\begin{enumerate*}\n",
       "\\item 'pre buen pagador'\n",
       "\\item 'pre mal pagador'\n",
       "\\end{enumerate*}\n",
       "\n",
       "\\item[\\$uso] \\begin{enumerate*}\n",
       "\\item 'privado'\n",
       "\\item 'profesional'\n",
       "\\end{enumerate*}\n",
       "\n",
       "\\item[\\$sexo] \\begin{enumerate*}\n",
       "\\item 'mujer'\n",
       "\\item 'hombre'\n",
       "\\end{enumerate*}\n",
       "\n",
       "\\item[\\$estc] \\begin{enumerate*}\n",
       "\\item 'no vive solo'\n",
       "\\item 'vive solo'\n",
       "\\end{enumerate*}\n",
       "\n",
       "\\end{description}\n"
      ],
      "text/markdown": [
       "$y\n",
       ":   1. 'buen'\n",
       "2. 'mal'\n",
       "\n",
       "\n",
       "\n",
       "$cuenta\n",
       ":   1. 'no'\n",
       "2. 'good running'\n",
       "3. 'bad running'\n",
       "\n",
       "\n",
       "\n",
       "$ppag\n",
       ":   1. 'pre buen pagador'\n",
       "2. 'pre mal pagador'\n",
       "\n",
       "\n",
       "\n",
       "$uso\n",
       ":   1. 'privado'\n",
       "2. 'profesional'\n",
       "\n",
       "\n",
       "\n",
       "$sexo\n",
       ":   1. 'mujer'\n",
       "2. 'hombre'\n",
       "\n",
       "\n",
       "\n",
       "$estc\n",
       ":   1. 'no vive solo'\n",
       "2. 'vive solo'\n",
       "\n",
       "\n",
       "\n",
       "\n",
       "\n"
      ],
      "text/plain": [
       "$y\n",
       "[1] \"buen\" \"mal\" \n",
       "\n",
       "$cuenta\n",
       "[1] \"no\"           \"good running\" \"bad running\" \n",
       "\n",
       "$ppag\n",
       "[1] \"pre buen pagador\" \"pre mal pagador\" \n",
       "\n",
       "$uso\n",
       "[1] \"privado\"     \"profesional\"\n",
       "\n",
       "$sexo\n",
       "[1] \"mujer\"  \"hombre\"\n",
       "\n",
       "$estc\n",
       "[1] \"no vive solo\" \"vive solo\"   \n"
      ]
     },
     "metadata": {},
     "output_type": "display_data"
    }
   ],
   "source": [
    "# Set variable names to lowercase\n",
    "names(data) <- names(data) %>% tolower()\n",
    "# Set levels for factor variables\n",
    "data %>% select_if(is.factor) %>% sapply(levels)"
   ]
  },
  {
   "cell_type": "code",
   "execution_count": 6,
   "metadata": {},
   "outputs": [
    {
     "data": {
      "text/html": [
       "<table>\n",
       "<thead><tr><th scope=col>y</th><th scope=col>cuenta</th><th scope=col>mes</th><th scope=col>ppag</th><th scope=col>uso</th><th scope=col>dm</th><th scope=col>sexo</th><th scope=col>estc</th></tr></thead>\n",
       "<tbody>\n",
       "\t<tr><td>buen, mal                               </td><td>no          , good running, bad running </td><td>NULL                                    </td><td>pre buen pagador, pre mal pagador       </td><td>privado    , profesional                </td><td>NULL                                    </td><td>mujer , hombre                          </td><td>no vive solo, vive solo                 </td></tr>\n",
       "</tbody>\n",
       "</table>\n"
      ],
      "text/latex": [
       "\\begin{tabular}{r|llllllll}\n",
       " y & cuenta & mes & ppag & uso & dm & sexo & estc\\\\\n",
       "\\hline\n",
       "\t buen, mal                                & no          , good running, bad running  & NULL                                     & pre buen pagador, pre mal pagador        & privado    , profesional                 & NULL                                     & mujer , hombre                           & no vive solo, vive solo                 \\\\\n",
       "\\end{tabular}\n"
      ],
      "text/markdown": [
       "\n",
       "y | cuenta | mes | ppag | uso | dm | sexo | estc | \n",
       "|---|\n",
       "| buen, mal                                | no          , good running, bad running  | NULL                                     | pre buen pagador, pre mal pagador        | privado    , profesional                 | NULL                                     | mujer , hombre                           | no vive solo, vive solo                  | \n",
       "\n",
       "\n"
      ],
      "text/plain": [
       "  y          cuenta                                   mes \n",
       "1 buen, mal  no          , good running, bad running  NULL\n",
       "  ppag                               uso                      dm  \n",
       "1 pre buen pagador, pre mal pagador  privado    , profesional NULL\n",
       "  sexo           estc                      \n",
       "1 mujer , hombre no vive solo, vive solo   "
      ]
     },
     "metadata": {},
     "output_type": "display_data"
    }
   ],
   "source": [
    "data %>% summarise_all(funs(list(levels(.))))"
   ]
  },
  {
   "cell_type": "code",
   "execution_count": 7,
   "metadata": {},
   "outputs": [
    {
     "data": {
      "text/plain": [
       "$y\n",
       "buen  mal \n",
       "   1    2 \n",
       "\n",
       "$cuenta\n",
       "          no good running  bad running \n",
       "           1            2            3 \n",
       "\n",
       "$ppag\n",
       "pre buen pagador  pre mal pagador \n",
       "               1                2 \n",
       "\n",
       "$uso\n",
       "    privado profesional \n",
       "          1           2 \n",
       "\n",
       "$sexo\n",
       " mujer hombre \n",
       "     1      2 \n",
       "\n",
       "$estc\n",
       "no vive solo    vive solo \n",
       "           1            2 \n"
      ]
     },
     "metadata": {},
     "output_type": "display_data"
    }
   ],
   "source": [
    "data %>% select_if(is.factor) %>% sapply(mapLevels)"
   ]
  },
  {
   "cell_type": "code",
   "execution_count": 8,
   "metadata": {},
   "outputs": [],
   "source": [
    "# Translate to english and replace levels by factors\n",
    "colnames(data) <- c(\"solvency\", \"account\",\"loan_duration\", \"prev_pay_behavior\", \"loan_use\", \"credit\", \"sex\", \"civ_state\")\n",
    "levels(data$solvency) <- c(\"good\", \"bad\")\n",
    "levels(data$account) <- c(\"no\", \"good\", \"bad\")\n",
    "levels(data$prev_pay_behavior) <- c(\"good\", \"bad\")\n",
    "levels(data$loan_use) <- c(\"private\", \"professional\")\n",
    "levels(data$sex) <- c(\"woman\", \"man\")\n",
    "levels(data$civ_state) <- c(\"alone\", \"not alone\")"
   ]
  },
  {
   "cell_type": "code",
   "execution_count": 9,
   "metadata": {},
   "outputs": [
    {
     "data": {
      "text/html": [
       "<table>\n",
       "<thead><tr><th scope=col>solvency</th><th scope=col>account</th><th scope=col>loan_duration</th><th scope=col>prev_pay_behavior</th><th scope=col>loan_use</th><th scope=col>credit</th><th scope=col>sex</th><th scope=col>civ_state</th></tr></thead>\n",
       "<tbody>\n",
       "\t<tr><td>good        </td><td>no          </td><td>18          </td><td>good        </td><td>private     </td><td>1049        </td><td>woman       </td><td>not alone   </td></tr>\n",
       "\t<tr><td>good        </td><td>no          </td><td> 9          </td><td>good        </td><td>professional</td><td>2799        </td><td>man         </td><td>alone       </td></tr>\n",
       "\t<tr><td>good        </td><td>bad         </td><td>12          </td><td>good        </td><td>professional</td><td> 841        </td><td>woman       </td><td>not alone   </td></tr>\n",
       "\t<tr><td>good        </td><td>no          </td><td>12          </td><td>good        </td><td>professional</td><td>2122        </td><td>man         </td><td>alone       </td></tr>\n",
       "\t<tr><td>good        </td><td>no          </td><td>12          </td><td>good        </td><td>professional</td><td>2171        </td><td>man         </td><td>alone       </td></tr>\n",
       "\t<tr><td>good        </td><td>no          </td><td>10          </td><td>good        </td><td>professional</td><td>2241        </td><td>man         </td><td>alone       </td></tr>\n",
       "</tbody>\n",
       "</table>\n"
      ],
      "text/latex": [
       "\\begin{tabular}{r|llllllll}\n",
       " solvency & account & loan\\_duration & prev\\_pay\\_behavior & loan\\_use & credit & sex & civ\\_state\\\\\n",
       "\\hline\n",
       "\t good         & no           & 18           & good         & private      & 1049         & woman        & not alone   \\\\\n",
       "\t good         & no           &  9           & good         & professional & 2799         & man          & alone       \\\\\n",
       "\t good         & bad          & 12           & good         & professional &  841         & woman        & not alone   \\\\\n",
       "\t good         & no           & 12           & good         & professional & 2122         & man          & alone       \\\\\n",
       "\t good         & no           & 12           & good         & professional & 2171         & man          & alone       \\\\\n",
       "\t good         & no           & 10           & good         & professional & 2241         & man          & alone       \\\\\n",
       "\\end{tabular}\n"
      ],
      "text/markdown": [
       "\n",
       "solvency | account | loan_duration | prev_pay_behavior | loan_use | credit | sex | civ_state | \n",
       "|---|---|---|---|---|---|\n",
       "| good         | no           | 18           | good         | private      | 1049         | woman        | not alone    | \n",
       "| good         | no           |  9           | good         | professional | 2799         | man          | alone        | \n",
       "| good         | bad          | 12           | good         | professional |  841         | woman        | not alone    | \n",
       "| good         | no           | 12           | good         | professional | 2122         | man          | alone        | \n",
       "| good         | no           | 12           | good         | professional | 2171         | man          | alone        | \n",
       "| good         | no           | 10           | good         | professional | 2241         | man          | alone        | \n",
       "\n",
       "\n"
      ],
      "text/plain": [
       "  solvency account loan_duration prev_pay_behavior loan_use     credit sex  \n",
       "1 good     no      18            good              private      1049   woman\n",
       "2 good     no       9            good              professional 2799   man  \n",
       "3 good     bad     12            good              professional  841   woman\n",
       "4 good     no      12            good              professional 2122   man  \n",
       "5 good     no      12            good              professional 2171   man  \n",
       "6 good     no      10            good              professional 2241   man  \n",
       "  civ_state\n",
       "1 not alone\n",
       "2 alone    \n",
       "3 not alone\n",
       "4 alone    \n",
       "5 alone    \n",
       "6 alone    "
      ]
     },
     "metadata": {},
     "output_type": "display_data"
    }
   ],
   "source": [
    "head(data)"
   ]
  },
  {
   "cell_type": "code",
   "execution_count": 10,
   "metadata": {},
   "outputs": [],
   "source": [
    "# Transforming factors in numerical values\n",
    "# THIS IS NOT NEEDED IN R, IT IS DONE AUTOMATICALLY.\n",
    "data_cat  <- data[, c(\"account\", \"prev_pay_behavior\", \"loan_use\", \"sex\", \"civ_state\")]"
   ]
  },
  {
   "cell_type": "code",
   "execution_count": 11,
   "metadata": {},
   "outputs": [],
   "source": [
    "data_fact  <- data.frame(model.matrix(~.-1, data))"
   ]
  },
  {
   "cell_type": "code",
   "execution_count": 12,
   "metadata": {},
   "outputs": [
    {
     "data": {
      "text/html": [
       "<table>\n",
       "<thead><tr><th scope=col>solvencygood</th><th scope=col>solvencybad</th><th scope=col>accountgood</th><th scope=col>accountbad</th><th scope=col>loan_duration</th><th scope=col>prev_pay_behaviorbad</th><th scope=col>loan_useprofessional</th><th scope=col>credit</th><th scope=col>sexman</th><th scope=col>civ_statenot.alone</th></tr></thead>\n",
       "<tbody>\n",
       "\t<tr><td>1   </td><td>0   </td><td>0   </td><td>0   </td><td>18  </td><td>0   </td><td>0   </td><td>1049</td><td>0   </td><td>1   </td></tr>\n",
       "\t<tr><td>1   </td><td>0   </td><td>0   </td><td>0   </td><td> 9  </td><td>0   </td><td>1   </td><td>2799</td><td>1   </td><td>0   </td></tr>\n",
       "\t<tr><td>1   </td><td>0   </td><td>0   </td><td>1   </td><td>12  </td><td>0   </td><td>1   </td><td> 841</td><td>0   </td><td>1   </td></tr>\n",
       "\t<tr><td>1   </td><td>0   </td><td>0   </td><td>0   </td><td>12  </td><td>0   </td><td>1   </td><td>2122</td><td>1   </td><td>0   </td></tr>\n",
       "\t<tr><td>1   </td><td>0   </td><td>0   </td><td>0   </td><td>12  </td><td>0   </td><td>1   </td><td>2171</td><td>1   </td><td>0   </td></tr>\n",
       "\t<tr><td>1   </td><td>0   </td><td>0   </td><td>0   </td><td>10  </td><td>0   </td><td>1   </td><td>2241</td><td>1   </td><td>0   </td></tr>\n",
       "</tbody>\n",
       "</table>\n"
      ],
      "text/latex": [
       "\\begin{tabular}{r|llllllllll}\n",
       " solvencygood & solvencybad & accountgood & accountbad & loan\\_duration & prev\\_pay\\_behaviorbad & loan\\_useprofessional & credit & sexman & civ\\_statenot.alone\\\\\n",
       "\\hline\n",
       "\t 1    & 0    & 0    & 0    & 18   & 0    & 0    & 1049 & 0    & 1   \\\\\n",
       "\t 1    & 0    & 0    & 0    &  9   & 0    & 1    & 2799 & 1    & 0   \\\\\n",
       "\t 1    & 0    & 0    & 1    & 12   & 0    & 1    &  841 & 0    & 1   \\\\\n",
       "\t 1    & 0    & 0    & 0    & 12   & 0    & 1    & 2122 & 1    & 0   \\\\\n",
       "\t 1    & 0    & 0    & 0    & 12   & 0    & 1    & 2171 & 1    & 0   \\\\\n",
       "\t 1    & 0    & 0    & 0    & 10   & 0    & 1    & 2241 & 1    & 0   \\\\\n",
       "\\end{tabular}\n"
      ],
      "text/markdown": [
       "\n",
       "solvencygood | solvencybad | accountgood | accountbad | loan_duration | prev_pay_behaviorbad | loan_useprofessional | credit | sexman | civ_statenot.alone | \n",
       "|---|---|---|---|---|---|\n",
       "| 1    | 0    | 0    | 0    | 18   | 0    | 0    | 1049 | 0    | 1    | \n",
       "| 1    | 0    | 0    | 0    |  9   | 0    | 1    | 2799 | 1    | 0    | \n",
       "| 1    | 0    | 0    | 1    | 12   | 0    | 1    |  841 | 0    | 1    | \n",
       "| 1    | 0    | 0    | 0    | 12   | 0    | 1    | 2122 | 1    | 0    | \n",
       "| 1    | 0    | 0    | 0    | 12   | 0    | 1    | 2171 | 1    | 0    | \n",
       "| 1    | 0    | 0    | 0    | 10   | 0    | 1    | 2241 | 1    | 0    | \n",
       "\n",
       "\n"
      ],
      "text/plain": [
       "  solvencygood solvencybad accountgood accountbad loan_duration\n",
       "1 1            0           0           0          18           \n",
       "2 1            0           0           0           9           \n",
       "3 1            0           0           1          12           \n",
       "4 1            0           0           0          12           \n",
       "5 1            0           0           0          12           \n",
       "6 1            0           0           0          10           \n",
       "  prev_pay_behaviorbad loan_useprofessional credit sexman civ_statenot.alone\n",
       "1 0                    0                    1049   0      1                 \n",
       "2 0                    1                    2799   1      0                 \n",
       "3 0                    1                     841   0      1                 \n",
       "4 0                    1                    2122   1      0                 \n",
       "5 0                    1                    2171   1      0                 \n",
       "6 0                    1                    2241   1      0                 "
      ]
     },
     "metadata": {},
     "output_type": "display_data"
    }
   ],
   "source": [
    "head(data_fact)"
   ]
  },
  {
   "cell_type": "code",
   "execution_count": 13,
   "metadata": {},
   "outputs": [],
   "source": [
    "data_fact <- data_fact[,!(names(data_fact) %in% c(\"solvencygood\", \"solvencybad\"))]"
   ]
  },
  {
   "cell_type": "code",
   "execution_count": 14,
   "metadata": {},
   "outputs": [],
   "source": [
    "data_fact$y  <- data$solvency"
   ]
  },
  {
   "cell_type": "code",
   "execution_count": 15,
   "metadata": {},
   "outputs": [],
   "source": [
    "data_fact$y  <- as.numeric(data_fact$y)"
   ]
  },
  {
   "cell_type": "code",
   "execution_count": 16,
   "metadata": {},
   "outputs": [],
   "source": [
    "data_fact$y  <- data_fact$y - 1"
   ]
  },
  {
   "cell_type": "code",
   "execution_count": 17,
   "metadata": {},
   "outputs": [
    {
     "data": {
      "text/html": [
       "<table>\n",
       "<thead><tr><th scope=col>accountgood</th><th scope=col>accountbad</th><th scope=col>loan_duration</th><th scope=col>prev_pay_behaviorbad</th><th scope=col>loan_useprofessional</th><th scope=col>credit</th><th scope=col>sexman</th><th scope=col>civ_statenot.alone</th><th scope=col>y</th></tr></thead>\n",
       "<tbody>\n",
       "\t<tr><td>0   </td><td>0   </td><td>18  </td><td>0   </td><td>0   </td><td>1049</td><td>0   </td><td>1   </td><td>0   </td></tr>\n",
       "\t<tr><td>0   </td><td>0   </td><td> 9  </td><td>0   </td><td>1   </td><td>2799</td><td>1   </td><td>0   </td><td>0   </td></tr>\n",
       "\t<tr><td>0   </td><td>1   </td><td>12  </td><td>0   </td><td>1   </td><td> 841</td><td>0   </td><td>1   </td><td>0   </td></tr>\n",
       "\t<tr><td>0   </td><td>0   </td><td>12  </td><td>0   </td><td>1   </td><td>2122</td><td>1   </td><td>0   </td><td>0   </td></tr>\n",
       "\t<tr><td>0   </td><td>0   </td><td>12  </td><td>0   </td><td>1   </td><td>2171</td><td>1   </td><td>0   </td><td>0   </td></tr>\n",
       "\t<tr><td>0   </td><td>0   </td><td>10  </td><td>0   </td><td>1   </td><td>2241</td><td>1   </td><td>0   </td><td>0   </td></tr>\n",
       "</tbody>\n",
       "</table>\n"
      ],
      "text/latex": [
       "\\begin{tabular}{r|lllllllll}\n",
       " accountgood & accountbad & loan\\_duration & prev\\_pay\\_behaviorbad & loan\\_useprofessional & credit & sexman & civ\\_statenot.alone & y\\\\\n",
       "\\hline\n",
       "\t 0    & 0    & 18   & 0    & 0    & 1049 & 0    & 1    & 0   \\\\\n",
       "\t 0    & 0    &  9   & 0    & 1    & 2799 & 1    & 0    & 0   \\\\\n",
       "\t 0    & 1    & 12   & 0    & 1    &  841 & 0    & 1    & 0   \\\\\n",
       "\t 0    & 0    & 12   & 0    & 1    & 2122 & 1    & 0    & 0   \\\\\n",
       "\t 0    & 0    & 12   & 0    & 1    & 2171 & 1    & 0    & 0   \\\\\n",
       "\t 0    & 0    & 10   & 0    & 1    & 2241 & 1    & 0    & 0   \\\\\n",
       "\\end{tabular}\n"
      ],
      "text/markdown": [
       "\n",
       "accountgood | accountbad | loan_duration | prev_pay_behaviorbad | loan_useprofessional | credit | sexman | civ_statenot.alone | y | \n",
       "|---|---|---|---|---|---|\n",
       "| 0    | 0    | 18   | 0    | 0    | 1049 | 0    | 1    | 0    | \n",
       "| 0    | 0    |  9   | 0    | 1    | 2799 | 1    | 0    | 0    | \n",
       "| 0    | 1    | 12   | 0    | 1    |  841 | 0    | 1    | 0    | \n",
       "| 0    | 0    | 12   | 0    | 1    | 2122 | 1    | 0    | 0    | \n",
       "| 0    | 0    | 12   | 0    | 1    | 2171 | 1    | 0    | 0    | \n",
       "| 0    | 0    | 10   | 0    | 1    | 2241 | 1    | 0    | 0    | \n",
       "\n",
       "\n"
      ],
      "text/plain": [
       "  accountgood accountbad loan_duration prev_pay_behaviorbad\n",
       "1 0           0          18            0                   \n",
       "2 0           0           9            0                   \n",
       "3 0           1          12            0                   \n",
       "4 0           0          12            0                   \n",
       "5 0           0          12            0                   \n",
       "6 0           0          10            0                   \n",
       "  loan_useprofessional credit sexman civ_statenot.alone y\n",
       "1 0                    1049   0      1                  0\n",
       "2 1                    2799   1      0                  0\n",
       "3 1                     841   0      1                  0\n",
       "4 1                    2122   1      0                  0\n",
       "5 1                    2171   1      0                  0\n",
       "6 1                    2241   1      0                  0"
      ]
     },
     "metadata": {},
     "output_type": "display_data"
    }
   ],
   "source": [
    "head(data_fact)"
   ]
  },
  {
   "cell_type": "code",
   "execution_count": 18,
   "metadata": {},
   "outputs": [
    {
     "data": {
      "image/png": "[encoded data removed]",
      "text/plain": [
       "plot without title"
      ]
     },
     "metadata": {},
     "output_type": "display_data"
    }
   ],
   "source": [
    "data$solvency  %>% table %>% barplot"
   ]
  },
  {
   "cell_type": "code",
   "execution_count": 19,
   "metadata": {},
   "outputs": [
    {
     "data": {
      "text/plain": [
       "\n",
       "Call:\n",
       "glm(formula = y ~ ., family = binomial(link = logit), data = data_fact)\n",
       "\n",
       "Deviance Residuals: \n",
       "    Min       1Q   Median       3Q      Max  \n",
       "-2.0572  -0.8050  -0.4581   0.9483   2.4655  \n",
       "\n",
       "Coefficients:\n",
       "                       Estimate Std. Error z value Pr(>|z|)    \n",
       "(Intercept)          -1.178e+00  2.693e-01  -4.374 1.22e-05 ***\n",
       "accountgood          -1.952e+00  2.060e-01  -9.472  < 2e-16 ***\n",
       "accountbad           -6.346e-01  1.764e-01  -3.598 0.000321 ***\n",
       "loan_duration         3.503e-02  7.849e-03   4.463 8.10e-06 ***\n",
       "prev_pay_behaviorbad  9.884e-01  2.529e-01   3.907 9.33e-05 ***\n",
       "loan_useprofessional  4.744e-01  1.605e-01   2.956 0.003112 ** \n",
       "credit                3.242e-05  3.335e-05   0.972 0.330893    \n",
       "sexman               -2.235e-01  2.208e-01  -1.012 0.311453    \n",
       "civ_statenot.alone    3.854e-01  2.194e-01   1.757 0.078921 .  \n",
       "---\n",
       "Signif. codes:  0 ‘***’ 0.001 ‘**’ 0.01 ‘*’ 0.05 ‘.’ 0.1 ‘ ’ 1\n",
       "\n",
       "(Dispersion parameter for binomial family taken to be 1)\n",
       "\n",
       "    Null deviance: 1221.7  on 999  degrees of freedom\n",
       "Residual deviance: 1017.3  on 991  degrees of freedom\n",
       "AIC: 1035.3\n",
       "\n",
       "Number of Fisher Scoring iterations: 4\n"
      ]
     },
     "metadata": {},
     "output_type": "display_data"
    }
   ],
   "source": [
    "# We see relevant variables\n",
    "mod_c <- glm(y ~ ., family = binomial(link = logit), data = data_fact)\n",
    "summary(mod_c)"
   ]
  },
  {
   "cell_type": "code",
   "execution_count": 20,
   "metadata": {},
   "outputs": [
    {
     "data": {
      "text/html": [
       "<dl class=dl-horizontal>\n",
       "\t<dt>accountgood</dt>\n",
       "\t\t<dd>0.142036045884893</dd>\n",
       "\t<dt>accountbad</dt>\n",
       "\t\t<dd>0.530122122482533</dd>\n",
       "\t<dt>prev_pay_behaviorbad</dt>\n",
       "\t\t<dd>2.68685328835642</dd>\n",
       "\t<dt>loan_useprofessional</dt>\n",
       "\t\t<dd>1.60704689843638</dd>\n",
       "</dl>\n"
      ],
      "text/latex": [
       "\\begin{description*}\n",
       "\\item[accountgood] 0.142036045884893\n",
       "\\item[accountbad] 0.530122122482533\n",
       "\\item[prev\\textbackslash{}\\_pay\\textbackslash{}\\_behaviorbad] 2.68685328835642\n",
       "\\item[loan\\textbackslash{}\\_useprofessional] 1.60704689843638\n",
       "\\end{description*}\n"
      ],
      "text/markdown": [
       "accountgood\n",
       ":   0.142036045884893accountbad\n",
       ":   0.530122122482533prev_pay_behaviorbad\n",
       ":   2.68685328835642loan_useprofessional\n",
       ":   1.60704689843638\n",
       "\n"
      ],
      "text/plain": [
       "         accountgood           accountbad prev_pay_behaviorbad \n",
       "           0.1420360            0.5301221            2.6868533 \n",
       "loan_useprofessional \n",
       "           1.6070469 "
      ]
     },
     "metadata": {},
     "output_type": "display_data"
    }
   ],
   "source": [
    "# This represent the odds\n",
    "# For example, a person with prev_pay_behavior = bad is almost 3 times more\n",
    "# likely to be insolvent than those with good prev pay behavior\n",
    "exp(mod_c$coefficients[c(2:3, 5, 6)])"
   ]
  },
  {
   "cell_type": "code",
   "execution_count": 21,
   "metadata": {},
   "outputs": [
    {
     "data": {
      "text/plain": [
       "\n",
       "Call:\n",
       "glm(formula = solvency ~ . + I(loan_duration^2) + I(credit^2), \n",
       "    family = binomial(link = logit), data = data)\n",
       "\n",
       "Deviance Residuals: \n",
       "    Min       1Q   Median       3Q      Max  \n",
       "-2.5094  -0.7844  -0.4684   0.9195   2.5150  \n",
       "\n",
       "Coefficients:\n",
       "                       Estimate Std. Error z value Pr(>|z|)    \n",
       "(Intercept)          -1.385e+00  3.665e-01  -3.780 0.000157 ***\n",
       "accountgood          -1.950e+00  2.070e-01  -9.419  < 2e-16 ***\n",
       "accountbad           -6.324e-01  1.777e-01  -3.558 0.000373 ***\n",
       "loan_duration         9.126e-02  2.545e-02   3.586 0.000335 ***\n",
       "prev_pay_behaviorbad  9.964e-01  2.565e-01   3.885 0.000102 ***\n",
       "loan_useprofessional  4.481e-01  1.623e-01   2.762 0.005751 ** \n",
       "credit               -2.449e-04  1.000e-04  -2.448 0.014361 *  \n",
       "sexman               -1.764e-01  2.218e-01  -0.795 0.426536    \n",
       "civ_statenot alone    3.991e-01  2.205e-01   1.810 0.070252 .  \n",
       "I(loan_duration^2)   -8.666e-04  4.149e-04  -2.089 0.036745 *  \n",
       "I(credit^2)           2.203e-08  7.528e-09   2.927 0.003424 ** \n",
       "---\n",
       "Signif. codes:  0 ‘***’ 0.001 ‘**’ 0.01 ‘*’ 0.05 ‘.’ 0.1 ‘ ’ 1\n",
       "\n",
       "(Dispersion parameter for binomial family taken to be 1)\n",
       "\n",
       "    Null deviance: 1221.7  on 999  degrees of freedom\n",
       "Residual deviance: 1006.2  on 989  degrees of freedom\n",
       "AIC: 1028.2\n",
       "\n",
       "Number of Fisher Scoring iterations: 4\n"
      ]
     },
     "metadata": {},
     "output_type": "display_data"
    }
   ],
   "source": [
    "# A more complex model, which improves performances (see lower AIC)\n",
    "mod2 <- glm(formula = solvency ~ . + I(loan_duration^2) + I(credit^2), family = binomial(link = logit), data = data)\n",
    "summary(mod2)"
   ]
  },
  {
   "cell_type": "code",
   "execution_count": 22,
   "metadata": {},
   "outputs": [
    {
     "data": {
      "text/html": [
       "<table>\n",
       "<thead><tr><th scope=col>solvency</th><th scope=col>account</th><th scope=col>loan_duration</th><th scope=col>prev_pay_behavior</th><th scope=col>loan_use</th><th scope=col>credit</th><th scope=col>sex</th><th scope=col>civ_state</th></tr></thead>\n",
       "<tbody>\n",
       "\t<tr><td>good        </td><td>no          </td><td>18          </td><td>good        </td><td>private     </td><td>1049        </td><td>woman       </td><td>not alone   </td></tr>\n",
       "\t<tr><td>good        </td><td>no          </td><td> 9          </td><td>good        </td><td>professional</td><td>2799        </td><td>man         </td><td>alone       </td></tr>\n",
       "\t<tr><td>good        </td><td>bad         </td><td>12          </td><td>good        </td><td>professional</td><td> 841        </td><td>woman       </td><td>not alone   </td></tr>\n",
       "\t<tr><td>good        </td><td>no          </td><td>12          </td><td>good        </td><td>professional</td><td>2122        </td><td>man         </td><td>alone       </td></tr>\n",
       "\t<tr><td>good        </td><td>no          </td><td>12          </td><td>good        </td><td>professional</td><td>2171        </td><td>man         </td><td>alone       </td></tr>\n",
       "\t<tr><td>good        </td><td>no          </td><td>10          </td><td>good        </td><td>professional</td><td>2241        </td><td>man         </td><td>alone       </td></tr>\n",
       "</tbody>\n",
       "</table>\n"
      ],
      "text/latex": [
       "\\begin{tabular}{r|llllllll}\n",
       " solvency & account & loan\\_duration & prev\\_pay\\_behavior & loan\\_use & credit & sex & civ\\_state\\\\\n",
       "\\hline\n",
       "\t good         & no           & 18           & good         & private      & 1049         & woman        & not alone   \\\\\n",
       "\t good         & no           &  9           & good         & professional & 2799         & man          & alone       \\\\\n",
       "\t good         & bad          & 12           & good         & professional &  841         & woman        & not alone   \\\\\n",
       "\t good         & no           & 12           & good         & professional & 2122         & man          & alone       \\\\\n",
       "\t good         & no           & 12           & good         & professional & 2171         & man          & alone       \\\\\n",
       "\t good         & no           & 10           & good         & professional & 2241         & man          & alone       \\\\\n",
       "\\end{tabular}\n"
      ],
      "text/markdown": [
       "\n",
       "solvency | account | loan_duration | prev_pay_behavior | loan_use | credit | sex | civ_state | \n",
       "|---|---|---|---|---|---|\n",
       "| good         | no           | 18           | good         | private      | 1049         | woman        | not alone    | \n",
       "| good         | no           |  9           | good         | professional | 2799         | man          | alone        | \n",
       "| good         | bad          | 12           | good         | professional |  841         | woman        | not alone    | \n",
       "| good         | no           | 12           | good         | professional | 2122         | man          | alone        | \n",
       "| good         | no           | 12           | good         | professional | 2171         | man          | alone        | \n",
       "| good         | no           | 10           | good         | professional | 2241         | man          | alone        | \n",
       "\n",
       "\n"
      ],
      "text/plain": [
       "  solvency account loan_duration prev_pay_behavior loan_use     credit sex  \n",
       "1 good     no      18            good              private      1049   woman\n",
       "2 good     no       9            good              professional 2799   man  \n",
       "3 good     bad     12            good              professional  841   woman\n",
       "4 good     no      12            good              professional 2122   man  \n",
       "5 good     no      12            good              professional 2171   man  \n",
       "6 good     no      10            good              professional 2241   man  \n",
       "  civ_state\n",
       "1 not alone\n",
       "2 alone    \n",
       "3 not alone\n",
       "4 alone    \n",
       "5 alone    \n",
       "6 alone    "
      ]
     },
     "metadata": {},
     "output_type": "display_data"
    }
   ],
   "source": [
    "head(data)"
   ]
  },
  {
   "cell_type": "code",
   "execution_count": 23,
   "metadata": {},
   "outputs": [
    {
     "data": {
      "text/html": [
       "<ol class=list-inline>\n",
       "\t<li>'account'</li>\n",
       "\t<li>'prev_pay_behavior'</li>\n",
       "\t<li>'loan_use'</li>\n",
       "\t<li>'sex'</li>\n",
       "\t<li>'civ_state'</li>\n",
       "</ol>\n"
      ],
      "text/latex": [
       "\\begin{enumerate*}\n",
       "\\item 'account'\n",
       "\\item 'prev\\_pay\\_behavior'\n",
       "\\item 'loan\\_use'\n",
       "\\item 'sex'\n",
       "\\item 'civ\\_state'\n",
       "\\end{enumerate*}\n"
      ],
      "text/markdown": [
       "1. 'account'\n",
       "2. 'prev_pay_behavior'\n",
       "3. 'loan_use'\n",
       "4. 'sex'\n",
       "5. 'civ_state'\n",
       "\n",
       "\n"
      ],
      "text/plain": [
       "[1] \"account\"           \"prev_pay_behavior\" \"loan_use\"         \n",
       "[4] \"sex\"               \"civ_state\"        "
      ]
     },
     "metadata": {},
     "output_type": "display_data"
    },
    {
     "data": {
      "text/html": [
       "<strong>1:</strong> 0.397655945739708"
      ],
      "text/latex": [
       "\\textbf{1:} 0.397655945739708"
      ],
      "text/markdown": [
       "**1:** 0.397655945739708"
      ],
      "text/plain": [
       "        1 \n",
       "0.3976559 "
      ]
     },
     "metadata": {},
     "output_type": "display_data"
    }
   ],
   "source": [
    "# Prediction\n",
    "c(\"account\", \"prev_pay_behavior\", \"loan_use\", \"sex\", \"civ_state\")\n",
    "newclient <- data.frame(account=\"no\", \n",
    "                        loan_duration=12,\n",
    "                        prev_pay_behavior=\"good\",\n",
    "                        loan_use = \"private\",\n",
    "                        credit = 1000,\n",
    "                        sex = \"man\",\n",
    "                        civ_state = \"not alone\")\n",
    "predict(mod2, newdata=newclient, type=\"response\")"
   ]
  },
  {
   "cell_type": "code",
   "execution_count": 24,
   "metadata": {},
   "outputs": [
    {
     "data": {
      "text/html": [
       "<table>\n",
       "<thead><tr><th scope=col>account</th><th scope=col>loan_duration</th><th scope=col>prev_pay_behavior</th><th scope=col>loan_use</th><th scope=col>credit</th><th scope=col>sex</th><th scope=col>civ_state</th><th scope=col>solvency</th></tr></thead>\n",
       "<tbody>\n",
       "\t<tr><td>no          </td><td>18          </td><td>good        </td><td>private     </td><td>1049        </td><td>woman       </td><td>not alone   </td><td>good        </td></tr>\n",
       "\t<tr><td>no          </td><td> 9          </td><td>good        </td><td>professional</td><td>2799        </td><td>man         </td><td>alone       </td><td>good        </td></tr>\n",
       "\t<tr><td>bad         </td><td>12          </td><td>good        </td><td>professional</td><td> 841        </td><td>woman       </td><td>not alone   </td><td>good        </td></tr>\n",
       "\t<tr><td>no          </td><td>12          </td><td>good        </td><td>professional</td><td>2122        </td><td>man         </td><td>alone       </td><td>good        </td></tr>\n",
       "\t<tr><td>no          </td><td>12          </td><td>good        </td><td>professional</td><td>2171        </td><td>man         </td><td>alone       </td><td>good        </td></tr>\n",
       "\t<tr><td>no          </td><td>10          </td><td>good        </td><td>professional</td><td>2241        </td><td>man         </td><td>alone       </td><td>good        </td></tr>\n",
       "</tbody>\n",
       "</table>\n"
      ],
      "text/latex": [
       "\\begin{tabular}{r|llllllll}\n",
       " account & loan\\_duration & prev\\_pay\\_behavior & loan\\_use & credit & sex & civ\\_state & solvency\\\\\n",
       "\\hline\n",
       "\t no           & 18           & good         & private      & 1049         & woman        & not alone    & good        \\\\\n",
       "\t no           &  9           & good         & professional & 2799         & man          & alone        & good        \\\\\n",
       "\t bad          & 12           & good         & professional &  841         & woman        & not alone    & good        \\\\\n",
       "\t no           & 12           & good         & professional & 2122         & man          & alone        & good        \\\\\n",
       "\t no           & 12           & good         & professional & 2171         & man          & alone        & good        \\\\\n",
       "\t no           & 10           & good         & professional & 2241         & man          & alone        & good        \\\\\n",
       "\\end{tabular}\n"
      ],
      "text/markdown": [
       "\n",
       "account | loan_duration | prev_pay_behavior | loan_use | credit | sex | civ_state | solvency | \n",
       "|---|---|---|---|---|---|\n",
       "| no           | 18           | good         | private      | 1049         | woman        | not alone    | good         | \n",
       "| no           |  9           | good         | professional | 2799         | man          | alone        | good         | \n",
       "| bad          | 12           | good         | professional |  841         | woman        | not alone    | good         | \n",
       "| no           | 12           | good         | professional | 2122         | man          | alone        | good         | \n",
       "| no           | 12           | good         | professional | 2171         | man          | alone        | good         | \n",
       "| no           | 10           | good         | professional | 2241         | man          | alone        | good         | \n",
       "\n",
       "\n"
      ],
      "text/plain": [
       "  account loan_duration prev_pay_behavior loan_use     credit sex   civ_state\n",
       "1 no      18            good              private      1049   woman not alone\n",
       "2 no       9            good              professional 2799   man   alone    \n",
       "3 bad     12            good              professional  841   woman not alone\n",
       "4 no      12            good              professional 2122   man   alone    \n",
       "5 no      12            good              professional 2171   man   alone    \n",
       "6 no      10            good              professional 2241   man   alone    \n",
       "  solvency\n",
       "1 good    \n",
       "2 good    \n",
       "3 good    \n",
       "4 good    \n",
       "5 good    \n",
       "6 good    "
      ]
     },
     "metadata": {},
     "output_type": "display_data"
    }
   ],
   "source": [
    "# Best subset selection\n",
    "Xy = data[, 2:8]\n",
    "Xy$solvency = data$solvency\n",
    "head(Xy)"
   ]
  },
  {
   "cell_type": "code",
   "execution_count": 25,
   "metadata": {},
   "outputs": [
    {
     "name": "stderr",
     "output_type": "stream",
     "text": [
      "Morgan-Tatar search since family is non-gaussian.\n",
      "Note: factors present with more than 2 levels.\n"
     ]
    }
   ],
   "source": [
    "bestlogistic <- bestglm(Xy = Xy, family = binomial(link = logit), IC = \"AIC\")"
   ]
  },
  {
   "cell_type": "code",
   "execution_count": 26,
   "metadata": {},
   "outputs": [
    {
     "data": {
      "text/html": [
       "<table>\n",
       "<thead><tr><th scope=col>account</th><th scope=col>loan_duration</th><th scope=col>prev_pay_behavior</th><th scope=col>loan_use</th><th scope=col>credit</th><th scope=col>sex</th><th scope=col>civ_state</th><th scope=col>Criterion</th></tr></thead>\n",
       "<tbody>\n",
       "\t<tr><td>TRUE    </td><td>TRUE    </td><td>TRUE    </td><td>TRUE    </td><td>FALSE   </td><td>FALSE   </td><td> TRUE   </td><td>1031.099</td></tr>\n",
       "\t<tr><td>TRUE    </td><td>TRUE    </td><td>TRUE    </td><td>TRUE    </td><td>FALSE   </td><td> TRUE   </td><td> TRUE   </td><td>1032.289</td></tr>\n",
       "\t<tr><td>TRUE    </td><td>TRUE    </td><td>TRUE    </td><td>TRUE    </td><td> TRUE   </td><td>FALSE   </td><td> TRUE   </td><td>1032.366</td></tr>\n",
       "\t<tr><td>TRUE    </td><td>TRUE    </td><td>TRUE    </td><td>TRUE    </td><td> TRUE   </td><td> TRUE   </td><td> TRUE   </td><td>1033.347</td></tr>\n",
       "\t<tr><td>TRUE    </td><td>TRUE    </td><td>TRUE    </td><td>TRUE    </td><td>FALSE   </td><td> TRUE   </td><td>FALSE   </td><td>1033.602</td></tr>\n",
       "</tbody>\n",
       "</table>\n"
      ],
      "text/latex": [
       "\\begin{tabular}{r|llllllll}\n",
       " account & loan\\_duration & prev\\_pay\\_behavior & loan\\_use & credit & sex & civ\\_state & Criterion\\\\\n",
       "\\hline\n",
       "\t TRUE     & TRUE     & TRUE     & TRUE     & FALSE    & FALSE    &  TRUE    & 1031.099\\\\\n",
       "\t TRUE     & TRUE     & TRUE     & TRUE     & FALSE    &  TRUE    &  TRUE    & 1032.289\\\\\n",
       "\t TRUE     & TRUE     & TRUE     & TRUE     &  TRUE    & FALSE    &  TRUE    & 1032.366\\\\\n",
       "\t TRUE     & TRUE     & TRUE     & TRUE     &  TRUE    &  TRUE    &  TRUE    & 1033.347\\\\\n",
       "\t TRUE     & TRUE     & TRUE     & TRUE     & FALSE    &  TRUE    & FALSE    & 1033.602\\\\\n",
       "\\end{tabular}\n"
      ],
      "text/markdown": [
       "\n",
       "account | loan_duration | prev_pay_behavior | loan_use | credit | sex | civ_state | Criterion | \n",
       "|---|---|---|---|---|\n",
       "| TRUE     | TRUE     | TRUE     | TRUE     | FALSE    | FALSE    |  TRUE    | 1031.099 | \n",
       "| TRUE     | TRUE     | TRUE     | TRUE     | FALSE    |  TRUE    |  TRUE    | 1032.289 | \n",
       "| TRUE     | TRUE     | TRUE     | TRUE     |  TRUE    | FALSE    |  TRUE    | 1032.366 | \n",
       "| TRUE     | TRUE     | TRUE     | TRUE     |  TRUE    |  TRUE    |  TRUE    | 1033.347 | \n",
       "| TRUE     | TRUE     | TRUE     | TRUE     | FALSE    |  TRUE    | FALSE    | 1033.602 | \n",
       "\n",
       "\n"
      ],
      "text/plain": [
       "  account loan_duration prev_pay_behavior loan_use credit sex   civ_state\n",
       "1 TRUE    TRUE          TRUE              TRUE     FALSE  FALSE  TRUE    \n",
       "2 TRUE    TRUE          TRUE              TRUE     FALSE   TRUE  TRUE    \n",
       "3 TRUE    TRUE          TRUE              TRUE      TRUE  FALSE  TRUE    \n",
       "4 TRUE    TRUE          TRUE              TRUE      TRUE   TRUE  TRUE    \n",
       "5 TRUE    TRUE          TRUE              TRUE     FALSE   TRUE FALSE    \n",
       "  Criterion\n",
       "1 1031.099 \n",
       "2 1032.289 \n",
       "3 1032.366 \n",
       "4 1033.347 \n",
       "5 1033.602 "
      ]
     },
     "metadata": {},
     "output_type": "display_data"
    }
   ],
   "source": [
    "bestlogistic$BestModels"
   ]
  },
  {
   "cell_type": "code",
   "execution_count": 27,
   "metadata": {},
   "outputs": [
    {
     "data": {
      "text/plain": [
       "\n",
       "Call:\n",
       "glm(formula = y ~ ., family = family, data = Xi, weights = weights)\n",
       "\n",
       "Deviance Residuals: \n",
       "    Min       1Q   Median       3Q      Max  \n",
       "-2.0158  -0.8036  -0.4555   0.9417   2.4438  \n",
       "\n",
       "Coefficients:\n",
       "                      Estimate Std. Error z value Pr(>|z|)    \n",
       "(Intercept)          -1.346193   0.210336  -6.400 1.55e-10 ***\n",
       "accountgood          -1.937717   0.205460  -9.431  < 2e-16 ***\n",
       "accountbad           -0.617390   0.175739  -3.513 0.000443 ***\n",
       "loan_duration         0.038855   0.006294   6.174 6.67e-10 ***\n",
       "prev_pay_behaviorbad  0.987716   0.252670   3.909 9.26e-05 ***\n",
       "loan_useprofessional  0.469401   0.159682   2.940 0.003286 ** \n",
       "civ_statenot alone    0.532731   0.159122   3.348 0.000814 ***\n",
       "---\n",
       "Signif. codes:  0 ‘***’ 0.001 ‘**’ 0.01 ‘*’ 0.05 ‘.’ 0.1 ‘ ’ 1\n",
       "\n",
       "(Dispersion parameter for binomial family taken to be 1)\n",
       "\n",
       "    Null deviance: 1221.7  on 999  degrees of freedom\n",
       "Residual deviance: 1019.1  on 993  degrees of freedom\n",
       "AIC: 1033.1\n",
       "\n",
       "Number of Fisher Scoring iterations: 4\n"
      ]
     },
     "metadata": {},
     "output_type": "display_data"
    }
   ],
   "source": [
    "summary(bestlogistic$BestModel)"
   ]
  },
  {
   "cell_type": "code",
   "execution_count": 28,
   "metadata": {},
   "outputs": [
    {
     "data": {
      "text/html": [
       "<table>\n",
       "<thead><tr><th scope=col>account</th><th scope=col>loan_duration</th><th scope=col>prev_pay_behavior</th><th scope=col>loan_use</th><th scope=col>credit</th><th scope=col>sex</th><th scope=col>civ_state</th><th scope=col>loan_duration2</th><th scope=col>credit2</th><th scope=col>solvency</th></tr></thead>\n",
       "<tbody>\n",
       "\t<tr><td>no          </td><td>18          </td><td>good        </td><td>private     </td><td>1049        </td><td>woman       </td><td>not alone   </td><td>324         </td><td>1100401     </td><td>good        </td></tr>\n",
       "\t<tr><td>no          </td><td> 9          </td><td>good        </td><td>professional</td><td>2799        </td><td>man         </td><td>alone       </td><td> 81         </td><td>7834401     </td><td>good        </td></tr>\n",
       "\t<tr><td>bad         </td><td>12          </td><td>good        </td><td>professional</td><td> 841        </td><td>woman       </td><td>not alone   </td><td>144         </td><td> 707281     </td><td>good        </td></tr>\n",
       "\t<tr><td>no          </td><td>12          </td><td>good        </td><td>professional</td><td>2122        </td><td>man         </td><td>alone       </td><td>144         </td><td>4502884     </td><td>good        </td></tr>\n",
       "\t<tr><td>no          </td><td>12          </td><td>good        </td><td>professional</td><td>2171        </td><td>man         </td><td>alone       </td><td>144         </td><td>4713241     </td><td>good        </td></tr>\n",
       "\t<tr><td>no          </td><td>10          </td><td>good        </td><td>professional</td><td>2241        </td><td>man         </td><td>alone       </td><td>100         </td><td>5022081     </td><td>good        </td></tr>\n",
       "</tbody>\n",
       "</table>\n"
      ],
      "text/latex": [
       "\\begin{tabular}{r|llllllllll}\n",
       " account & loan\\_duration & prev\\_pay\\_behavior & loan\\_use & credit & sex & civ\\_state & loan\\_duration2 & credit2 & solvency\\\\\n",
       "\\hline\n",
       "\t no           & 18           & good         & private      & 1049         & woman        & not alone    & 324          & 1100401      & good        \\\\\n",
       "\t no           &  9           & good         & professional & 2799         & man          & alone        &  81          & 7834401      & good        \\\\\n",
       "\t bad          & 12           & good         & professional &  841         & woman        & not alone    & 144          &  707281      & good        \\\\\n",
       "\t no           & 12           & good         & professional & 2122         & man          & alone        & 144          & 4502884      & good        \\\\\n",
       "\t no           & 12           & good         & professional & 2171         & man          & alone        & 144          & 4713241      & good        \\\\\n",
       "\t no           & 10           & good         & professional & 2241         & man          & alone        & 100          & 5022081      & good        \\\\\n",
       "\\end{tabular}\n"
      ],
      "text/markdown": [
       "\n",
       "account | loan_duration | prev_pay_behavior | loan_use | credit | sex | civ_state | loan_duration2 | credit2 | solvency | \n",
       "|---|---|---|---|---|---|\n",
       "| no           | 18           | good         | private      | 1049         | woman        | not alone    | 324          | 1100401      | good         | \n",
       "| no           |  9           | good         | professional | 2799         | man          | alone        |  81          | 7834401      | good         | \n",
       "| bad          | 12           | good         | professional |  841         | woman        | not alone    | 144          |  707281      | good         | \n",
       "| no           | 12           | good         | professional | 2122         | man          | alone        | 144          | 4502884      | good         | \n",
       "| no           | 12           | good         | professional | 2171         | man          | alone        | 144          | 4713241      | good         | \n",
       "| no           | 10           | good         | professional | 2241         | man          | alone        | 100          | 5022081      | good         | \n",
       "\n",
       "\n"
      ],
      "text/plain": [
       "  account loan_duration prev_pay_behavior loan_use     credit sex   civ_state\n",
       "1 no      18            good              private      1049   woman not alone\n",
       "2 no       9            good              professional 2799   man   alone    \n",
       "3 bad     12            good              professional  841   woman not alone\n",
       "4 no      12            good              professional 2122   man   alone    \n",
       "5 no      12            good              professional 2171   man   alone    \n",
       "6 no      10            good              professional 2241   man   alone    \n",
       "  loan_duration2 credit2 solvency\n",
       "1 324            1100401 good    \n",
       "2  81            7834401 good    \n",
       "3 144             707281 good    \n",
       "4 144            4502884 good    \n",
       "5 144            4713241 good    \n",
       "6 100            5022081 good    "
      ]
     },
     "metadata": {},
     "output_type": "display_data"
    }
   ],
   "source": [
    "# Add transformations of credit and loan_duration to Xy\n",
    "Xy  <- Xy[, 1:7]\n",
    "Xy$loan_duration2  <- data$loan_duration^2\n",
    "Xy$credit2 <- data$credit^2\n",
    "Xy$solvency  <- data$solvency\n",
    "head(Xy)"
   ]
  },
  {
   "cell_type": "code",
   "execution_count": 29,
   "metadata": {},
   "outputs": [
    {
     "name": "stderr",
     "output_type": "stream",
     "text": [
      "Morgan-Tatar search since family is non-gaussian.\n",
      "Note: factors present with more than 2 levels.\n"
     ]
    },
    {
     "data": {
      "text/html": [
       "<table>\n",
       "<thead><tr><th scope=col>account</th><th scope=col>loan_duration</th><th scope=col>prev_pay_behavior</th><th scope=col>loan_use</th><th scope=col>credit</th><th scope=col>sex</th><th scope=col>civ_state</th><th scope=col>Criterion</th></tr></thead>\n",
       "<tbody>\n",
       "\t<tr><td>TRUE    </td><td>TRUE    </td><td>TRUE    </td><td>TRUE    </td><td>FALSE   </td><td>FALSE   </td><td> TRUE   </td><td>1031.099</td></tr>\n",
       "\t<tr><td>TRUE    </td><td>TRUE    </td><td>TRUE    </td><td>TRUE    </td><td>FALSE   </td><td> TRUE   </td><td> TRUE   </td><td>1032.289</td></tr>\n",
       "\t<tr><td>TRUE    </td><td>TRUE    </td><td>TRUE    </td><td>TRUE    </td><td> TRUE   </td><td>FALSE   </td><td> TRUE   </td><td>1032.366</td></tr>\n",
       "\t<tr><td>TRUE    </td><td>TRUE    </td><td>TRUE    </td><td>TRUE    </td><td> TRUE   </td><td> TRUE   </td><td> TRUE   </td><td>1033.347</td></tr>\n",
       "\t<tr><td>TRUE    </td><td>TRUE    </td><td>TRUE    </td><td>TRUE    </td><td>FALSE   </td><td> TRUE   </td><td>FALSE   </td><td>1033.602</td></tr>\n",
       "</tbody>\n",
       "</table>\n"
      ],
      "text/latex": [
       "\\begin{tabular}{r|llllllll}\n",
       " account & loan\\_duration & prev\\_pay\\_behavior & loan\\_use & credit & sex & civ\\_state & Criterion\\\\\n",
       "\\hline\n",
       "\t TRUE     & TRUE     & TRUE     & TRUE     & FALSE    & FALSE    &  TRUE    & 1031.099\\\\\n",
       "\t TRUE     & TRUE     & TRUE     & TRUE     & FALSE    &  TRUE    &  TRUE    & 1032.289\\\\\n",
       "\t TRUE     & TRUE     & TRUE     & TRUE     &  TRUE    & FALSE    &  TRUE    & 1032.366\\\\\n",
       "\t TRUE     & TRUE     & TRUE     & TRUE     &  TRUE    &  TRUE    &  TRUE    & 1033.347\\\\\n",
       "\t TRUE     & TRUE     & TRUE     & TRUE     & FALSE    &  TRUE    & FALSE    & 1033.602\\\\\n",
       "\\end{tabular}\n"
      ],
      "text/markdown": [
       "\n",
       "account | loan_duration | prev_pay_behavior | loan_use | credit | sex | civ_state | Criterion | \n",
       "|---|---|---|---|---|\n",
       "| TRUE     | TRUE     | TRUE     | TRUE     | FALSE    | FALSE    |  TRUE    | 1031.099 | \n",
       "| TRUE     | TRUE     | TRUE     | TRUE     | FALSE    |  TRUE    |  TRUE    | 1032.289 | \n",
       "| TRUE     | TRUE     | TRUE     | TRUE     |  TRUE    | FALSE    |  TRUE    | 1032.366 | \n",
       "| TRUE     | TRUE     | TRUE     | TRUE     |  TRUE    |  TRUE    |  TRUE    | 1033.347 | \n",
       "| TRUE     | TRUE     | TRUE     | TRUE     | FALSE    |  TRUE    | FALSE    | 1033.602 | \n",
       "\n",
       "\n"
      ],
      "text/plain": [
       "  account loan_duration prev_pay_behavior loan_use credit sex   civ_state\n",
       "1 TRUE    TRUE          TRUE              TRUE     FALSE  FALSE  TRUE    \n",
       "2 TRUE    TRUE          TRUE              TRUE     FALSE   TRUE  TRUE    \n",
       "3 TRUE    TRUE          TRUE              TRUE      TRUE  FALSE  TRUE    \n",
       "4 TRUE    TRUE          TRUE              TRUE      TRUE   TRUE  TRUE    \n",
       "5 TRUE    TRUE          TRUE              TRUE     FALSE   TRUE FALSE    \n",
       "  Criterion\n",
       "1 1031.099 \n",
       "2 1032.289 \n",
       "3 1032.366 \n",
       "4 1033.347 \n",
       "5 1033.602 "
      ]
     },
     "metadata": {},
     "output_type": "display_data"
    }
   ],
   "source": [
    "bestlogistic2  <- bestglm(Xy = Xy, family = binomial(link = logit), IC = \"AIC\")\n",
    "bestlogistic$BestModels"
   ]
  },
  {
   "cell_type": "code",
   "execution_count": 30,
   "metadata": {},
   "outputs": [
    {
     "data": {
      "text/plain": [
       "\n",
       "Call:\n",
       "glm(formula = y ~ ., family = family, data = Xi, weights = weights)\n",
       "\n",
       "Deviance Residuals: \n",
       "    Min       1Q   Median       3Q      Max  \n",
       "-2.5623  -0.7934  -0.4686   0.9173   2.5127  \n",
       "\n",
       "Coefficients:\n",
       "                       Estimate Std. Error z value Pr(>|z|)    \n",
       "(Intercept)          -1.508e+00  3.333e-01  -4.524 6.06e-06 ***\n",
       "accountgood          -1.946e+00  2.069e-01  -9.406  < 2e-16 ***\n",
       "accountbad           -6.260e-01  1.774e-01  -3.528 0.000418 ***\n",
       "loan_duration         9.100e-02  2.547e-02   3.573 0.000353 ***\n",
       "prev_pay_behaviorbad  9.911e-01  2.565e-01   3.865 0.000111 ***\n",
       "loan_useprofessional  4.385e-01  1.617e-01   2.712 0.006692 ** \n",
       "credit               -2.546e-04  9.938e-05  -2.562 0.010409 *  \n",
       "civ_statenot alone    5.199e-01  1.603e-01   3.243 0.001184 ** \n",
       "loan_duration2       -8.617e-04  4.157e-04  -2.073 0.038180 *  \n",
       "credit2               2.256e-08  7.516e-09   3.001 0.002687 ** \n",
       "---\n",
       "Signif. codes:  0 ‘***’ 0.001 ‘**’ 0.01 ‘*’ 0.05 ‘.’ 0.1 ‘ ’ 1\n",
       "\n",
       "(Dispersion parameter for binomial family taken to be 1)\n",
       "\n",
       "    Null deviance: 1221.7  on 999  degrees of freedom\n",
       "Residual deviance: 1006.8  on 990  degrees of freedom\n",
       "AIC: 1026.8\n",
       "\n",
       "Number of Fisher Scoring iterations: 4\n"
      ]
     },
     "metadata": {},
     "output_type": "display_data"
    }
   ],
   "source": [
    "summary(bestlogistic2$BestModel)"
   ]
  },
  {
   "cell_type": "code",
   "execution_count": 31,
   "metadata": {},
   "outputs": [],
   "source": [
    "# We get a better model, since the AIC score is lower than before!"
   ]
  }
 ],
 "metadata": {
  "kernelspec": {
   "display_name": "R",
   "language": "R",
   "name": "ir"
  },
  "language_info": {
   "codemirror_mode": "r",
   "file_extension": ".r",
   "mimetype": "text/x-r-source",
   "name": "R",
   "pygments_lexer": "r",
   "version": "3.5.1"
  }
 },
 "nbformat": 4,
 "nbformat_minor": 2
}
