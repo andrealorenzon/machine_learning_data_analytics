{
 "cells": [
  {
   "cell_type": "markdown",
   "metadata": {},
   "source": [
    "# Classification\n",
    "\n",
    "There are two main types of classificationL\n",
    "\n",
    "* **Supervised classification**, when all the classes are known. In this case, the data are represented by a matrix having the response categorical variable $y$ in the first column.\n",
    "\n",
    "* **Cluster analysis**, where the classes are not known in advance.\n",
    "\n",
    "We the denote the set of possible classes using $G$.\n",
    "\n",
    "If the response variable takes only two values, it is called **binary variable**. If it takes more than two classes, it is called **multinomial variable**.\n",
    "\n",
    "Most common methods of classification:\n",
    "\n",
    "Logistic regression, KNN, Linear Discriminant Analysis (LDA), SVM, Decision Trees, Random Forests, GAMs $\\implies$ **supervised**\n",
    "\n",
    "Cluster analysis $\\implies$ **unsupervised**\n",
    "\n",
    "The confusion matrix shows all the missclassified examples in your sample, from which you can compute the classification error. We can compute the confusion matrix on both the train and the test sets.\n",
    "\n",
    "The global classification error is given by the classification error of each class $i$ times the probability that an individual belongs to class $i$. This is the **empyrical** or **training** classification error, and it typically underestimates the real classification error.\n",
    "\n",
    "# Logistic Regression\n",
    "\n",
    "We can model a binary classification problem as a linear problem in which the target is to predict the value of $y$ (which has to be transformed in factor beforehand) by minimizing the error of a linear model on the prediction. We can thus build a rule to represent that\n",
    "\n",
    "$y_i = 1$ if $\\hat{y} \\geq 0.5$, $y_i = 0$ if $\\hat{y} < 0.5$\n",
    "\n",
    "If $Y ~ Bern(p)$ we have that $E(Y) = 1p + 0(1-p) = p$. Thus, we can say that $E(Y) = P(1)$.\n",
    "\n",
    "We are building a model which will return $Pr(Y = 1| X)$, which is the probability of the data point belongs to the default class given its features. We will refer to it as $p(X)$, and it returns a value between 0 and 1. Linear regression doesn't estimate this probability well because some estimated probabilities are below 0 or above 1, so we use the **Logistic Regression**.\n",
    "\n",
    "If the response variable is multinomial, we can use **Multiclass Logistic Regression**.\n",
    "\n",
    "The logistic function goes as follows\n",
    "\n",
    "$$p(X) = \\frac{e^{\\beta_0 + \\beta_1X}}{1 + e^{\\beta_0 + \\beta_1X}}$$\n",
    "\n",
    "We can apply a monotonic transformation, called **log odds** or **logit function**, to obtain the linear equation representing our logistic model (defined of the $[-\\infty, \\infty]$ domain).\n",
    "\n",
    "$$log(\\frac{p(X)}{1 - p(X)} = \\beta_0 + \\beta_1X$$\n",
    "\n",
    "It is called log odds because it is simply the logarithm of the odds, represented by\n",
    "\n",
    "$$\\frac{p(X)}{1 - p(X} = e^{\\beta_0 + \\beta_1X}$$\n",
    "\n",
    "which are simply the probability of X happening divided by the probability of it not happening.\n",
    "\n",
    "* a one-unit increase of X changes the log odds by $\\beta_1$\n",
    "\n",
    "* a one-unit increase of X multiplies the odds by $e^{\\beta_1}$\n",
    "\n",
    "* a one-unit increase of X changes p(X) according to the sign of $\\beta_1$ and depending on the value of X (the relationship is not linear, is an “S”)\n",
    "\n",
    "\n",
    "\n",
    "# Generalized Linear Models (GLM)\n",
    "\n",
    "A family of of models which contains also the Logistic regression.\n",
    "\n",
    "The models in this family we consider the correct distribution for the response variable, and then we build a linear model in beta parameter by applying a transformation (called **link function**) which transforms the expected value of Y.\n",
    "\n",
    "For logistic regression the link function is the **logit**, which takes the logarithm of the odds.\n",
    "\n",
    "To estimate the parameters $\\beta_0, \\beta_1$ we use the **Maximum Likelihood Criterion**, which gives the probability of the data being described by the model having those as parameters.\n",
    "\n",
    "In R, we use the `glm` function to perform this estimation.\n",
    "\n",
    "To use the model for prediction, we simply plug the estimated parameters and then try it for the chosen values of X in order to obtain the probability for the observation to belong in the default class.\n",
    "\n",
    "The common rule is to define p > 0.5 as the threshold for classifying a result as default. This threshold could be changed in case of false positives or false negatives.\n",
    "\n",
    "\n",
    "# Multiple Logistic Regression\n",
    "\n",
    "It is simply an extension of the normal logistic regression\n",
    "\n",
    "$$p(X) = \\frac{e^{\\beta_0 + \\beta_1X + \\dots + \\beta_pX_p}}{1 + e^{\\beta_0 + \\beta_1X + \\dots + \\beta_pX_p}}$$\n",
    "\n",
    "One of the tasks of multiple regressions is to distinguish the effect of multiple variables on the outcome. This avoids a **confounding** effect brought by non-included variables. When we have multiple variables, we should include them at the beginning of our model analysis to manifest their effect.\n",
    "\n",
    "\n",
    "# Multiclass Logistic Regression\n",
    "\n",
    "It is simply an extension of the binary logistic regression\n",
    "\n",
    "$$p(X) = \\frac{e^{\\beta_{0k} + \\beta_{1k}X_1 + \\dots + \\beta_{pk}X_p}}{\\Sigma_{l = 1}^K e^{\\beta_{0l} + \\beta_{1l}X + \\dots + \\beta_{pl}X_p}}$$"
   ]
  },
  {
   "cell_type": "markdown",
   "metadata": {},
   "source": [
    "# Laboratory: Logistic Regression"
   ]
  },
  {
   "cell_type": "code",
   "execution_count": 28,
   "metadata": {},
   "outputs": [],
   "source": [
    "library(dplyr)\n",
    "library(gdata)\n",
    "library(bestglm) # like leaps, used to select the best subset of variables\n",
    "library(Fahrmeir)"
   ]
  },
  {
   "cell_type": "code",
   "execution_count": 29,
   "metadata": {},
   "outputs": [],
   "source": [
    "data  <- credit"
   ]
  },
  {
   "cell_type": "code",
   "execution_count": 30,
   "metadata": {},
   "outputs": [
    {
     "data": {
      "text/html": [
       "<table>\n",
       "<thead><tr><th scope=col>Y</th><th scope=col>Cuenta</th><th scope=col>Mes</th><th scope=col>Ppag</th><th scope=col>Uso</th><th scope=col>DM</th><th scope=col>Sexo</th><th scope=col>Estc</th></tr></thead>\n",
       "<tbody>\n",
       "\t<tr><td>buen            </td><td>no              </td><td>18              </td><td>pre buen pagador</td><td>privado         </td><td>1049            </td><td>mujer           </td><td>vive solo       </td></tr>\n",
       "\t<tr><td>buen            </td><td>no              </td><td> 9              </td><td>pre buen pagador</td><td>profesional     </td><td>2799            </td><td>hombre          </td><td>no vive solo    </td></tr>\n",
       "\t<tr><td>buen            </td><td>bad running     </td><td>12              </td><td>pre buen pagador</td><td>profesional     </td><td> 841            </td><td>mujer           </td><td>vive solo       </td></tr>\n",
       "\t<tr><td>buen            </td><td>no              </td><td>12              </td><td>pre buen pagador</td><td>profesional     </td><td>2122            </td><td>hombre          </td><td>no vive solo    </td></tr>\n",
       "\t<tr><td>buen            </td><td>no              </td><td>12              </td><td>pre buen pagador</td><td>profesional     </td><td>2171            </td><td>hombre          </td><td>no vive solo    </td></tr>\n",
       "\t<tr><td>buen            </td><td>no              </td><td>10              </td><td>pre buen pagador</td><td>profesional     </td><td>2241            </td><td>hombre          </td><td>no vive solo    </td></tr>\n",
       "</tbody>\n",
       "</table>\n"
      ],
      "text/latex": [
       "\\begin{tabular}{r|llllllll}\n",
       " Y & Cuenta & Mes & Ppag & Uso & DM & Sexo & Estc\\\\\n",
       "\\hline\n",
       "\t buen             & no               & 18               & pre buen pagador & privado          & 1049             & mujer            & vive solo       \\\\\n",
       "\t buen             & no               &  9               & pre buen pagador & profesional      & 2799             & hombre           & no vive solo    \\\\\n",
       "\t buen             & bad running      & 12               & pre buen pagador & profesional      &  841             & mujer            & vive solo       \\\\\n",
       "\t buen             & no               & 12               & pre buen pagador & profesional      & 2122             & hombre           & no vive solo    \\\\\n",
       "\t buen             & no               & 12               & pre buen pagador & profesional      & 2171             & hombre           & no vive solo    \\\\\n",
       "\t buen             & no               & 10               & pre buen pagador & profesional      & 2241             & hombre           & no vive solo    \\\\\n",
       "\\end{tabular}\n"
      ],
      "text/markdown": [
       "\n",
       "Y | Cuenta | Mes | Ppag | Uso | DM | Sexo | Estc | \n",
       "|---|---|---|---|---|---|\n",
       "| buen             | no               | 18               | pre buen pagador | privado          | 1049             | mujer            | vive solo        | \n",
       "| buen             | no               |  9               | pre buen pagador | profesional      | 2799             | hombre           | no vive solo     | \n",
       "| buen             | bad running      | 12               | pre buen pagador | profesional      |  841             | mujer            | vive solo        | \n",
       "| buen             | no               | 12               | pre buen pagador | profesional      | 2122             | hombre           | no vive solo     | \n",
       "| buen             | no               | 12               | pre buen pagador | profesional      | 2171             | hombre           | no vive solo     | \n",
       "| buen             | no               | 10               | pre buen pagador | profesional      | 2241             | hombre           | no vive solo     | \n",
       "\n",
       "\n"
      ],
      "text/plain": [
       "  Y    Cuenta      Mes Ppag             Uso         DM   Sexo   Estc        \n",
       "1 buen no          18  pre buen pagador privado     1049 mujer  vive solo   \n",
       "2 buen no           9  pre buen pagador profesional 2799 hombre no vive solo\n",
       "3 buen bad running 12  pre buen pagador profesional  841 mujer  vive solo   \n",
       "4 buen no          12  pre buen pagador profesional 2122 hombre no vive solo\n",
       "5 buen no          12  pre buen pagador profesional 2171 hombre no vive solo\n",
       "6 buen no          10  pre buen pagador profesional 2241 hombre no vive solo"
      ]
     },
     "metadata": {},
     "output_type": "display_data"
    }
   ],
   "source": [
    "head(data)"
   ]
  },
  {
   "cell_type": "code",
   "execution_count": 31,
   "metadata": {},
   "outputs": [
    {
     "data": {
      "text/plain": [
       "    Y                Cuenta         Mes                     Ppag    \n",
       " buen:700   no          :274   Min.   : 4.0   pre buen pagador:911  \n",
       " mal :300   good running:394   1st Qu.:12.0   pre mal pagador : 89  \n",
       "            bad running :332   Median :18.0                         \n",
       "                               Mean   :20.9                         \n",
       "                               3rd Qu.:24.0                         \n",
       "                               Max.   :72.0                         \n",
       "          Uso            DM            Sexo               Estc    \n",
       " privado    :657   Min.   :  250   mujer :402   no vive solo:640  \n",
       " profesional:343   1st Qu.: 1366   hombre:598   vive solo   :360  \n",
       "                   Median : 2320                                  \n",
       "                   Mean   : 3271                                  \n",
       "                   3rd Qu.: 3972                                  \n",
       "                   Max.   :18424                                  "
      ]
     },
     "metadata": {},
     "output_type": "display_data"
    }
   ],
   "source": [
    "summary(data)"
   ]
  },
  {
   "cell_type": "code",
   "execution_count": 32,
   "metadata": {},
   "outputs": [
    {
     "data": {
      "text/html": [
       "<dl>\n",
       "\t<dt>$y</dt>\n",
       "\t\t<dd><ol class=list-inline>\n",
       "\t<li>'buen'</li>\n",
       "\t<li>'mal'</li>\n",
       "</ol>\n",
       "</dd>\n",
       "\t<dt>$cuenta</dt>\n",
       "\t\t<dd><ol class=list-inline>\n",
       "\t<li>'no'</li>\n",
       "\t<li>'good running'</li>\n",
       "\t<li>'bad running'</li>\n",
       "</ol>\n",
       "</dd>\n",
       "\t<dt>$ppag</dt>\n",
       "\t\t<dd><ol class=list-inline>\n",
       "\t<li>'pre buen pagador'</li>\n",
       "\t<li>'pre mal pagador'</li>\n",
       "</ol>\n",
       "</dd>\n",
       "\t<dt>$uso</dt>\n",
       "\t\t<dd><ol class=list-inline>\n",
       "\t<li>'privado'</li>\n",
       "\t<li>'profesional'</li>\n",
       "</ol>\n",
       "</dd>\n",
       "\t<dt>$sexo</dt>\n",
       "\t\t<dd><ol class=list-inline>\n",
       "\t<li>'mujer'</li>\n",
       "\t<li>'hombre'</li>\n",
       "</ol>\n",
       "</dd>\n",
       "\t<dt>$estc</dt>\n",
       "\t\t<dd><ol class=list-inline>\n",
       "\t<li>'no vive solo'</li>\n",
       "\t<li>'vive solo'</li>\n",
       "</ol>\n",
       "</dd>\n",
       "</dl>\n"
      ],
      "text/latex": [
       "\\begin{description}\n",
       "\\item[\\$y] \\begin{enumerate*}\n",
       "\\item 'buen'\n",
       "\\item 'mal'\n",
       "\\end{enumerate*}\n",
       "\n",
       "\\item[\\$cuenta] \\begin{enumerate*}\n",
       "\\item 'no'\n",
       "\\item 'good running'\n",
       "\\item 'bad running'\n",
       "\\end{enumerate*}\n",
       "\n",
       "\\item[\\$ppag] \\begin{enumerate*}\n",
       "\\item 'pre buen pagador'\n",
       "\\item 'pre mal pagador'\n",
       "\\end{enumerate*}\n",
       "\n",
       "\\item[\\$uso] \\begin{enumerate*}\n",
       "\\item 'privado'\n",
       "\\item 'profesional'\n",
       "\\end{enumerate*}\n",
       "\n",
       "\\item[\\$sexo] \\begin{enumerate*}\n",
       "\\item 'mujer'\n",
       "\\item 'hombre'\n",
       "\\end{enumerate*}\n",
       "\n",
       "\\item[\\$estc] \\begin{enumerate*}\n",
       "\\item 'no vive solo'\n",
       "\\item 'vive solo'\n",
       "\\end{enumerate*}\n",
       "\n",
       "\\end{description}\n"
      ],
      "text/markdown": [
       "$y\n",
       ":   1. 'buen'\n",
       "2. 'mal'\n",
       "\n",
       "\n",
       "\n",
       "$cuenta\n",
       ":   1. 'no'\n",
       "2. 'good running'\n",
       "3. 'bad running'\n",
       "\n",
       "\n",
       "\n",
       "$ppag\n",
       ":   1. 'pre buen pagador'\n",
       "2. 'pre mal pagador'\n",
       "\n",
       "\n",
       "\n",
       "$uso\n",
       ":   1. 'privado'\n",
       "2. 'profesional'\n",
       "\n",
       "\n",
       "\n",
       "$sexo\n",
       ":   1. 'mujer'\n",
       "2. 'hombre'\n",
       "\n",
       "\n",
       "\n",
       "$estc\n",
       ":   1. 'no vive solo'\n",
       "2. 'vive solo'\n",
       "\n",
       "\n",
       "\n",
       "\n",
       "\n"
      ],
      "text/plain": [
       "$y\n",
       "[1] \"buen\" \"mal\" \n",
       "\n",
       "$cuenta\n",
       "[1] \"no\"           \"good running\" \"bad running\" \n",
       "\n",
       "$ppag\n",
       "[1] \"pre buen pagador\" \"pre mal pagador\" \n",
       "\n",
       "$uso\n",
       "[1] \"privado\"     \"profesional\"\n",
       "\n",
       "$sexo\n",
       "[1] \"mujer\"  \"hombre\"\n",
       "\n",
       "$estc\n",
       "[1] \"no vive solo\" \"vive solo\"   \n"
      ]
     },
     "metadata": {},
     "output_type": "display_data"
    }
   ],
   "source": [
    "# Set variable names to lowercase\n",
    "names(data) <- names(data) %>% tolower()\n",
    "# Set levels for factor variables\n",
    "data %>% select_if(is.factor) %>% sapply(levels)"
   ]
  },
  {
   "cell_type": "code",
   "execution_count": 33,
   "metadata": {},
   "outputs": [
    {
     "data": {
      "text/html": [
       "<table>\n",
       "<thead><tr><th scope=col>y</th><th scope=col>cuenta</th><th scope=col>mes</th><th scope=col>ppag</th><th scope=col>uso</th><th scope=col>dm</th><th scope=col>sexo</th><th scope=col>estc</th></tr></thead>\n",
       "<tbody>\n",
       "\t<tr><td>buen, mal                               </td><td>no          , good running, bad running </td><td>NULL                                    </td><td>pre buen pagador, pre mal pagador       </td><td>privado    , profesional                </td><td>NULL                                    </td><td>mujer , hombre                          </td><td>no vive solo, vive solo                 </td></tr>\n",
       "</tbody>\n",
       "</table>\n"
      ],
      "text/latex": [
       "\\begin{tabular}{r|llllllll}\n",
       " y & cuenta & mes & ppag & uso & dm & sexo & estc\\\\\n",
       "\\hline\n",
       "\t buen, mal                                & no          , good running, bad running  & NULL                                     & pre buen pagador, pre mal pagador        & privado    , profesional                 & NULL                                     & mujer , hombre                           & no vive solo, vive solo                 \\\\\n",
       "\\end{tabular}\n"
      ],
      "text/markdown": [
       "\n",
       "y | cuenta | mes | ppag | uso | dm | sexo | estc | \n",
       "|---|\n",
       "| buen, mal                                | no          , good running, bad running  | NULL                                     | pre buen pagador, pre mal pagador        | privado    , profesional                 | NULL                                     | mujer , hombre                           | no vive solo, vive solo                  | \n",
       "\n",
       "\n"
      ],
      "text/plain": [
       "  y          cuenta                                   mes \n",
       "1 buen, mal  no          , good running, bad running  NULL\n",
       "  ppag                               uso                      dm  \n",
       "1 pre buen pagador, pre mal pagador  privado    , profesional NULL\n",
       "  sexo           estc                      \n",
       "1 mujer , hombre no vive solo, vive solo   "
      ]
     },
     "metadata": {},
     "output_type": "display_data"
    }
   ],
   "source": [
    "data %>% summarise_all(funs(list(levels(.))))"
   ]
  },
  {
   "cell_type": "code",
   "execution_count": 34,
   "metadata": {},
   "outputs": [
    {
     "data": {
      "text/plain": [
       "$y\n",
       "buen  mal \n",
       "   1    2 \n",
       "\n",
       "$cuenta\n",
       "          no good running  bad running \n",
       "           1            2            3 \n",
       "\n",
       "$ppag\n",
       "pre buen pagador  pre mal pagador \n",
       "               1                2 \n",
       "\n",
       "$uso\n",
       "    privado profesional \n",
       "          1           2 \n",
       "\n",
       "$sexo\n",
       " mujer hombre \n",
       "     1      2 \n",
       "\n",
       "$estc\n",
       "no vive solo    vive solo \n",
       "           1            2 \n"
      ]
     },
     "metadata": {},
     "output_type": "display_data"
    }
   ],
   "source": [
    "data %>% select_if(is.factor) %>% sapply(mapLevels)"
   ]
  },
  {
   "cell_type": "code",
   "execution_count": 37,
   "metadata": {},
   "outputs": [],
   "source": [
    "# Translate to english and replace levels by factors\n",
    "colnames(data) <- c(\"solvency\", \"account\",\"loan_duration\", \"prev_pay_behavior\", \"loan_use\", \"credit\", \"sex\", \"civ_state\")\n",
    "levels(data$solvency) <- c(\"good\", \"bad\")\n",
    "levels(data$account) <- c(\"no\", \"good\", \"bad\")\n",
    "levels(data$prev_pay_behavior) <- c(\"good\", \"bad\")\n",
    "levels(data$loan_use) <- c(\"private\", \"professional\")\n",
    "levels(data$sex) <- c(\"woman\", \"man\")\n",
    "levels(data$civ_state) <- c(\"alone\", \"not alone\")"
   ]
  },
  {
   "cell_type": "code",
   "execution_count": 38,
   "metadata": {},
   "outputs": [
    {
     "data": {
      "text/html": [
       "<table>\n",
       "<thead><tr><th scope=col>solvency</th><th scope=col>account</th><th scope=col>loan_duration</th><th scope=col>prev_pay_behavior</th><th scope=col>loan_use</th><th scope=col>credit</th><th scope=col>sex</th><th scope=col>civ_state</th></tr></thead>\n",
       "<tbody>\n",
       "\t<tr><td>good        </td><td>no          </td><td>18          </td><td>good        </td><td>private     </td><td>1049        </td><td>woman       </td><td>not alone   </td></tr>\n",
       "\t<tr><td>good        </td><td>no          </td><td> 9          </td><td>good        </td><td>professional</td><td>2799        </td><td>man         </td><td>alone       </td></tr>\n",
       "\t<tr><td>good        </td><td>bad         </td><td>12          </td><td>good        </td><td>professional</td><td> 841        </td><td>woman       </td><td>not alone   </td></tr>\n",
       "\t<tr><td>good        </td><td>no          </td><td>12          </td><td>good        </td><td>professional</td><td>2122        </td><td>man         </td><td>alone       </td></tr>\n",
       "\t<tr><td>good        </td><td>no          </td><td>12          </td><td>good        </td><td>professional</td><td>2171        </td><td>man         </td><td>alone       </td></tr>\n",
       "\t<tr><td>good        </td><td>no          </td><td>10          </td><td>good        </td><td>professional</td><td>2241        </td><td>man         </td><td>alone       </td></tr>\n",
       "</tbody>\n",
       "</table>\n"
      ],
      "text/latex": [
       "\\begin{tabular}{r|llllllll}\n",
       " solvency & account & loan\\_duration & prev\\_pay\\_behavior & loan\\_use & credit & sex & civ\\_state\\\\\n",
       "\\hline\n",
       "\t good         & no           & 18           & good         & private      & 1049         & woman        & not alone   \\\\\n",
       "\t good         & no           &  9           & good         & professional & 2799         & man          & alone       \\\\\n",
       "\t good         & bad          & 12           & good         & professional &  841         & woman        & not alone   \\\\\n",
       "\t good         & no           & 12           & good         & professional & 2122         & man          & alone       \\\\\n",
       "\t good         & no           & 12           & good         & professional & 2171         & man          & alone       \\\\\n",
       "\t good         & no           & 10           & good         & professional & 2241         & man          & alone       \\\\\n",
       "\\end{tabular}\n"
      ],
      "text/markdown": [
       "\n",
       "solvency | account | loan_duration | prev_pay_behavior | loan_use | credit | sex | civ_state | \n",
       "|---|---|---|---|---|---|\n",
       "| good         | no           | 18           | good         | private      | 1049         | woman        | not alone    | \n",
       "| good         | no           |  9           | good         | professional | 2799         | man          | alone        | \n",
       "| good         | bad          | 12           | good         | professional |  841         | woman        | not alone    | \n",
       "| good         | no           | 12           | good         | professional | 2122         | man          | alone        | \n",
       "| good         | no           | 12           | good         | professional | 2171         | man          | alone        | \n",
       "| good         | no           | 10           | good         | professional | 2241         | man          | alone        | \n",
       "\n",
       "\n"
      ],
      "text/plain": [
       "  solvency account loan_duration prev_pay_behavior loan_use     credit sex  \n",
       "1 good     no      18            good              private      1049   woman\n",
       "2 good     no       9            good              professional 2799   man  \n",
       "3 good     bad     12            good              professional  841   woman\n",
       "4 good     no      12            good              professional 2122   man  \n",
       "5 good     no      12            good              professional 2171   man  \n",
       "6 good     no      10            good              professional 2241   man  \n",
       "  civ_state\n",
       "1 not alone\n",
       "2 alone    \n",
       "3 not alone\n",
       "4 alone    \n",
       "5 alone    \n",
       "6 alone    "
      ]
     },
     "metadata": {},
     "output_type": "display_data"
    }
   ],
   "source": [
    "head(data)"
   ]
  },
  {
   "cell_type": "code",
   "execution_count": null,
   "metadata": {},
   "outputs": [],
   "source": []
  },
  {
   "cell_type": "code",
   "execution_count": null,
   "metadata": {},
   "outputs": [],
   "source": []
  }
 ],
 "metadata": {
  "kernelspec": {
   "display_name": "R",
   "language": "R",
   "name": "ir"
  },
  "language_info": {
   "codemirror_mode": "r",
   "file_extension": ".r",
   "mimetype": "text/x-r-source",
   "name": "R",
   "pygments_lexer": "r",
   "version": "3.5.1"
  }
 },
 "nbformat": 4,
 "nbformat_minor": 2
}
