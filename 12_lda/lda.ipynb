{
 "cells": [
  {
   "cell_type": "markdown",
   "metadata": {},
   "source": [
    "# Linear Discriminant Analysis\n",
    "\n",
    "We use LDA because it is more stable than Logistic regression when classes are well-separated and if the sample is small with an approximately normal distribution. It is also used when **we have more than two response classes**\n",
    "\n",
    "LDA approach models the distribution of X for each class separately, and then uses **Bayes' theorem** to perform estimates for $Pr(Y|X)$.\n",
    "\n",
    "The Bayes classifier used for prediction basically returns the class for which the condition probability of the observation belonging to the class given its features is the highest.\n",
    "\n",
    "To quantify the goodness of the model, we use the **training error rate** obtained by taking the total number of errors on the training set divided by the number of observations.\n",
    "\n",
    "Since the aim of Bayes classifier is to minimize test error rates, we can rewrite the test error rate as the **Bayes error rate**:\n",
    "\n",
    "$$1 - E_X(max_j P(Y = j|X))$$\n",
    "\n",
    "This value won't reach 0 because of the irreducible error present in every distribution.\n",
    "\n",
    "We can obtain a **discriminant score** (which is derived by a manipulation of the Gaussian distribution plugged into the Bayes theorem for LDA). LDA is called **linear** because if we assume a Gaussian distribution for the variable we will obtain a Dscore which is a linear function of x.\n",
    "\n",
    "From the discriminant score function, we can obtain the Bayes Decision Boundary which minimized misclassification. For p = 1, we have that the decision boundary is equal to $x = \\frac{\\mu_1 + \\mu_2}{2}$\n",
    "\n",
    "When p > 1, the discriminant function is still linear if all the observations are drawn from a multivariate Gaussian distribution.\n",
    "\n",
    "From the discriminant score, we can obtain an estimated probability for each class given X. We will use this probability in order to choose the class which maximizes it.\n",
    "\n",
    "We can vary the classification threshold by lowering it for Bayesian classifiers in order to prevent false negatives.\n",
    "\n",
    "* Sensitivity is the complement of FN rate, also known as **true positive rate**.\n",
    "\n",
    "* Specificity is the complement of FP rate, also known as **true negative rate**.\n",
    "\n",
    "For different $\\Sigma_k$ in each class, we get the **quadratic discriminant analysis** which is no longer linear.\n",
    "\n",
    "If we assume total independence between all the variables in the distribution, we get **naive Bayes** approach.\n",
    "\n",
    "We should choose the best DA for our data distribution through contextual knowledge.\n",
    "\n",
    "For two classes, LDA has the same form of the logistic regression model (logit of P(class 1) on P(class2)).\n",
    "\n",
    "**Use LDA when there is a strong hypothesis of Gaussian distribution and there are more than two classes**\n",
    "\n",
    "Logistic regression use **discriminative learning**, which uses conditional likelyhood based on P(Y|X), while LDA uses **generative learning**, since it uses the full likelyhood based on Pr(Y, X).\n",
    "\n",
    "Naive Bayes is popular when p is very large."
   ]
  },
  {
   "cell_type": "markdown",
   "metadata": {},
   "source": [
    "# Laboratory: LDA"
   ]
  },
  {
   "cell_type": "code",
   "execution_count": 1,
   "metadata": {},
   "outputs": [
    {
     "name": "stderr",
     "output_type": "stream",
     "text": [
      "\n",
      "Attaching package: ‘dplyr’\n",
      "\n",
      "The following objects are masked from ‘package:stats’:\n",
      "\n",
      "    filter, lag\n",
      "\n",
      "The following objects are masked from ‘package:base’:\n",
      "\n",
      "    intersect, setdiff, setequal, union\n",
      "\n",
      "\n",
      "Attaching package: ‘MASS’\n",
      "\n",
      "The following object is masked from ‘package:dplyr’:\n",
      "\n",
      "    select\n",
      "\n"
     ]
    }
   ],
   "source": [
    "library(dplyr)  # optional\n",
    "library(languageR)\n",
    "library(tibble)  # optional\n",
    "library(MASS)"
   ]
  },
  {
   "cell_type": "code",
   "execution_count": 2,
   "metadata": {},
   "outputs": [
    {
     "data": {
      "text/html": [
       "<table>\n",
       "<thead><tr><th scope=col>Author</th><th scope=col>YearOfBirth</th><th scope=col>TextName</th><th scope=col>PubDate</th><th scope=col>Nwords</th><th scope=col>FullName</th></tr></thead>\n",
       "<tbody>\n",
       "\t<tr><td>C        </td><td>1916     </td><td>X14458gll</td><td>1983     </td><td>2972     </td><td>Cela     </td></tr>\n",
       "\t<tr><td>C        </td><td>1916     </td><td>X14459gll</td><td>1951     </td><td>3040     </td><td>Cela     </td></tr>\n",
       "\t<tr><td>C        </td><td>1916     </td><td>X14460gll</td><td>1956     </td><td>3066     </td><td>Cela     </td></tr>\n",
       "\t<tr><td>C        </td><td>1916     </td><td>X14461gll</td><td>1948     </td><td>3044     </td><td>Cela     </td></tr>\n",
       "\t<tr><td>C        </td><td>1916     </td><td>X14462gll</td><td>1942     </td><td>3053     </td><td>Cela     </td></tr>\n",
       "\t<tr><td>M        </td><td>1943     </td><td>X14463gll</td><td>1986     </td><td>3013     </td><td>Mendoza  </td></tr>\n",
       "</tbody>\n",
       "</table>\n"
      ],
      "text/latex": [
       "\\begin{tabular}{r|llllll}\n",
       " Author & YearOfBirth & TextName & PubDate & Nwords & FullName\\\\\n",
       "\\hline\n",
       "\t C         & 1916      & X14458gll & 1983      & 2972      & Cela     \\\\\n",
       "\t C         & 1916      & X14459gll & 1951      & 3040      & Cela     \\\\\n",
       "\t C         & 1916      & X14460gll & 1956      & 3066      & Cela     \\\\\n",
       "\t C         & 1916      & X14461gll & 1948      & 3044      & Cela     \\\\\n",
       "\t C         & 1916      & X14462gll & 1942      & 3053      & Cela     \\\\\n",
       "\t M         & 1943      & X14463gll & 1986      & 3013      & Mendoza  \\\\\n",
       "\\end{tabular}\n"
      ],
      "text/markdown": [
       "\n",
       "Author | YearOfBirth | TextName | PubDate | Nwords | FullName | \n",
       "|---|---|---|---|---|---|\n",
       "| C         | 1916      | X14458gll | 1983      | 2972      | Cela      | \n",
       "| C         | 1916      | X14459gll | 1951      | 3040      | Cela      | \n",
       "| C         | 1916      | X14460gll | 1956      | 3066      | Cela      | \n",
       "| C         | 1916      | X14461gll | 1948      | 3044      | Cela      | \n",
       "| C         | 1916      | X14462gll | 1942      | 3053      | Cela      | \n",
       "| M         | 1943      | X14463gll | 1986      | 3013      | Mendoza   | \n",
       "\n",
       "\n"
      ],
      "text/plain": [
       "  Author YearOfBirth TextName  PubDate Nwords FullName\n",
       "1 C      1916        X14458gll 1983    2972   Cela    \n",
       "2 C      1916        X14459gll 1951    3040   Cela    \n",
       "3 C      1916        X14460gll 1956    3066   Cela    \n",
       "4 C      1916        X14461gll 1948    3044   Cela    \n",
       "5 C      1916        X14462gll 1942    3053   Cela    \n",
       "6 M      1943        X14463gll 1986    3013   Mendoza "
      ]
     },
     "metadata": {},
     "output_type": "display_data"
    }
   ],
   "source": [
    "# Word type : represents the number of distinct words in the text\n",
    "# Word token : the sequence of frequences for each word types\n",
    "head(spanishMeta)"
   ]
  },
  {
   "cell_type": "code",
   "execution_count": 3,
   "metadata": {},
   "outputs": [
    {
     "data": {
      "text/html": [
       "<ol class=list-inline>\n",
       "\t<li>'Author'</li>\n",
       "\t<li>'YearOfBirth'</li>\n",
       "\t<li>'TextName'</li>\n",
       "\t<li>'PubDate'</li>\n",
       "\t<li>'Nwords'</li>\n",
       "\t<li>'FullName'</li>\n",
       "</ol>\n"
      ],
      "text/latex": [
       "\\begin{enumerate*}\n",
       "\\item 'Author'\n",
       "\\item 'YearOfBirth'\n",
       "\\item 'TextName'\n",
       "\\item 'PubDate'\n",
       "\\item 'Nwords'\n",
       "\\item 'FullName'\n",
       "\\end{enumerate*}\n"
      ],
      "text/markdown": [
       "1. 'Author'\n",
       "2. 'YearOfBirth'\n",
       "3. 'TextName'\n",
       "4. 'PubDate'\n",
       "5. 'Nwords'\n",
       "6. 'FullName'\n",
       "\n",
       "\n"
      ],
      "text/plain": [
       "[1] \"Author\"      \"YearOfBirth\" \"TextName\"    \"PubDate\"     \"Nwords\"     \n",
       "[6] \"FullName\"   "
      ]
     },
     "metadata": {},
     "output_type": "display_data"
    },
    {
     "data": {
      "text/html": [
       "15"
      ],
      "text/latex": [
       "15"
      ],
      "text/markdown": [
       "15"
      ],
      "text/plain": [
       "[1] 15"
      ]
     },
     "metadata": {},
     "output_type": "display_data"
    }
   ],
   "source": [
    "# Extracting column names and number of rows\n",
    "names(spanishMeta)\n",
    "nrow(spanishMeta)"
   ]
  },
  {
   "cell_type": "code",
   "execution_count": 4,
   "metadata": {},
   "outputs": [
    {
     "data": {
      "text/html": [
       "<table>\n",
       "<thead><tr><th scope=col>Author</th><th scope=col>nText</th><th scope=col>avgPubDate</th></tr></thead>\n",
       "<tbody>\n",
       "\t<tr><td>C   </td><td>5   </td><td>1956</td></tr>\n",
       "\t<tr><td>M   </td><td>5   </td><td>1990</td></tr>\n",
       "\t<tr><td>V   </td><td>5   </td><td>1974</td></tr>\n",
       "</tbody>\n",
       "</table>\n"
      ],
      "text/latex": [
       "\\begin{tabular}{r|lll}\n",
       " Author & nText & avgPubDate\\\\\n",
       "\\hline\n",
       "\t C    & 5    & 1956\\\\\n",
       "\t M    & 5    & 1990\\\\\n",
       "\t V    & 5    & 1974\\\\\n",
       "\\end{tabular}\n"
      ],
      "text/markdown": [
       "\n",
       "Author | nText | avgPubDate | \n",
       "|---|---|---|\n",
       "| C    | 5    | 1956 | \n",
       "| M    | 5    | 1990 | \n",
       "| V    | 5    | 1974 | \n",
       "\n",
       "\n"
      ],
      "text/plain": [
       "  Author nText avgPubDate\n",
       "1 C      5     1956      \n",
       "2 M      5     1990      \n",
       "3 V      5     1974      "
      ]
     },
     "metadata": {},
     "output_type": "display_data"
    },
    {
     "data": {
      "text/html": [
       "1973.6"
      ],
      "text/latex": [
       "1973.6"
      ],
      "text/markdown": [
       "1973.6"
      ],
      "text/plain": [
       "[1] 1973.6"
      ]
     },
     "metadata": {},
     "output_type": "display_data"
    }
   ],
   "source": [
    "# Calculating number of text per author and the mean publication date\n",
    "spanishMeta %>% group_by(Author) %>% summarise(nText = n(), avgPubDate = trunc(mean(PubDate)))\n",
    "mean(spanishMeta$PubDate)"
   ]
  },
  {
   "cell_type": "code",
   "execution_count": 5,
   "metadata": {},
   "outputs": [
    {
     "data": {
      "text/html": [
       "<table>\n",
       "<thead><tr><th scope=col>Author</th><th scope=col>YearOfBirth</th><th scope=col>TextName</th><th scope=col>PubDate</th><th scope=col>Nwords</th><th scope=col>FullName</th></tr></thead>\n",
       "<tbody>\n",
       "\t<tr><td>C          </td><td>1916       </td><td>X14458gll  </td><td>1983       </td><td>2972       </td><td>Cela       </td></tr>\n",
       "\t<tr><td>C          </td><td>1916       </td><td>X14459gll  </td><td>1951       </td><td>3040       </td><td>Cela       </td></tr>\n",
       "\t<tr><td>C          </td><td>1916       </td><td>X14461gll  </td><td>1948       </td><td>3044       </td><td>Cela       </td></tr>\n",
       "\t<tr><td>C          </td><td>1916       </td><td>X14462gll  </td><td>1942       </td><td>3053       </td><td>Cela       </td></tr>\n",
       "\t<tr><td>C          </td><td>1916       </td><td>X14460gll  </td><td>1956       </td><td>3066       </td><td>Cela       </td></tr>\n",
       "\t<tr><td>V          </td><td>1936       </td><td>X14475gll  </td><td>1987       </td><td>3016       </td><td>VargasLLosa</td></tr>\n",
       "\t<tr><td>V          </td><td>1936       </td><td>X14474gll  </td><td>1977       </td><td>3020       </td><td>VargasLLosa</td></tr>\n",
       "\t<tr><td>V          </td><td>1936       </td><td>X14472gll  </td><td>1965       </td><td>3037       </td><td>VargasLLosa</td></tr>\n",
       "\t<tr><td>V          </td><td>1936       </td><td>X14476gll  </td><td>1981       </td><td>3054       </td><td>VargasLLosa</td></tr>\n",
       "\t<tr><td>V          </td><td>1936       </td><td>X14473gll  </td><td>1963       </td><td>3067       </td><td>VargasLLosa</td></tr>\n",
       "\t<tr><td>M          </td><td>1943       </td><td>X14463gll  </td><td>1986       </td><td>3013       </td><td>Mendoza    </td></tr>\n",
       "\t<tr><td>M          </td><td>1943       </td><td>X14466gll  </td><td>1982       </td><td>3039       </td><td>Mendoza    </td></tr>\n",
       "\t<tr><td>M          </td><td>1943       </td><td>X14465gll  </td><td>1989       </td><td>3042       </td><td>Mendoza    </td></tr>\n",
       "\t<tr><td>M          </td><td>1943       </td><td>X14467gll  </td><td>2002       </td><td>3045       </td><td>Mendoza    </td></tr>\n",
       "\t<tr><td>M          </td><td>1943       </td><td>X14464gll  </td><td>1992       </td><td>3049       </td><td>Mendoza    </td></tr>\n",
       "</tbody>\n",
       "</table>\n"
      ],
      "text/latex": [
       "\\begin{tabular}{r|llllll}\n",
       " Author & YearOfBirth & TextName & PubDate & Nwords & FullName\\\\\n",
       "\\hline\n",
       "\t C           & 1916        & X14458gll   & 1983        & 2972        & Cela       \\\\\n",
       "\t C           & 1916        & X14459gll   & 1951        & 3040        & Cela       \\\\\n",
       "\t C           & 1916        & X14461gll   & 1948        & 3044        & Cela       \\\\\n",
       "\t C           & 1916        & X14462gll   & 1942        & 3053        & Cela       \\\\\n",
       "\t C           & 1916        & X14460gll   & 1956        & 3066        & Cela       \\\\\n",
       "\t V           & 1936        & X14475gll   & 1987        & 3016        & VargasLLosa\\\\\n",
       "\t V           & 1936        & X14474gll   & 1977        & 3020        & VargasLLosa\\\\\n",
       "\t V           & 1936        & X14472gll   & 1965        & 3037        & VargasLLosa\\\\\n",
       "\t V           & 1936        & X14476gll   & 1981        & 3054        & VargasLLosa\\\\\n",
       "\t V           & 1936        & X14473gll   & 1963        & 3067        & VargasLLosa\\\\\n",
       "\t M           & 1943        & X14463gll   & 1986        & 3013        & Mendoza    \\\\\n",
       "\t M           & 1943        & X14466gll   & 1982        & 3039        & Mendoza    \\\\\n",
       "\t M           & 1943        & X14465gll   & 1989        & 3042        & Mendoza    \\\\\n",
       "\t M           & 1943        & X14467gll   & 2002        & 3045        & Mendoza    \\\\\n",
       "\t M           & 1943        & X14464gll   & 1992        & 3049        & Mendoza    \\\\\n",
       "\\end{tabular}\n"
      ],
      "text/markdown": [
       "\n",
       "Author | YearOfBirth | TextName | PubDate | Nwords | FullName | \n",
       "|---|---|---|---|---|---|---|---|---|---|---|---|---|---|---|\n",
       "| C           | 1916        | X14458gll   | 1983        | 2972        | Cela        | \n",
       "| C           | 1916        | X14459gll   | 1951        | 3040        | Cela        | \n",
       "| C           | 1916        | X14461gll   | 1948        | 3044        | Cela        | \n",
       "| C           | 1916        | X14462gll   | 1942        | 3053        | Cela        | \n",
       "| C           | 1916        | X14460gll   | 1956        | 3066        | Cela        | \n",
       "| V           | 1936        | X14475gll   | 1987        | 3016        | VargasLLosa | \n",
       "| V           | 1936        | X14474gll   | 1977        | 3020        | VargasLLosa | \n",
       "| V           | 1936        | X14472gll   | 1965        | 3037        | VargasLLosa | \n",
       "| V           | 1936        | X14476gll   | 1981        | 3054        | VargasLLosa | \n",
       "| V           | 1936        | X14473gll   | 1963        | 3067        | VargasLLosa | \n",
       "| M           | 1943        | X14463gll   | 1986        | 3013        | Mendoza     | \n",
       "| M           | 1943        | X14466gll   | 1982        | 3039        | Mendoza     | \n",
       "| M           | 1943        | X14465gll   | 1989        | 3042        | Mendoza     | \n",
       "| M           | 1943        | X14467gll   | 2002        | 3045        | Mendoza     | \n",
       "| M           | 1943        | X14464gll   | 1992        | 3049        | Mendoza     | \n",
       "\n",
       "\n"
      ],
      "text/plain": [
       "   Author YearOfBirth TextName  PubDate Nwords FullName   \n",
       "1  C      1916        X14458gll 1983    2972   Cela       \n",
       "2  C      1916        X14459gll 1951    3040   Cela       \n",
       "3  C      1916        X14461gll 1948    3044   Cela       \n",
       "4  C      1916        X14462gll 1942    3053   Cela       \n",
       "5  C      1916        X14460gll 1956    3066   Cela       \n",
       "6  V      1936        X14475gll 1987    3016   VargasLLosa\n",
       "7  V      1936        X14474gll 1977    3020   VargasLLosa\n",
       "8  V      1936        X14472gll 1965    3037   VargasLLosa\n",
       "9  V      1936        X14476gll 1981    3054   VargasLLosa\n",
       "10 V      1936        X14473gll 1963    3067   VargasLLosa\n",
       "11 M      1943        X14463gll 1986    3013   Mendoza    \n",
       "12 M      1943        X14466gll 1982    3039   Mendoza    \n",
       "13 M      1943        X14465gll 1989    3042   Mendoza    \n",
       "14 M      1943        X14467gll 2002    3045   Mendoza    \n",
       "15 M      1943        X14464gll 1992    3049   Mendoza    "
      ]
     },
     "metadata": {},
     "output_type": "display_data"
    }
   ],
   "source": [
    "spanishMeta  %>% arrange(YearOfBirth, Nwords)"
   ]
  },
  {
   "cell_type": "code",
   "execution_count": 6,
   "metadata": {},
   "outputs": [
    {
     "data": {
      "text/html": [
       "<table>\n",
       "<thead><tr><th scope=col>Author</th><th scope=col>YearOfBirth</th><th scope=col>TextName</th><th scope=col>PubDate</th><th scope=col>Nwords</th><th scope=col>FullName</th></tr></thead>\n",
       "<tbody>\n",
       "\t<tr><td>M          </td><td>1943       </td><td>X14467gll  </td><td>2002       </td><td>3045       </td><td>Mendoza    </td></tr>\n",
       "\t<tr><td>M          </td><td>1943       </td><td>X14464gll  </td><td>1992       </td><td>3049       </td><td>Mendoza    </td></tr>\n",
       "\t<tr><td>M          </td><td>1943       </td><td>X14465gll  </td><td>1989       </td><td>3042       </td><td>Mendoza    </td></tr>\n",
       "\t<tr><td>V          </td><td>1936       </td><td>X14475gll  </td><td>1987       </td><td>3016       </td><td>VargasLLosa</td></tr>\n",
       "\t<tr><td>M          </td><td>1943       </td><td>X14463gll  </td><td>1986       </td><td>3013       </td><td>Mendoza    </td></tr>\n",
       "\t<tr><td>C          </td><td>1916       </td><td>X14458gll  </td><td>1983       </td><td>2972       </td><td>Cela       </td></tr>\n",
       "</tbody>\n",
       "</table>\n"
      ],
      "text/latex": [
       "\\begin{tabular}{r|llllll}\n",
       " Author & YearOfBirth & TextName & PubDate & Nwords & FullName\\\\\n",
       "\\hline\n",
       "\t M           & 1943        & X14467gll   & 2002        & 3045        & Mendoza    \\\\\n",
       "\t M           & 1943        & X14464gll   & 1992        & 3049        & Mendoza    \\\\\n",
       "\t M           & 1943        & X14465gll   & 1989        & 3042        & Mendoza    \\\\\n",
       "\t V           & 1936        & X14475gll   & 1987        & 3016        & VargasLLosa\\\\\n",
       "\t M           & 1943        & X14463gll   & 1986        & 3013        & Mendoza    \\\\\n",
       "\t C           & 1916        & X14458gll   & 1983        & 2972        & Cela       \\\\\n",
       "\\end{tabular}\n"
      ],
      "text/markdown": [
       "\n",
       "Author | YearOfBirth | TextName | PubDate | Nwords | FullName | \n",
       "|---|---|---|---|---|---|\n",
       "| M           | 1943        | X14467gll   | 2002        | 3045        | Mendoza     | \n",
       "| M           | 1943        | X14464gll   | 1992        | 3049        | Mendoza     | \n",
       "| M           | 1943        | X14465gll   | 1989        | 3042        | Mendoza     | \n",
       "| V           | 1936        | X14475gll   | 1987        | 3016        | VargasLLosa | \n",
       "| M           | 1943        | X14463gll   | 1986        | 3013        | Mendoza     | \n",
       "| C           | 1916        | X14458gll   | 1983        | 2972        | Cela        | \n",
       "\n",
       "\n"
      ],
      "text/plain": [
       "  Author YearOfBirth TextName  PubDate Nwords FullName   \n",
       "1 M      1943        X14467gll 2002    3045   Mendoza    \n",
       "2 M      1943        X14464gll 1992    3049   Mendoza    \n",
       "3 M      1943        X14465gll 1989    3042   Mendoza    \n",
       "4 V      1936        X14475gll 1987    3016   VargasLLosa\n",
       "5 M      1943        X14463gll 1986    3013   Mendoza    \n",
       "6 C      1916        X14458gll 1983    2972   Cela       "
      ]
     },
     "metadata": {},
     "output_type": "display_data"
    }
   ],
   "source": [
    "spanishMeta  %>% arrange(desc(PubDate)) %>% head()"
   ]
  },
  {
   "cell_type": "code",
   "execution_count": 7,
   "metadata": {},
   "outputs": [
    {
     "data": {
      "text/html": [
       "<table>\n",
       "<thead><tr><th scope=col>Author</th><th scope=col>YearOfBirth</th><th scope=col>TextName</th><th scope=col>PubDate</th><th scope=col>Nwords</th><th scope=col>FullName</th></tr></thead>\n",
       "<tbody>\n",
       "\t<tr><td>C          </td><td>1916       </td><td>X14459gll  </td><td>1951       </td><td>3040       </td><td>Cela       </td></tr>\n",
       "\t<tr><td>C          </td><td>1916       </td><td>X14460gll  </td><td>1956       </td><td>3066       </td><td>Cela       </td></tr>\n",
       "\t<tr><td>C          </td><td>1916       </td><td>X14461gll  </td><td>1948       </td><td>3044       </td><td>Cela       </td></tr>\n",
       "\t<tr><td>C          </td><td>1916       </td><td>X14462gll  </td><td>1942       </td><td>3053       </td><td>Cela       </td></tr>\n",
       "\t<tr><td>V          </td><td>1936       </td><td>X14472gll  </td><td>1965       </td><td>3037       </td><td>VargasLLosa</td></tr>\n",
       "\t<tr><td>V          </td><td>1936       </td><td>X14473gll  </td><td>1963       </td><td>3067       </td><td>VargasLLosa</td></tr>\n",
       "\t<tr><td>V          </td><td>1936       </td><td>X14474gll  </td><td>1977       </td><td>3020       </td><td>VargasLLosa</td></tr>\n",
       "</tbody>\n",
       "</table>\n"
      ],
      "text/latex": [
       "\\begin{tabular}{r|llllll}\n",
       " Author & YearOfBirth & TextName & PubDate & Nwords & FullName\\\\\n",
       "\\hline\n",
       "\t C           & 1916        & X14459gll   & 1951        & 3040        & Cela       \\\\\n",
       "\t C           & 1916        & X14460gll   & 1956        & 3066        & Cela       \\\\\n",
       "\t C           & 1916        & X14461gll   & 1948        & 3044        & Cela       \\\\\n",
       "\t C           & 1916        & X14462gll   & 1942        & 3053        & Cela       \\\\\n",
       "\t V           & 1936        & X14472gll   & 1965        & 3037        & VargasLLosa\\\\\n",
       "\t V           & 1936        & X14473gll   & 1963        & 3067        & VargasLLosa\\\\\n",
       "\t V           & 1936        & X14474gll   & 1977        & 3020        & VargasLLosa\\\\\n",
       "\\end{tabular}\n"
      ],
      "text/markdown": [
       "\n",
       "Author | YearOfBirth | TextName | PubDate | Nwords | FullName | \n",
       "|---|---|---|---|---|---|---|\n",
       "| C           | 1916        | X14459gll   | 1951        | 3040        | Cela        | \n",
       "| C           | 1916        | X14460gll   | 1956        | 3066        | Cela        | \n",
       "| C           | 1916        | X14461gll   | 1948        | 3044        | Cela        | \n",
       "| C           | 1916        | X14462gll   | 1942        | 3053        | Cela        | \n",
       "| V           | 1936        | X14472gll   | 1965        | 3037        | VargasLLosa | \n",
       "| V           | 1936        | X14473gll   | 1963        | 3067        | VargasLLosa | \n",
       "| V           | 1936        | X14474gll   | 1977        | 3020        | VargasLLosa | \n",
       "\n",
       "\n"
      ],
      "text/plain": [
       "  Author YearOfBirth TextName  PubDate Nwords FullName   \n",
       "1 C      1916        X14459gll 1951    3040   Cela       \n",
       "2 C      1916        X14460gll 1956    3066   Cela       \n",
       "3 C      1916        X14461gll 1948    3044   Cela       \n",
       "4 C      1916        X14462gll 1942    3053   Cela       \n",
       "5 V      1936        X14472gll 1965    3037   VargasLLosa\n",
       "6 V      1936        X14473gll 1963    3067   VargasLLosa\n",
       "7 V      1936        X14474gll 1977    3020   VargasLLosa"
      ]
     },
     "metadata": {},
     "output_type": "display_data"
    }
   ],
   "source": [
    "spanishMeta  %>% filter(PubDate < 1980)"
   ]
  },
  {
   "cell_type": "code",
   "execution_count": 8,
   "metadata": {},
   "outputs": [
    {
     "data": {
      "text/html": [
       "<table>\n",
       "<thead><tr><th></th><th scope=col>X14461gll</th><th scope=col>X14473gll</th><th scope=col>X14466gll</th><th scope=col>X14459gll</th><th scope=col>X14462gll</th><th scope=col>X14474gll</th><th scope=col>X14467gll</th><th scope=col>X14475gll</th><th scope=col>X14476gll</th><th scope=col>X14463gll</th><th scope=col>X14464gll</th><th scope=col>X14460gll</th><th scope=col>X14472gll</th><th scope=col>X14465gll</th><th scope=col>X14458gll</th></tr></thead>\n",
       "<tbody>\n",
       "\t<tr><th scope=row>P.A.N4</th><td>0.027494</td><td>0.006757</td><td>0.000814</td><td>0.024116</td><td>0.009658</td><td>0.017529</td><td>0.039187</td><td>0.029321</td><td>0.017895</td><td>0.009346</td><td>0.009858</td><td>0.042509</td><td>0.028832</td><td>0.000732</td><td>0.016043</td></tr>\n",
       "\t<tr><th scope=row>VDA.J6.N5</th><td>0.000786</td><td>0.010135</td><td>0.003257</td><td>0.001608</td><td>0.005268</td><td>0.003339</td><td>0.000726</td><td>0.005401</td><td>0.002147</td><td>0.002077</td><td>0.003286</td><td>0.000000</td><td>0.003794</td><td>0.004389</td><td>0.000000</td></tr>\n",
       "\t<tr><th scope=row>C.P.N5</th><td>0.008641</td><td>0.001126</td><td>0.001629</td><td>0.003215</td><td>0.001756</td><td>0.007513</td><td>0.003628</td><td>0.001543</td><td>0.002863</td><td>0.003115</td><td>0.002191</td><td>0.002787</td><td>0.004552</td><td>0.004389</td><td>0.008913</td></tr>\n",
       "\t<tr><th scope=row>P.A.N5</th><td>0.118617</td><td>0.118243</td><td>0.102606</td><td>0.131833</td><td>0.118525</td><td>0.090150</td><td>0.097968</td><td>0.103395</td><td>0.097351</td><td>0.097612</td><td>0.101862</td><td>0.119861</td><td>0.097117</td><td>0.106803</td><td>0.105169</td></tr>\n",
       "\t<tr><th scope=row>A.N5.JQ</th><td>0.011783</td><td>0.006757</td><td>0.014658</td><td>0.008039</td><td>0.000878</td><td>0.015860</td><td>0.019594</td><td>0.023920</td><td>0.012885</td><td>0.021807</td><td>0.026287</td><td>0.013240</td><td>0.012140</td><td>0.021214</td><td>0.014260</td></tr>\n",
       "\t<tr><th scope=row>J6.N5.P</th><td>0.011783</td><td>0.009009</td><td>0.008958</td><td>0.008039</td><td>0.017559</td><td>0.009182</td><td>0.002903</td><td>0.005401</td><td>0.011453</td><td>0.008307</td><td>0.007667</td><td>0.004878</td><td>0.006829</td><td>0.005852</td><td>0.007130</td></tr>\n",
       "</tbody>\n",
       "</table>\n"
      ],
      "text/latex": [
       "\\begin{tabular}{r|lllllllllllllll}\n",
       "  & X14461gll & X14473gll & X14466gll & X14459gll & X14462gll & X14474gll & X14467gll & X14475gll & X14476gll & X14463gll & X14464gll & X14460gll & X14472gll & X14465gll & X14458gll\\\\\n",
       "\\hline\n",
       "\tP.A.N4 & 0.027494 & 0.006757 & 0.000814 & 0.024116 & 0.009658 & 0.017529 & 0.039187 & 0.029321 & 0.017895 & 0.009346 & 0.009858 & 0.042509 & 0.028832 & 0.000732 & 0.016043\\\\\n",
       "\tVDA.J6.N5 & 0.000786 & 0.010135 & 0.003257 & 0.001608 & 0.005268 & 0.003339 & 0.000726 & 0.005401 & 0.002147 & 0.002077 & 0.003286 & 0.000000 & 0.003794 & 0.004389 & 0.000000\\\\\n",
       "\tC.P.N5 & 0.008641 & 0.001126 & 0.001629 & 0.003215 & 0.001756 & 0.007513 & 0.003628 & 0.001543 & 0.002863 & 0.003115 & 0.002191 & 0.002787 & 0.004552 & 0.004389 & 0.008913\\\\\n",
       "\tP.A.N5 & 0.118617 & 0.118243 & 0.102606 & 0.131833 & 0.118525 & 0.090150 & 0.097968 & 0.103395 & 0.097351 & 0.097612 & 0.101862 & 0.119861 & 0.097117 & 0.106803 & 0.105169\\\\\n",
       "\tA.N5.JQ & 0.011783 & 0.006757 & 0.014658 & 0.008039 & 0.000878 & 0.015860 & 0.019594 & 0.023920 & 0.012885 & 0.021807 & 0.026287 & 0.013240 & 0.012140 & 0.021214 & 0.014260\\\\\n",
       "\tJ6.N5.P & 0.011783 & 0.009009 & 0.008958 & 0.008039 & 0.017559 & 0.009182 & 0.002903 & 0.005401 & 0.011453 & 0.008307 & 0.007667 & 0.004878 & 0.006829 & 0.005852 & 0.007130\\\\\n",
       "\\end{tabular}\n"
      ],
      "text/markdown": [
       "\n",
       "| <!--/--> | X14461gll | X14473gll | X14466gll | X14459gll | X14462gll | X14474gll | X14467gll | X14475gll | X14476gll | X14463gll | X14464gll | X14460gll | X14472gll | X14465gll | X14458gll | \n",
       "|---|---|---|---|---|---|\n",
       "| P.A.N4 | 0.027494 | 0.006757 | 0.000814 | 0.024116 | 0.009658 | 0.017529 | 0.039187 | 0.029321 | 0.017895 | 0.009346 | 0.009858 | 0.042509 | 0.028832 | 0.000732 | 0.016043 | \n",
       "| VDA.J6.N5 | 0.000786 | 0.010135 | 0.003257 | 0.001608 | 0.005268 | 0.003339 | 0.000726 | 0.005401 | 0.002147 | 0.002077 | 0.003286 | 0.000000 | 0.003794 | 0.004389 | 0.000000 | \n",
       "| C.P.N5 | 0.008641 | 0.001126 | 0.001629 | 0.003215 | 0.001756 | 0.007513 | 0.003628 | 0.001543 | 0.002863 | 0.003115 | 0.002191 | 0.002787 | 0.004552 | 0.004389 | 0.008913 | \n",
       "| P.A.N5 | 0.118617 | 0.118243 | 0.102606 | 0.131833 | 0.118525 | 0.090150 | 0.097968 | 0.103395 | 0.097351 | 0.097612 | 0.101862 | 0.119861 | 0.097117 | 0.106803 | 0.105169 | \n",
       "| A.N5.JQ | 0.011783 | 0.006757 | 0.014658 | 0.008039 | 0.000878 | 0.015860 | 0.019594 | 0.023920 | 0.012885 | 0.021807 | 0.026287 | 0.013240 | 0.012140 | 0.021214 | 0.014260 | \n",
       "| J6.N5.P | 0.011783 | 0.009009 | 0.008958 | 0.008039 | 0.017559 | 0.009182 | 0.002903 | 0.005401 | 0.011453 | 0.008307 | 0.007667 | 0.004878 | 0.006829 | 0.005852 | 0.007130 | \n",
       "\n",
       "\n"
      ],
      "text/plain": [
       "          X14461gll X14473gll X14466gll X14459gll X14462gll X14474gll X14467gll\n",
       "P.A.N4    0.027494  0.006757  0.000814  0.024116  0.009658  0.017529  0.039187 \n",
       "VDA.J6.N5 0.000786  0.010135  0.003257  0.001608  0.005268  0.003339  0.000726 \n",
       "C.P.N5    0.008641  0.001126  0.001629  0.003215  0.001756  0.007513  0.003628 \n",
       "P.A.N5    0.118617  0.118243  0.102606  0.131833  0.118525  0.090150  0.097968 \n",
       "A.N5.JQ   0.011783  0.006757  0.014658  0.008039  0.000878  0.015860  0.019594 \n",
       "J6.N5.P   0.011783  0.009009  0.008958  0.008039  0.017559  0.009182  0.002903 \n",
       "          X14475gll X14476gll X14463gll X14464gll X14460gll X14472gll X14465gll\n",
       "P.A.N4    0.029321  0.017895  0.009346  0.009858  0.042509  0.028832  0.000732 \n",
       "VDA.J6.N5 0.005401  0.002147  0.002077  0.003286  0.000000  0.003794  0.004389 \n",
       "C.P.N5    0.001543  0.002863  0.003115  0.002191  0.002787  0.004552  0.004389 \n",
       "P.A.N5    0.103395  0.097351  0.097612  0.101862  0.119861  0.097117  0.106803 \n",
       "A.N5.JQ   0.023920  0.012885  0.021807  0.026287  0.013240  0.012140  0.021214 \n",
       "J6.N5.P   0.005401  0.011453  0.008307  0.007667  0.004878  0.006829  0.005852 \n",
       "          X14458gll\n",
       "P.A.N4    0.016043 \n",
       "VDA.J6.N5 0.000000 \n",
       "C.P.N5    0.008913 \n",
       "P.A.N5    0.105169 \n",
       "A.N5.JQ   0.014260 \n",
       "J6.N5.P   0.007130 "
      ]
     },
     "metadata": {},
     "output_type": "display_data"
    }
   ],
   "source": [
    "head(spanish)"
   ]
  },
  {
   "cell_type": "markdown",
   "metadata": {},
   "source": [
    "# Trigrams\n",
    "\n",
    "Rownames of `spanish` dataset are encoded trigrams, sequences of three subsequent words inside a text fragment, which is represented by an encoded name (columns). The value inside the dataframe are the relative frequences of the trigram inside the text fragment."
   ]
  },
  {
   "cell_type": "code",
   "execution_count": 9,
   "metadata": {},
   "outputs": [
    {
     "data": {
      "text/html": [
       "<table>\n",
       "<thead><tr><th></th><th scope=col>P.A.N4</th><th scope=col>VDA.J6.N5</th><th scope=col>C.P.N5</th><th scope=col>P.A.N5</th><th scope=col>A.N5.JQ</th><th scope=col>J6.N5.P</th><th scope=col>A.N5.R6</th><th scope=col>N5.P.N4</th><th scope=col>N5.P.N5</th><th scope=col>N5.VDA.P</th><th scope=col>⋯</th><th scope=col>C.A.N5</th><th scope=col>N5.P.J6</th><th scope=col>JQ.A.N5</th><th scope=col>N5.A.N5</th><th scope=col>JP.N5.JQ</th><th scope=col>P.N4.A</th><th scope=col>P.N4.C</th><th scope=col>C.P.A</th><th scope=col>VDA.P.N5</th><th scope=col>J6.N5.JQ</th></tr></thead>\n",
       "<tbody>\n",
       "\t<tr><th scope=row>X14461gll</th><td>0.027494</td><td>0.000786</td><td>0.008641</td><td>0.118617</td><td>0.011783</td><td>0.011783</td><td>0.014140</td><td>0.021995</td><td>0.032207</td><td>0.000000</td><td>⋯       </td><td>0.016496</td><td>0.005499</td><td>0.003142</td><td>0.027494</td><td>0.000000</td><td>0.007855</td><td>0.004713</td><td>0.009427</td><td>0.000786</td><td>0.008641</td></tr>\n",
       "\t<tr><th scope=row>X14473gll</th><td>0.006757</td><td>0.010135</td><td>0.001126</td><td>0.118243</td><td>0.006757</td><td>0.009009</td><td>0.009009</td><td>0.005631</td><td>0.016892</td><td>0.002252</td><td>⋯       </td><td>0.019144</td><td>0.000000</td><td>0.002252</td><td>0.015766</td><td>0.003378</td><td>0.001126</td><td>0.004505</td><td>0.011261</td><td>0.003378</td><td>0.002252</td></tr>\n",
       "\t<tr><th scope=row>X14466gll</th><td>0.000814</td><td>0.003257</td><td>0.001629</td><td>0.102606</td><td>0.014658</td><td>0.008958</td><td>0.001629</td><td>0.004072</td><td>0.030130</td><td>0.003257</td><td>⋯       </td><td>0.012215</td><td>0.003257</td><td>0.001629</td><td>0.008143</td><td>0.006515</td><td>0.000814</td><td>0.000000</td><td>0.005700</td><td>0.002443</td><td>0.004072</td></tr>\n",
       "\t<tr><th scope=row>X14459gll</th><td>0.024116</td><td>0.001608</td><td>0.003215</td><td>0.131833</td><td>0.008039</td><td>0.008039</td><td>0.003215</td><td>0.016077</td><td>0.024116</td><td>0.003215</td><td>⋯       </td><td>0.011254</td><td>0.004823</td><td>0.006431</td><td>0.011254</td><td>0.003215</td><td>0.008039</td><td>0.004823</td><td>0.003215</td><td>0.001608</td><td>0.004823</td></tr>\n",
       "\t<tr><th scope=row>X14462gll</th><td>0.009658</td><td>0.005268</td><td>0.001756</td><td>0.118525</td><td>0.000878</td><td>0.017559</td><td>0.004390</td><td>0.006146</td><td>0.021071</td><td>0.001756</td><td>⋯       </td><td>0.015803</td><td>0.002634</td><td>0.004390</td><td>0.011414</td><td>0.001756</td><td>0.000878</td><td>0.002634</td><td>0.009658</td><td>0.005268</td><td>0.003512</td></tr>\n",
       "\t<tr><th scope=row>X14474gll</th><td>0.017529</td><td>0.003339</td><td>0.007513</td><td>0.090150</td><td>0.015860</td><td>0.009182</td><td>0.002504</td><td>0.010851</td><td>0.048414</td><td>0.002504</td><td>⋯       </td><td>0.014190</td><td>0.002504</td><td>0.005843</td><td>0.017529</td><td>0.006678</td><td>0.001669</td><td>0.005843</td><td>0.012521</td><td>0.000000</td><td>0.002504</td></tr>\n",
       "\t<tr><th scope=row>X14467gll</th><td>0.039187</td><td>0.000726</td><td>0.003628</td><td>0.097968</td><td>0.019594</td><td>0.002903</td><td>0.002177</td><td>0.002177</td><td>0.042090</td><td>0.002903</td><td>⋯       </td><td>0.013788</td><td>0.002177</td><td>0.002903</td><td>0.007983</td><td>0.000726</td><td>0.001451</td><td>0.000000</td><td>0.007257</td><td>0.005080</td><td>0.002903</td></tr>\n",
       "\t<tr><th scope=row>X14475gll</th><td>0.029321</td><td>0.005401</td><td>0.001543</td><td>0.103395</td><td>0.023920</td><td>0.005401</td><td>0.000772</td><td>0.007716</td><td>0.039352</td><td>0.003086</td><td>⋯       </td><td>0.011574</td><td>0.003086</td><td>0.006944</td><td>0.009259</td><td>0.006173</td><td>0.002315</td><td>0.002315</td><td>0.010031</td><td>0.005401</td><td>0.006173</td></tr>\n",
       "\t<tr><th scope=row>X14476gll</th><td>0.017895</td><td>0.002147</td><td>0.002863</td><td>0.097351</td><td>0.012885</td><td>0.011453</td><td>0.000716</td><td>0.010021</td><td>0.047960</td><td>0.004295</td><td>⋯       </td><td>0.011453</td><td>0.007874</td><td>0.002863</td><td>0.017895</td><td>0.002147</td><td>0.000716</td><td>0.005011</td><td>0.003579</td><td>0.000000</td><td>0.005727</td></tr>\n",
       "\t<tr><th scope=row>X14463gll</th><td>0.009346</td><td>0.002077</td><td>0.003115</td><td>0.097612</td><td>0.021807</td><td>0.008307</td><td>0.003115</td><td>0.008307</td><td>0.041537</td><td>0.008307</td><td>⋯       </td><td>0.018692</td><td>0.004154</td><td>0.004154</td><td>0.020768</td><td>0.001038</td><td>0.002077</td><td>0.000000</td><td>0.006231</td><td>0.009346</td><td>0.003115</td></tr>\n",
       "\t<tr><th scope=row>X14464gll</th><td>0.009858</td><td>0.003286</td><td>0.002191</td><td>0.101862</td><td>0.026287</td><td>0.007667</td><td>0.006572</td><td>0.004381</td><td>0.041621</td><td>0.003286</td><td>⋯       </td><td>0.006572</td><td>0.004381</td><td>0.005476</td><td>0.010953</td><td>0.001095</td><td>0.002191</td><td>0.001095</td><td>0.004381</td><td>0.001095</td><td>0.002191</td></tr>\n",
       "\t<tr><th scope=row>X14460gll</th><td>0.042509</td><td>0.000000</td><td>0.002787</td><td>0.119861</td><td>0.013240</td><td>0.004878</td><td>0.002787</td><td>0.039721</td><td>0.023693</td><td>0.000000</td><td>⋯       </td><td>0.005575</td><td>0.003484</td><td>0.011150</td><td>0.017422</td><td>0.002091</td><td>0.007666</td><td>0.010453</td><td>0.007666</td><td>0.000000</td><td>0.002091</td></tr>\n",
       "\t<tr><th scope=row>X14472gll</th><td>0.028832</td><td>0.003794</td><td>0.004552</td><td>0.097117</td><td>0.012140</td><td>0.006829</td><td>0.012898</td><td>0.008346</td><td>0.022762</td><td>0.009105</td><td>⋯       </td><td>0.022003</td><td>0.001517</td><td>0.012140</td><td>0.015933</td><td>0.001517</td><td>0.003035</td><td>0.005311</td><td>0.012140</td><td>0.009105</td><td>0.002276</td></tr>\n",
       "\t<tr><th scope=row>X14465gll</th><td>0.000732</td><td>0.004389</td><td>0.004389</td><td>0.106803</td><td>0.021214</td><td>0.005852</td><td>0.005121</td><td>0.002195</td><td>0.026335</td><td>0.002195</td><td>⋯       </td><td>0.016094</td><td>0.007315</td><td>0.005852</td><td>0.012436</td><td>0.005121</td><td>0.001463</td><td>0.000732</td><td>0.005852</td><td>0.005121</td><td>0.009510</td></tr>\n",
       "\t<tr><th scope=row>X14458gll</th><td>0.016043</td><td>0.000000</td><td>0.008913</td><td>0.105169</td><td>0.014260</td><td>0.007130</td><td>0.010695</td><td>0.023173</td><td>0.032086</td><td>0.000000</td><td>⋯       </td><td>0.026738</td><td>0.001783</td><td>0.010695</td><td>0.016043</td><td>0.001783</td><td>0.008913</td><td>0.007130</td><td>0.007130</td><td>0.000000</td><td>0.001783</td></tr>\n",
       "</tbody>\n",
       "</table>\n"
      ],
      "text/latex": [
       "\\begin{tabular}{r|llllllllllllllllllllllllllllllllllllllllllllllllllllllllllllllllllllllllllllllllllllllllllllllllllllllllllllllllllllllll}\n",
       "  & P.A.N4 & VDA.J6.N5 & C.P.N5 & P.A.N5 & A.N5.JQ & J6.N5.P & A.N5.R6 & N5.P.N4 & N5.P.N5 & N5.VDA.P & ⋯ & C.A.N5 & N5.P.J6 & JQ.A.N5 & N5.A.N5 & JP.N5.JQ & P.N4.A & P.N4.C & C.P.A & VDA.P.N5 & J6.N5.JQ\\\\\n",
       "\\hline\n",
       "\tX14461gll & 0.027494 & 0.000786 & 0.008641 & 0.118617 & 0.011783 & 0.011783 & 0.014140 & 0.021995 & 0.032207 & 0.000000 & ⋯        & 0.016496 & 0.005499 & 0.003142 & 0.027494 & 0.000000 & 0.007855 & 0.004713 & 0.009427 & 0.000786 & 0.008641\\\\\n",
       "\tX14473gll & 0.006757 & 0.010135 & 0.001126 & 0.118243 & 0.006757 & 0.009009 & 0.009009 & 0.005631 & 0.016892 & 0.002252 & ⋯        & 0.019144 & 0.000000 & 0.002252 & 0.015766 & 0.003378 & 0.001126 & 0.004505 & 0.011261 & 0.003378 & 0.002252\\\\\n",
       "\tX14466gll & 0.000814 & 0.003257 & 0.001629 & 0.102606 & 0.014658 & 0.008958 & 0.001629 & 0.004072 & 0.030130 & 0.003257 & ⋯        & 0.012215 & 0.003257 & 0.001629 & 0.008143 & 0.006515 & 0.000814 & 0.000000 & 0.005700 & 0.002443 & 0.004072\\\\\n",
       "\tX14459gll & 0.024116 & 0.001608 & 0.003215 & 0.131833 & 0.008039 & 0.008039 & 0.003215 & 0.016077 & 0.024116 & 0.003215 & ⋯        & 0.011254 & 0.004823 & 0.006431 & 0.011254 & 0.003215 & 0.008039 & 0.004823 & 0.003215 & 0.001608 & 0.004823\\\\\n",
       "\tX14462gll & 0.009658 & 0.005268 & 0.001756 & 0.118525 & 0.000878 & 0.017559 & 0.004390 & 0.006146 & 0.021071 & 0.001756 & ⋯        & 0.015803 & 0.002634 & 0.004390 & 0.011414 & 0.001756 & 0.000878 & 0.002634 & 0.009658 & 0.005268 & 0.003512\\\\\n",
       "\tX14474gll & 0.017529 & 0.003339 & 0.007513 & 0.090150 & 0.015860 & 0.009182 & 0.002504 & 0.010851 & 0.048414 & 0.002504 & ⋯        & 0.014190 & 0.002504 & 0.005843 & 0.017529 & 0.006678 & 0.001669 & 0.005843 & 0.012521 & 0.000000 & 0.002504\\\\\n",
       "\tX14467gll & 0.039187 & 0.000726 & 0.003628 & 0.097968 & 0.019594 & 0.002903 & 0.002177 & 0.002177 & 0.042090 & 0.002903 & ⋯        & 0.013788 & 0.002177 & 0.002903 & 0.007983 & 0.000726 & 0.001451 & 0.000000 & 0.007257 & 0.005080 & 0.002903\\\\\n",
       "\tX14475gll & 0.029321 & 0.005401 & 0.001543 & 0.103395 & 0.023920 & 0.005401 & 0.000772 & 0.007716 & 0.039352 & 0.003086 & ⋯        & 0.011574 & 0.003086 & 0.006944 & 0.009259 & 0.006173 & 0.002315 & 0.002315 & 0.010031 & 0.005401 & 0.006173\\\\\n",
       "\tX14476gll & 0.017895 & 0.002147 & 0.002863 & 0.097351 & 0.012885 & 0.011453 & 0.000716 & 0.010021 & 0.047960 & 0.004295 & ⋯        & 0.011453 & 0.007874 & 0.002863 & 0.017895 & 0.002147 & 0.000716 & 0.005011 & 0.003579 & 0.000000 & 0.005727\\\\\n",
       "\tX14463gll & 0.009346 & 0.002077 & 0.003115 & 0.097612 & 0.021807 & 0.008307 & 0.003115 & 0.008307 & 0.041537 & 0.008307 & ⋯        & 0.018692 & 0.004154 & 0.004154 & 0.020768 & 0.001038 & 0.002077 & 0.000000 & 0.006231 & 0.009346 & 0.003115\\\\\n",
       "\tX14464gll & 0.009858 & 0.003286 & 0.002191 & 0.101862 & 0.026287 & 0.007667 & 0.006572 & 0.004381 & 0.041621 & 0.003286 & ⋯        & 0.006572 & 0.004381 & 0.005476 & 0.010953 & 0.001095 & 0.002191 & 0.001095 & 0.004381 & 0.001095 & 0.002191\\\\\n",
       "\tX14460gll & 0.042509 & 0.000000 & 0.002787 & 0.119861 & 0.013240 & 0.004878 & 0.002787 & 0.039721 & 0.023693 & 0.000000 & ⋯        & 0.005575 & 0.003484 & 0.011150 & 0.017422 & 0.002091 & 0.007666 & 0.010453 & 0.007666 & 0.000000 & 0.002091\\\\\n",
       "\tX14472gll & 0.028832 & 0.003794 & 0.004552 & 0.097117 & 0.012140 & 0.006829 & 0.012898 & 0.008346 & 0.022762 & 0.009105 & ⋯        & 0.022003 & 0.001517 & 0.012140 & 0.015933 & 0.001517 & 0.003035 & 0.005311 & 0.012140 & 0.009105 & 0.002276\\\\\n",
       "\tX14465gll & 0.000732 & 0.004389 & 0.004389 & 0.106803 & 0.021214 & 0.005852 & 0.005121 & 0.002195 & 0.026335 & 0.002195 & ⋯        & 0.016094 & 0.007315 & 0.005852 & 0.012436 & 0.005121 & 0.001463 & 0.000732 & 0.005852 & 0.005121 & 0.009510\\\\\n",
       "\tX14458gll & 0.016043 & 0.000000 & 0.008913 & 0.105169 & 0.014260 & 0.007130 & 0.010695 & 0.023173 & 0.032086 & 0.000000 & ⋯        & 0.026738 & 0.001783 & 0.010695 & 0.016043 & 0.001783 & 0.008913 & 0.007130 & 0.007130 & 0.000000 & 0.001783\\\\\n",
       "\\end{tabular}\n"
      ],
      "text/markdown": [
       "\n",
       "| <!--/--> | P.A.N4 | VDA.J6.N5 | C.P.N5 | P.A.N5 | A.N5.JQ | J6.N5.P | A.N5.R6 | N5.P.N4 | N5.P.N5 | N5.VDA.P | ⋯ | C.A.N5 | N5.P.J6 | JQ.A.N5 | N5.A.N5 | JP.N5.JQ | P.N4.A | P.N4.C | C.P.A | VDA.P.N5 | J6.N5.JQ | \n",
       "|---|---|---|---|---|---|---|---|---|---|---|---|---|---|---|\n",
       "| X14461gll | 0.027494 | 0.000786 | 0.008641 | 0.118617 | 0.011783 | 0.011783 | 0.014140 | 0.021995 | 0.032207 | 0.000000 | ⋯        | 0.016496 | 0.005499 | 0.003142 | 0.027494 | 0.000000 | 0.007855 | 0.004713 | 0.009427 | 0.000786 | 0.008641 | \n",
       "| X14473gll | 0.006757 | 0.010135 | 0.001126 | 0.118243 | 0.006757 | 0.009009 | 0.009009 | 0.005631 | 0.016892 | 0.002252 | ⋯        | 0.019144 | 0.000000 | 0.002252 | 0.015766 | 0.003378 | 0.001126 | 0.004505 | 0.011261 | 0.003378 | 0.002252 | \n",
       "| X14466gll | 0.000814 | 0.003257 | 0.001629 | 0.102606 | 0.014658 | 0.008958 | 0.001629 | 0.004072 | 0.030130 | 0.003257 | ⋯        | 0.012215 | 0.003257 | 0.001629 | 0.008143 | 0.006515 | 0.000814 | 0.000000 | 0.005700 | 0.002443 | 0.004072 | \n",
       "| X14459gll | 0.024116 | 0.001608 | 0.003215 | 0.131833 | 0.008039 | 0.008039 | 0.003215 | 0.016077 | 0.024116 | 0.003215 | ⋯        | 0.011254 | 0.004823 | 0.006431 | 0.011254 | 0.003215 | 0.008039 | 0.004823 | 0.003215 | 0.001608 | 0.004823 | \n",
       "| X14462gll | 0.009658 | 0.005268 | 0.001756 | 0.118525 | 0.000878 | 0.017559 | 0.004390 | 0.006146 | 0.021071 | 0.001756 | ⋯        | 0.015803 | 0.002634 | 0.004390 | 0.011414 | 0.001756 | 0.000878 | 0.002634 | 0.009658 | 0.005268 | 0.003512 | \n",
       "| X14474gll | 0.017529 | 0.003339 | 0.007513 | 0.090150 | 0.015860 | 0.009182 | 0.002504 | 0.010851 | 0.048414 | 0.002504 | ⋯        | 0.014190 | 0.002504 | 0.005843 | 0.017529 | 0.006678 | 0.001669 | 0.005843 | 0.012521 | 0.000000 | 0.002504 | \n",
       "| X14467gll | 0.039187 | 0.000726 | 0.003628 | 0.097968 | 0.019594 | 0.002903 | 0.002177 | 0.002177 | 0.042090 | 0.002903 | ⋯        | 0.013788 | 0.002177 | 0.002903 | 0.007983 | 0.000726 | 0.001451 | 0.000000 | 0.007257 | 0.005080 | 0.002903 | \n",
       "| X14475gll | 0.029321 | 0.005401 | 0.001543 | 0.103395 | 0.023920 | 0.005401 | 0.000772 | 0.007716 | 0.039352 | 0.003086 | ⋯        | 0.011574 | 0.003086 | 0.006944 | 0.009259 | 0.006173 | 0.002315 | 0.002315 | 0.010031 | 0.005401 | 0.006173 | \n",
       "| X14476gll | 0.017895 | 0.002147 | 0.002863 | 0.097351 | 0.012885 | 0.011453 | 0.000716 | 0.010021 | 0.047960 | 0.004295 | ⋯        | 0.011453 | 0.007874 | 0.002863 | 0.017895 | 0.002147 | 0.000716 | 0.005011 | 0.003579 | 0.000000 | 0.005727 | \n",
       "| X14463gll | 0.009346 | 0.002077 | 0.003115 | 0.097612 | 0.021807 | 0.008307 | 0.003115 | 0.008307 | 0.041537 | 0.008307 | ⋯        | 0.018692 | 0.004154 | 0.004154 | 0.020768 | 0.001038 | 0.002077 | 0.000000 | 0.006231 | 0.009346 | 0.003115 | \n",
       "| X14464gll | 0.009858 | 0.003286 | 0.002191 | 0.101862 | 0.026287 | 0.007667 | 0.006572 | 0.004381 | 0.041621 | 0.003286 | ⋯        | 0.006572 | 0.004381 | 0.005476 | 0.010953 | 0.001095 | 0.002191 | 0.001095 | 0.004381 | 0.001095 | 0.002191 | \n",
       "| X14460gll | 0.042509 | 0.000000 | 0.002787 | 0.119861 | 0.013240 | 0.004878 | 0.002787 | 0.039721 | 0.023693 | 0.000000 | ⋯        | 0.005575 | 0.003484 | 0.011150 | 0.017422 | 0.002091 | 0.007666 | 0.010453 | 0.007666 | 0.000000 | 0.002091 | \n",
       "| X14472gll | 0.028832 | 0.003794 | 0.004552 | 0.097117 | 0.012140 | 0.006829 | 0.012898 | 0.008346 | 0.022762 | 0.009105 | ⋯        | 0.022003 | 0.001517 | 0.012140 | 0.015933 | 0.001517 | 0.003035 | 0.005311 | 0.012140 | 0.009105 | 0.002276 | \n",
       "| X14465gll | 0.000732 | 0.004389 | 0.004389 | 0.106803 | 0.021214 | 0.005852 | 0.005121 | 0.002195 | 0.026335 | 0.002195 | ⋯        | 0.016094 | 0.007315 | 0.005852 | 0.012436 | 0.005121 | 0.001463 | 0.000732 | 0.005852 | 0.005121 | 0.009510 | \n",
       "| X14458gll | 0.016043 | 0.000000 | 0.008913 | 0.105169 | 0.014260 | 0.007130 | 0.010695 | 0.023173 | 0.032086 | 0.000000 | ⋯        | 0.026738 | 0.001783 | 0.010695 | 0.016043 | 0.001783 | 0.008913 | 0.007130 | 0.007130 | 0.000000 | 0.001783 | \n",
       "\n",
       "\n"
      ],
      "text/plain": [
       "          P.A.N4   VDA.J6.N5 C.P.N5   P.A.N5   A.N5.JQ  J6.N5.P  A.N5.R6 \n",
       "X14461gll 0.027494 0.000786  0.008641 0.118617 0.011783 0.011783 0.014140\n",
       "X14473gll 0.006757 0.010135  0.001126 0.118243 0.006757 0.009009 0.009009\n",
       "X14466gll 0.000814 0.003257  0.001629 0.102606 0.014658 0.008958 0.001629\n",
       "X14459gll 0.024116 0.001608  0.003215 0.131833 0.008039 0.008039 0.003215\n",
       "X14462gll 0.009658 0.005268  0.001756 0.118525 0.000878 0.017559 0.004390\n",
       "X14474gll 0.017529 0.003339  0.007513 0.090150 0.015860 0.009182 0.002504\n",
       "X14467gll 0.039187 0.000726  0.003628 0.097968 0.019594 0.002903 0.002177\n",
       "X14475gll 0.029321 0.005401  0.001543 0.103395 0.023920 0.005401 0.000772\n",
       "X14476gll 0.017895 0.002147  0.002863 0.097351 0.012885 0.011453 0.000716\n",
       "X14463gll 0.009346 0.002077  0.003115 0.097612 0.021807 0.008307 0.003115\n",
       "X14464gll 0.009858 0.003286  0.002191 0.101862 0.026287 0.007667 0.006572\n",
       "X14460gll 0.042509 0.000000  0.002787 0.119861 0.013240 0.004878 0.002787\n",
       "X14472gll 0.028832 0.003794  0.004552 0.097117 0.012140 0.006829 0.012898\n",
       "X14465gll 0.000732 0.004389  0.004389 0.106803 0.021214 0.005852 0.005121\n",
       "X14458gll 0.016043 0.000000  0.008913 0.105169 0.014260 0.007130 0.010695\n",
       "          N5.P.N4  N5.P.N5  N5.VDA.P ⋯ C.A.N5   N5.P.J6  JQ.A.N5  N5.A.N5 \n",
       "X14461gll 0.021995 0.032207 0.000000 ⋯ 0.016496 0.005499 0.003142 0.027494\n",
       "X14473gll 0.005631 0.016892 0.002252 ⋯ 0.019144 0.000000 0.002252 0.015766\n",
       "X14466gll 0.004072 0.030130 0.003257 ⋯ 0.012215 0.003257 0.001629 0.008143\n",
       "X14459gll 0.016077 0.024116 0.003215 ⋯ 0.011254 0.004823 0.006431 0.011254\n",
       "X14462gll 0.006146 0.021071 0.001756 ⋯ 0.015803 0.002634 0.004390 0.011414\n",
       "X14474gll 0.010851 0.048414 0.002504 ⋯ 0.014190 0.002504 0.005843 0.017529\n",
       "X14467gll 0.002177 0.042090 0.002903 ⋯ 0.013788 0.002177 0.002903 0.007983\n",
       "X14475gll 0.007716 0.039352 0.003086 ⋯ 0.011574 0.003086 0.006944 0.009259\n",
       "X14476gll 0.010021 0.047960 0.004295 ⋯ 0.011453 0.007874 0.002863 0.017895\n",
       "X14463gll 0.008307 0.041537 0.008307 ⋯ 0.018692 0.004154 0.004154 0.020768\n",
       "X14464gll 0.004381 0.041621 0.003286 ⋯ 0.006572 0.004381 0.005476 0.010953\n",
       "X14460gll 0.039721 0.023693 0.000000 ⋯ 0.005575 0.003484 0.011150 0.017422\n",
       "X14472gll 0.008346 0.022762 0.009105 ⋯ 0.022003 0.001517 0.012140 0.015933\n",
       "X14465gll 0.002195 0.026335 0.002195 ⋯ 0.016094 0.007315 0.005852 0.012436\n",
       "X14458gll 0.023173 0.032086 0.000000 ⋯ 0.026738 0.001783 0.010695 0.016043\n",
       "          JP.N5.JQ P.N4.A   P.N4.C   C.P.A    VDA.P.N5 J6.N5.JQ\n",
       "X14461gll 0.000000 0.007855 0.004713 0.009427 0.000786 0.008641\n",
       "X14473gll 0.003378 0.001126 0.004505 0.011261 0.003378 0.002252\n",
       "X14466gll 0.006515 0.000814 0.000000 0.005700 0.002443 0.004072\n",
       "X14459gll 0.003215 0.008039 0.004823 0.003215 0.001608 0.004823\n",
       "X14462gll 0.001756 0.000878 0.002634 0.009658 0.005268 0.003512\n",
       "X14474gll 0.006678 0.001669 0.005843 0.012521 0.000000 0.002504\n",
       "X14467gll 0.000726 0.001451 0.000000 0.007257 0.005080 0.002903\n",
       "X14475gll 0.006173 0.002315 0.002315 0.010031 0.005401 0.006173\n",
       "X14476gll 0.002147 0.000716 0.005011 0.003579 0.000000 0.005727\n",
       "X14463gll 0.001038 0.002077 0.000000 0.006231 0.009346 0.003115\n",
       "X14464gll 0.001095 0.002191 0.001095 0.004381 0.001095 0.002191\n",
       "X14460gll 0.002091 0.007666 0.010453 0.007666 0.000000 0.002091\n",
       "X14472gll 0.001517 0.003035 0.005311 0.012140 0.009105 0.002276\n",
       "X14465gll 0.005121 0.001463 0.000732 0.005852 0.005121 0.009510\n",
       "X14458gll 0.001783 0.008913 0.007130 0.007130 0.000000 0.001783"
      ]
     },
     "metadata": {},
     "output_type": "display_data"
    }
   ],
   "source": [
    "# Transposes the spanish dataframe\n",
    "spanish_t <- t(spanish) %>% as.data.frame()\n",
    "spanish_t"
   ]
  },
  {
   "cell_type": "code",
   "execution_count": 12,
   "metadata": {},
   "outputs": [
    {
     "data": {
      "text/html": [
       "<table>\n",
       "<thead><tr><th></th><th scope=col>P.A.N4</th><th scope=col>VDA.J6.N5</th><th scope=col>C.P.N5</th><th scope=col>P.A.N5</th><th scope=col>A.N5.JQ</th><th scope=col>J6.N5.P</th><th scope=col>A.N5.R6</th><th scope=col>N5.P.N4</th><th scope=col>N5.P.N5</th><th scope=col>N5.VDA.P</th><th scope=col>⋯</th><th scope=col>C.A.N5</th><th scope=col>N5.P.J6</th><th scope=col>JQ.A.N5</th><th scope=col>N5.A.N5</th><th scope=col>JP.N5.JQ</th><th scope=col>P.N4.A</th><th scope=col>P.N4.C</th><th scope=col>C.P.A</th><th scope=col>VDA.P.N5</th><th scope=col>J6.N5.JQ</th></tr></thead>\n",
       "<tbody>\n",
       "\t<tr><th scope=row>X14458gll</th><td>0.016043</td><td>0.000000</td><td>0.008913</td><td>0.105169</td><td>0.014260</td><td>0.007130</td><td>0.010695</td><td>0.023173</td><td>0.032086</td><td>0.000000</td><td>⋯       </td><td>0.026738</td><td>0.001783</td><td>0.010695</td><td>0.016043</td><td>0.001783</td><td>0.008913</td><td>0.007130</td><td>0.007130</td><td>0.000000</td><td>0.001783</td></tr>\n",
       "\t<tr><th scope=row>X14459gll</th><td>0.024116</td><td>0.001608</td><td>0.003215</td><td>0.131833</td><td>0.008039</td><td>0.008039</td><td>0.003215</td><td>0.016077</td><td>0.024116</td><td>0.003215</td><td>⋯       </td><td>0.011254</td><td>0.004823</td><td>0.006431</td><td>0.011254</td><td>0.003215</td><td>0.008039</td><td>0.004823</td><td>0.003215</td><td>0.001608</td><td>0.004823</td></tr>\n",
       "\t<tr><th scope=row>X14460gll</th><td>0.042509</td><td>0.000000</td><td>0.002787</td><td>0.119861</td><td>0.013240</td><td>0.004878</td><td>0.002787</td><td>0.039721</td><td>0.023693</td><td>0.000000</td><td>⋯       </td><td>0.005575</td><td>0.003484</td><td>0.011150</td><td>0.017422</td><td>0.002091</td><td>0.007666</td><td>0.010453</td><td>0.007666</td><td>0.000000</td><td>0.002091</td></tr>\n",
       "\t<tr><th scope=row>X14461gll</th><td>0.027494</td><td>0.000786</td><td>0.008641</td><td>0.118617</td><td>0.011783</td><td>0.011783</td><td>0.014140</td><td>0.021995</td><td>0.032207</td><td>0.000000</td><td>⋯       </td><td>0.016496</td><td>0.005499</td><td>0.003142</td><td>0.027494</td><td>0.000000</td><td>0.007855</td><td>0.004713</td><td>0.009427</td><td>0.000786</td><td>0.008641</td></tr>\n",
       "\t<tr><th scope=row>X14462gll</th><td>0.009658</td><td>0.005268</td><td>0.001756</td><td>0.118525</td><td>0.000878</td><td>0.017559</td><td>0.004390</td><td>0.006146</td><td>0.021071</td><td>0.001756</td><td>⋯       </td><td>0.015803</td><td>0.002634</td><td>0.004390</td><td>0.011414</td><td>0.001756</td><td>0.000878</td><td>0.002634</td><td>0.009658</td><td>0.005268</td><td>0.003512</td></tr>\n",
       "\t<tr><th scope=row>X14463gll</th><td>0.009346</td><td>0.002077</td><td>0.003115</td><td>0.097612</td><td>0.021807</td><td>0.008307</td><td>0.003115</td><td>0.008307</td><td>0.041537</td><td>0.008307</td><td>⋯       </td><td>0.018692</td><td>0.004154</td><td>0.004154</td><td>0.020768</td><td>0.001038</td><td>0.002077</td><td>0.000000</td><td>0.006231</td><td>0.009346</td><td>0.003115</td></tr>\n",
       "\t<tr><th scope=row>X14464gll</th><td>0.009858</td><td>0.003286</td><td>0.002191</td><td>0.101862</td><td>0.026287</td><td>0.007667</td><td>0.006572</td><td>0.004381</td><td>0.041621</td><td>0.003286</td><td>⋯       </td><td>0.006572</td><td>0.004381</td><td>0.005476</td><td>0.010953</td><td>0.001095</td><td>0.002191</td><td>0.001095</td><td>0.004381</td><td>0.001095</td><td>0.002191</td></tr>\n",
       "\t<tr><th scope=row>X14465gll</th><td>0.000732</td><td>0.004389</td><td>0.004389</td><td>0.106803</td><td>0.021214</td><td>0.005852</td><td>0.005121</td><td>0.002195</td><td>0.026335</td><td>0.002195</td><td>⋯       </td><td>0.016094</td><td>0.007315</td><td>0.005852</td><td>0.012436</td><td>0.005121</td><td>0.001463</td><td>0.000732</td><td>0.005852</td><td>0.005121</td><td>0.009510</td></tr>\n",
       "\t<tr><th scope=row>X14466gll</th><td>0.000814</td><td>0.003257</td><td>0.001629</td><td>0.102606</td><td>0.014658</td><td>0.008958</td><td>0.001629</td><td>0.004072</td><td>0.030130</td><td>0.003257</td><td>⋯       </td><td>0.012215</td><td>0.003257</td><td>0.001629</td><td>0.008143</td><td>0.006515</td><td>0.000814</td><td>0.000000</td><td>0.005700</td><td>0.002443</td><td>0.004072</td></tr>\n",
       "\t<tr><th scope=row>X14467gll</th><td>0.039187</td><td>0.000726</td><td>0.003628</td><td>0.097968</td><td>0.019594</td><td>0.002903</td><td>0.002177</td><td>0.002177</td><td>0.042090</td><td>0.002903</td><td>⋯       </td><td>0.013788</td><td>0.002177</td><td>0.002903</td><td>0.007983</td><td>0.000726</td><td>0.001451</td><td>0.000000</td><td>0.007257</td><td>0.005080</td><td>0.002903</td></tr>\n",
       "\t<tr><th scope=row>X14472gll</th><td>0.028832</td><td>0.003794</td><td>0.004552</td><td>0.097117</td><td>0.012140</td><td>0.006829</td><td>0.012898</td><td>0.008346</td><td>0.022762</td><td>0.009105</td><td>⋯       </td><td>0.022003</td><td>0.001517</td><td>0.012140</td><td>0.015933</td><td>0.001517</td><td>0.003035</td><td>0.005311</td><td>0.012140</td><td>0.009105</td><td>0.002276</td></tr>\n",
       "\t<tr><th scope=row>X14473gll</th><td>0.006757</td><td>0.010135</td><td>0.001126</td><td>0.118243</td><td>0.006757</td><td>0.009009</td><td>0.009009</td><td>0.005631</td><td>0.016892</td><td>0.002252</td><td>⋯       </td><td>0.019144</td><td>0.000000</td><td>0.002252</td><td>0.015766</td><td>0.003378</td><td>0.001126</td><td>0.004505</td><td>0.011261</td><td>0.003378</td><td>0.002252</td></tr>\n",
       "\t<tr><th scope=row>X14474gll</th><td>0.017529</td><td>0.003339</td><td>0.007513</td><td>0.090150</td><td>0.015860</td><td>0.009182</td><td>0.002504</td><td>0.010851</td><td>0.048414</td><td>0.002504</td><td>⋯       </td><td>0.014190</td><td>0.002504</td><td>0.005843</td><td>0.017529</td><td>0.006678</td><td>0.001669</td><td>0.005843</td><td>0.012521</td><td>0.000000</td><td>0.002504</td></tr>\n",
       "\t<tr><th scope=row>X14475gll</th><td>0.029321</td><td>0.005401</td><td>0.001543</td><td>0.103395</td><td>0.023920</td><td>0.005401</td><td>0.000772</td><td>0.007716</td><td>0.039352</td><td>0.003086</td><td>⋯       </td><td>0.011574</td><td>0.003086</td><td>0.006944</td><td>0.009259</td><td>0.006173</td><td>0.002315</td><td>0.002315</td><td>0.010031</td><td>0.005401</td><td>0.006173</td></tr>\n",
       "\t<tr><th scope=row>X14476gll</th><td>0.017895</td><td>0.002147</td><td>0.002863</td><td>0.097351</td><td>0.012885</td><td>0.011453</td><td>0.000716</td><td>0.010021</td><td>0.047960</td><td>0.004295</td><td>⋯       </td><td>0.011453</td><td>0.007874</td><td>0.002863</td><td>0.017895</td><td>0.002147</td><td>0.000716</td><td>0.005011</td><td>0.003579</td><td>0.000000</td><td>0.005727</td></tr>\n",
       "</tbody>\n",
       "</table>\n"
      ],
      "text/latex": [
       "\\begin{tabular}{r|llllllllllllllllllllllllllllllllllllllllllllllllllllllllllllllllllllllllllllllllllllllllllllllllllllllllllllllllllllllll}\n",
       "  & P.A.N4 & VDA.J6.N5 & C.P.N5 & P.A.N5 & A.N5.JQ & J6.N5.P & A.N5.R6 & N5.P.N4 & N5.P.N5 & N5.VDA.P & ⋯ & C.A.N5 & N5.P.J6 & JQ.A.N5 & N5.A.N5 & JP.N5.JQ & P.N4.A & P.N4.C & C.P.A & VDA.P.N5 & J6.N5.JQ\\\\\n",
       "\\hline\n",
       "\tX14458gll & 0.016043 & 0.000000 & 0.008913 & 0.105169 & 0.014260 & 0.007130 & 0.010695 & 0.023173 & 0.032086 & 0.000000 & ⋯        & 0.026738 & 0.001783 & 0.010695 & 0.016043 & 0.001783 & 0.008913 & 0.007130 & 0.007130 & 0.000000 & 0.001783\\\\\n",
       "\tX14459gll & 0.024116 & 0.001608 & 0.003215 & 0.131833 & 0.008039 & 0.008039 & 0.003215 & 0.016077 & 0.024116 & 0.003215 & ⋯        & 0.011254 & 0.004823 & 0.006431 & 0.011254 & 0.003215 & 0.008039 & 0.004823 & 0.003215 & 0.001608 & 0.004823\\\\\n",
       "\tX14460gll & 0.042509 & 0.000000 & 0.002787 & 0.119861 & 0.013240 & 0.004878 & 0.002787 & 0.039721 & 0.023693 & 0.000000 & ⋯        & 0.005575 & 0.003484 & 0.011150 & 0.017422 & 0.002091 & 0.007666 & 0.010453 & 0.007666 & 0.000000 & 0.002091\\\\\n",
       "\tX14461gll & 0.027494 & 0.000786 & 0.008641 & 0.118617 & 0.011783 & 0.011783 & 0.014140 & 0.021995 & 0.032207 & 0.000000 & ⋯        & 0.016496 & 0.005499 & 0.003142 & 0.027494 & 0.000000 & 0.007855 & 0.004713 & 0.009427 & 0.000786 & 0.008641\\\\\n",
       "\tX14462gll & 0.009658 & 0.005268 & 0.001756 & 0.118525 & 0.000878 & 0.017559 & 0.004390 & 0.006146 & 0.021071 & 0.001756 & ⋯        & 0.015803 & 0.002634 & 0.004390 & 0.011414 & 0.001756 & 0.000878 & 0.002634 & 0.009658 & 0.005268 & 0.003512\\\\\n",
       "\tX14463gll & 0.009346 & 0.002077 & 0.003115 & 0.097612 & 0.021807 & 0.008307 & 0.003115 & 0.008307 & 0.041537 & 0.008307 & ⋯        & 0.018692 & 0.004154 & 0.004154 & 0.020768 & 0.001038 & 0.002077 & 0.000000 & 0.006231 & 0.009346 & 0.003115\\\\\n",
       "\tX14464gll & 0.009858 & 0.003286 & 0.002191 & 0.101862 & 0.026287 & 0.007667 & 0.006572 & 0.004381 & 0.041621 & 0.003286 & ⋯        & 0.006572 & 0.004381 & 0.005476 & 0.010953 & 0.001095 & 0.002191 & 0.001095 & 0.004381 & 0.001095 & 0.002191\\\\\n",
       "\tX14465gll & 0.000732 & 0.004389 & 0.004389 & 0.106803 & 0.021214 & 0.005852 & 0.005121 & 0.002195 & 0.026335 & 0.002195 & ⋯        & 0.016094 & 0.007315 & 0.005852 & 0.012436 & 0.005121 & 0.001463 & 0.000732 & 0.005852 & 0.005121 & 0.009510\\\\\n",
       "\tX14466gll & 0.000814 & 0.003257 & 0.001629 & 0.102606 & 0.014658 & 0.008958 & 0.001629 & 0.004072 & 0.030130 & 0.003257 & ⋯        & 0.012215 & 0.003257 & 0.001629 & 0.008143 & 0.006515 & 0.000814 & 0.000000 & 0.005700 & 0.002443 & 0.004072\\\\\n",
       "\tX14467gll & 0.039187 & 0.000726 & 0.003628 & 0.097968 & 0.019594 & 0.002903 & 0.002177 & 0.002177 & 0.042090 & 0.002903 & ⋯        & 0.013788 & 0.002177 & 0.002903 & 0.007983 & 0.000726 & 0.001451 & 0.000000 & 0.007257 & 0.005080 & 0.002903\\\\\n",
       "\tX14472gll & 0.028832 & 0.003794 & 0.004552 & 0.097117 & 0.012140 & 0.006829 & 0.012898 & 0.008346 & 0.022762 & 0.009105 & ⋯        & 0.022003 & 0.001517 & 0.012140 & 0.015933 & 0.001517 & 0.003035 & 0.005311 & 0.012140 & 0.009105 & 0.002276\\\\\n",
       "\tX14473gll & 0.006757 & 0.010135 & 0.001126 & 0.118243 & 0.006757 & 0.009009 & 0.009009 & 0.005631 & 0.016892 & 0.002252 & ⋯        & 0.019144 & 0.000000 & 0.002252 & 0.015766 & 0.003378 & 0.001126 & 0.004505 & 0.011261 & 0.003378 & 0.002252\\\\\n",
       "\tX14474gll & 0.017529 & 0.003339 & 0.007513 & 0.090150 & 0.015860 & 0.009182 & 0.002504 & 0.010851 & 0.048414 & 0.002504 & ⋯        & 0.014190 & 0.002504 & 0.005843 & 0.017529 & 0.006678 & 0.001669 & 0.005843 & 0.012521 & 0.000000 & 0.002504\\\\\n",
       "\tX14475gll & 0.029321 & 0.005401 & 0.001543 & 0.103395 & 0.023920 & 0.005401 & 0.000772 & 0.007716 & 0.039352 & 0.003086 & ⋯        & 0.011574 & 0.003086 & 0.006944 & 0.009259 & 0.006173 & 0.002315 & 0.002315 & 0.010031 & 0.005401 & 0.006173\\\\\n",
       "\tX14476gll & 0.017895 & 0.002147 & 0.002863 & 0.097351 & 0.012885 & 0.011453 & 0.000716 & 0.010021 & 0.047960 & 0.004295 & ⋯        & 0.011453 & 0.007874 & 0.002863 & 0.017895 & 0.002147 & 0.000716 & 0.005011 & 0.003579 & 0.000000 & 0.005727\\\\\n",
       "\\end{tabular}\n"
      ],
      "text/markdown": [
       "\n",
       "| <!--/--> | P.A.N4 | VDA.J6.N5 | C.P.N5 | P.A.N5 | A.N5.JQ | J6.N5.P | A.N5.R6 | N5.P.N4 | N5.P.N5 | N5.VDA.P | ⋯ | C.A.N5 | N5.P.J6 | JQ.A.N5 | N5.A.N5 | JP.N5.JQ | P.N4.A | P.N4.C | C.P.A | VDA.P.N5 | J6.N5.JQ | \n",
       "|---|---|---|---|---|---|---|---|---|---|---|---|---|---|---|\n",
       "| X14458gll | 0.016043 | 0.000000 | 0.008913 | 0.105169 | 0.014260 | 0.007130 | 0.010695 | 0.023173 | 0.032086 | 0.000000 | ⋯        | 0.026738 | 0.001783 | 0.010695 | 0.016043 | 0.001783 | 0.008913 | 0.007130 | 0.007130 | 0.000000 | 0.001783 | \n",
       "| X14459gll | 0.024116 | 0.001608 | 0.003215 | 0.131833 | 0.008039 | 0.008039 | 0.003215 | 0.016077 | 0.024116 | 0.003215 | ⋯        | 0.011254 | 0.004823 | 0.006431 | 0.011254 | 0.003215 | 0.008039 | 0.004823 | 0.003215 | 0.001608 | 0.004823 | \n",
       "| X14460gll | 0.042509 | 0.000000 | 0.002787 | 0.119861 | 0.013240 | 0.004878 | 0.002787 | 0.039721 | 0.023693 | 0.000000 | ⋯        | 0.005575 | 0.003484 | 0.011150 | 0.017422 | 0.002091 | 0.007666 | 0.010453 | 0.007666 | 0.000000 | 0.002091 | \n",
       "| X14461gll | 0.027494 | 0.000786 | 0.008641 | 0.118617 | 0.011783 | 0.011783 | 0.014140 | 0.021995 | 0.032207 | 0.000000 | ⋯        | 0.016496 | 0.005499 | 0.003142 | 0.027494 | 0.000000 | 0.007855 | 0.004713 | 0.009427 | 0.000786 | 0.008641 | \n",
       "| X14462gll | 0.009658 | 0.005268 | 0.001756 | 0.118525 | 0.000878 | 0.017559 | 0.004390 | 0.006146 | 0.021071 | 0.001756 | ⋯        | 0.015803 | 0.002634 | 0.004390 | 0.011414 | 0.001756 | 0.000878 | 0.002634 | 0.009658 | 0.005268 | 0.003512 | \n",
       "| X14463gll | 0.009346 | 0.002077 | 0.003115 | 0.097612 | 0.021807 | 0.008307 | 0.003115 | 0.008307 | 0.041537 | 0.008307 | ⋯        | 0.018692 | 0.004154 | 0.004154 | 0.020768 | 0.001038 | 0.002077 | 0.000000 | 0.006231 | 0.009346 | 0.003115 | \n",
       "| X14464gll | 0.009858 | 0.003286 | 0.002191 | 0.101862 | 0.026287 | 0.007667 | 0.006572 | 0.004381 | 0.041621 | 0.003286 | ⋯        | 0.006572 | 0.004381 | 0.005476 | 0.010953 | 0.001095 | 0.002191 | 0.001095 | 0.004381 | 0.001095 | 0.002191 | \n",
       "| X14465gll | 0.000732 | 0.004389 | 0.004389 | 0.106803 | 0.021214 | 0.005852 | 0.005121 | 0.002195 | 0.026335 | 0.002195 | ⋯        | 0.016094 | 0.007315 | 0.005852 | 0.012436 | 0.005121 | 0.001463 | 0.000732 | 0.005852 | 0.005121 | 0.009510 | \n",
       "| X14466gll | 0.000814 | 0.003257 | 0.001629 | 0.102606 | 0.014658 | 0.008958 | 0.001629 | 0.004072 | 0.030130 | 0.003257 | ⋯        | 0.012215 | 0.003257 | 0.001629 | 0.008143 | 0.006515 | 0.000814 | 0.000000 | 0.005700 | 0.002443 | 0.004072 | \n",
       "| X14467gll | 0.039187 | 0.000726 | 0.003628 | 0.097968 | 0.019594 | 0.002903 | 0.002177 | 0.002177 | 0.042090 | 0.002903 | ⋯        | 0.013788 | 0.002177 | 0.002903 | 0.007983 | 0.000726 | 0.001451 | 0.000000 | 0.007257 | 0.005080 | 0.002903 | \n",
       "| X14472gll | 0.028832 | 0.003794 | 0.004552 | 0.097117 | 0.012140 | 0.006829 | 0.012898 | 0.008346 | 0.022762 | 0.009105 | ⋯        | 0.022003 | 0.001517 | 0.012140 | 0.015933 | 0.001517 | 0.003035 | 0.005311 | 0.012140 | 0.009105 | 0.002276 | \n",
       "| X14473gll | 0.006757 | 0.010135 | 0.001126 | 0.118243 | 0.006757 | 0.009009 | 0.009009 | 0.005631 | 0.016892 | 0.002252 | ⋯        | 0.019144 | 0.000000 | 0.002252 | 0.015766 | 0.003378 | 0.001126 | 0.004505 | 0.011261 | 0.003378 | 0.002252 | \n",
       "| X14474gll | 0.017529 | 0.003339 | 0.007513 | 0.090150 | 0.015860 | 0.009182 | 0.002504 | 0.010851 | 0.048414 | 0.002504 | ⋯        | 0.014190 | 0.002504 | 0.005843 | 0.017529 | 0.006678 | 0.001669 | 0.005843 | 0.012521 | 0.000000 | 0.002504 | \n",
       "| X14475gll | 0.029321 | 0.005401 | 0.001543 | 0.103395 | 0.023920 | 0.005401 | 0.000772 | 0.007716 | 0.039352 | 0.003086 | ⋯        | 0.011574 | 0.003086 | 0.006944 | 0.009259 | 0.006173 | 0.002315 | 0.002315 | 0.010031 | 0.005401 | 0.006173 | \n",
       "| X14476gll | 0.017895 | 0.002147 | 0.002863 | 0.097351 | 0.012885 | 0.011453 | 0.000716 | 0.010021 | 0.047960 | 0.004295 | ⋯        | 0.011453 | 0.007874 | 0.002863 | 0.017895 | 0.002147 | 0.000716 | 0.005011 | 0.003579 | 0.000000 | 0.005727 | \n",
       "\n",
       "\n"
      ],
      "text/plain": [
       "          P.A.N4   VDA.J6.N5 C.P.N5   P.A.N5   A.N5.JQ  J6.N5.P  A.N5.R6 \n",
       "X14458gll 0.016043 0.000000  0.008913 0.105169 0.014260 0.007130 0.010695\n",
       "X14459gll 0.024116 0.001608  0.003215 0.131833 0.008039 0.008039 0.003215\n",
       "X14460gll 0.042509 0.000000  0.002787 0.119861 0.013240 0.004878 0.002787\n",
       "X14461gll 0.027494 0.000786  0.008641 0.118617 0.011783 0.011783 0.014140\n",
       "X14462gll 0.009658 0.005268  0.001756 0.118525 0.000878 0.017559 0.004390\n",
       "X14463gll 0.009346 0.002077  0.003115 0.097612 0.021807 0.008307 0.003115\n",
       "X14464gll 0.009858 0.003286  0.002191 0.101862 0.026287 0.007667 0.006572\n",
       "X14465gll 0.000732 0.004389  0.004389 0.106803 0.021214 0.005852 0.005121\n",
       "X14466gll 0.000814 0.003257  0.001629 0.102606 0.014658 0.008958 0.001629\n",
       "X14467gll 0.039187 0.000726  0.003628 0.097968 0.019594 0.002903 0.002177\n",
       "X14472gll 0.028832 0.003794  0.004552 0.097117 0.012140 0.006829 0.012898\n",
       "X14473gll 0.006757 0.010135  0.001126 0.118243 0.006757 0.009009 0.009009\n",
       "X14474gll 0.017529 0.003339  0.007513 0.090150 0.015860 0.009182 0.002504\n",
       "X14475gll 0.029321 0.005401  0.001543 0.103395 0.023920 0.005401 0.000772\n",
       "X14476gll 0.017895 0.002147  0.002863 0.097351 0.012885 0.011453 0.000716\n",
       "          N5.P.N4  N5.P.N5  N5.VDA.P ⋯ C.A.N5   N5.P.J6  JQ.A.N5  N5.A.N5 \n",
       "X14458gll 0.023173 0.032086 0.000000 ⋯ 0.026738 0.001783 0.010695 0.016043\n",
       "X14459gll 0.016077 0.024116 0.003215 ⋯ 0.011254 0.004823 0.006431 0.011254\n",
       "X14460gll 0.039721 0.023693 0.000000 ⋯ 0.005575 0.003484 0.011150 0.017422\n",
       "X14461gll 0.021995 0.032207 0.000000 ⋯ 0.016496 0.005499 0.003142 0.027494\n",
       "X14462gll 0.006146 0.021071 0.001756 ⋯ 0.015803 0.002634 0.004390 0.011414\n",
       "X14463gll 0.008307 0.041537 0.008307 ⋯ 0.018692 0.004154 0.004154 0.020768\n",
       "X14464gll 0.004381 0.041621 0.003286 ⋯ 0.006572 0.004381 0.005476 0.010953\n",
       "X14465gll 0.002195 0.026335 0.002195 ⋯ 0.016094 0.007315 0.005852 0.012436\n",
       "X14466gll 0.004072 0.030130 0.003257 ⋯ 0.012215 0.003257 0.001629 0.008143\n",
       "X14467gll 0.002177 0.042090 0.002903 ⋯ 0.013788 0.002177 0.002903 0.007983\n",
       "X14472gll 0.008346 0.022762 0.009105 ⋯ 0.022003 0.001517 0.012140 0.015933\n",
       "X14473gll 0.005631 0.016892 0.002252 ⋯ 0.019144 0.000000 0.002252 0.015766\n",
       "X14474gll 0.010851 0.048414 0.002504 ⋯ 0.014190 0.002504 0.005843 0.017529\n",
       "X14475gll 0.007716 0.039352 0.003086 ⋯ 0.011574 0.003086 0.006944 0.009259\n",
       "X14476gll 0.010021 0.047960 0.004295 ⋯ 0.011453 0.007874 0.002863 0.017895\n",
       "          JP.N5.JQ P.N4.A   P.N4.C   C.P.A    VDA.P.N5 J6.N5.JQ\n",
       "X14458gll 0.001783 0.008913 0.007130 0.007130 0.000000 0.001783\n",
       "X14459gll 0.003215 0.008039 0.004823 0.003215 0.001608 0.004823\n",
       "X14460gll 0.002091 0.007666 0.010453 0.007666 0.000000 0.002091\n",
       "X14461gll 0.000000 0.007855 0.004713 0.009427 0.000786 0.008641\n",
       "X14462gll 0.001756 0.000878 0.002634 0.009658 0.005268 0.003512\n",
       "X14463gll 0.001038 0.002077 0.000000 0.006231 0.009346 0.003115\n",
       "X14464gll 0.001095 0.002191 0.001095 0.004381 0.001095 0.002191\n",
       "X14465gll 0.005121 0.001463 0.000732 0.005852 0.005121 0.009510\n",
       "X14466gll 0.006515 0.000814 0.000000 0.005700 0.002443 0.004072\n",
       "X14467gll 0.000726 0.001451 0.000000 0.007257 0.005080 0.002903\n",
       "X14472gll 0.001517 0.003035 0.005311 0.012140 0.009105 0.002276\n",
       "X14473gll 0.003378 0.001126 0.004505 0.011261 0.003378 0.002252\n",
       "X14474gll 0.006678 0.001669 0.005843 0.012521 0.000000 0.002504\n",
       "X14475gll 0.006173 0.002315 0.002315 0.010031 0.005401 0.006173\n",
       "X14476gll 0.002147 0.000716 0.005011 0.003579 0.000000 0.005727"
      ]
     },
     "metadata": {},
     "output_type": "display_data"
    }
   ],
   "source": [
    "# Complicated way using dyplyr:\n",
    "#spanish_ord <- spanish_t %>% rownames_to_column()\n",
    "#spanish_ord <- spanish_ord %>% slice(match(spanishMeta$TextName, rowname))\n",
    "#spanish_ord <- spanish_ord %>% column_to_rownames()\n",
    "#spanish_ord\n",
    "\n",
    "# We could have achieved the same matching between spanishMeta TextNames and spanish rownames\n",
    "# by using the inner join routine in dyplyr, or:\n",
    "spanish_ord <- spanish_t[match(spanishMeta$TextName, rownames(spanish_t)),]\n",
    "spanish_ord"
   ]
  },
  {
   "cell_type": "code",
   "execution_count": 16,
   "metadata": {},
   "outputs": [],
   "source": [
    "spanish_pca <- prcomp(spanish_ord, scale = T)\n",
    "spanish_x <- data.frame(spanish_pca$x)"
   ]
  },
  {
   "cell_type": "code",
   "execution_count": 17,
   "metadata": {},
   "outputs": [
    {
     "data": {},
     "metadata": {},
     "output_type": "display_data"
    },
    {
     "data": {
      "image/png": "[encoded data removed]",
      "text/plain": [
       "plot without title"
      ]
     },
     "metadata": {},
     "output_type": "display_data"
    }
   ],
   "source": [
    "library(lattice)\n",
    "splom(spanish_x[, 1:3], groups = spanishMeta$Author, pch = 19, col = c(\"dodgerblue\", \"magenta\", \n",
    "    \"green3\"), key = list(text = list(levels(spanishMeta$FullName)), points = list(pch = 19, \n",
    "    col = c(\"dodgerblue\", \"magenta\", \"green3\"))))"
   ]
  },
  {
   "cell_type": "code",
   "execution_count": 18,
   "metadata": {},
   "outputs": [
    {
     "data": {
      "text/plain": [
       "Importance of components:\n",
       "                          PC1    PC2     PC3     PC4     PC5     PC6     PC7\n",
       "Standard deviation     5.0623 4.6688 3.34736 3.01422 2.84788 2.73612 2.61125\n",
       "Proportion of Variance 0.2136 0.1817 0.09337 0.07571 0.06759 0.06239 0.05682\n",
       "Cumulative Proportion  0.2136 0.3952 0.48858 0.56429 0.63188 0.69427 0.75109\n",
       "                           PC8     PC9    PC10    PC11    PC12    PC13    PC14\n",
       "Standard deviation     2.38516 2.37170 2.22456 2.06076 1.95823 1.82924 1.47628\n",
       "Proportion of Variance 0.04741 0.04687 0.04124 0.03539 0.03196 0.02788 0.01816\n",
       "Cumulative Proportion  0.79850 0.84537 0.88661 0.92200 0.95395 0.98184 1.00000\n",
       "                            PC15\n",
       "Standard deviation     1.382e-15\n",
       "Proportion of Variance 0.000e+00\n",
       "Cumulative Proportion  1.000e+00"
      ]
     },
     "metadata": {},
     "output_type": "display_data"
    }
   ],
   "source": [
    "summary(spanish_pca)"
   ]
  },
  {
   "cell_type": "code",
   "execution_count": 19,
   "metadata": {},
   "outputs": [
    {
     "data": {
      "image/png": "[encoded data removed]",
      "text/plain": [
       "plot without title"
      ]
     },
     "metadata": {},
     "output_type": "display_data"
    }
   ],
   "source": [
    "spanish_pca_lda <- lda(spanishMeta$Author ~ PC1 + PC2 + PC3 + PC4 + PC5 + PC6 + PC7 + PC8, data = spanish_x)\n",
    "# The axis represent the two most significant linear discriminant scores which can be used for classification\n",
    "plot(spanish_pca_lda, col=c(\"dodgerblue\", \"magenta\", \"green3\")[spanishMeta$Author])"
   ]
  },
  {
   "cell_type": "code",
   "execution_count": 20,
   "metadata": {},
   "outputs": [
    {
     "data": {
      "text/html": [
       "<table>\n",
       "<thead><tr><th></th><th scope=col>C</th><th scope=col>M</th><th scope=col>V</th></tr></thead>\n",
       "<tbody>\n",
       "\t<tr><th scope=row>X14458gll</th><td>1.0000</td><td>0.0000</td><td>0.0000</td></tr>\n",
       "\t<tr><th scope=row>X14459gll</th><td>1.0000</td><td>0.0000</td><td>0.0000</td></tr>\n",
       "\t<tr><th scope=row>X14460gll</th><td>1.0000</td><td>0.0000</td><td>0.0000</td></tr>\n",
       "\t<tr><th scope=row>X14461gll</th><td>1.0000</td><td>0.0000</td><td>0.0000</td></tr>\n",
       "\t<tr><th scope=row>X14462gll</th><td>0.9999</td><td>0.0000</td><td>0.0001</td></tr>\n",
       "\t<tr><th scope=row>X14463gll</th><td>0.0000</td><td>0.9988</td><td>0.0012</td></tr>\n",
       "\t<tr><th scope=row>X14464gll</th><td>0.0000</td><td>1.0000</td><td>0.0000</td></tr>\n",
       "\t<tr><th scope=row>X14465gll</th><td>0.0000</td><td>0.9965</td><td>0.0035</td></tr>\n",
       "\t<tr><th scope=row>X14466gll</th><td>0.0000</td><td>0.9992</td><td>0.0008</td></tr>\n",
       "\t<tr><th scope=row>X14467gll</th><td>0.0000</td><td>0.8416</td><td>0.1584</td></tr>\n",
       "\t<tr><th scope=row>X14472gll</th><td>0.0000</td><td>0.0001</td><td>0.9998</td></tr>\n",
       "\t<tr><th scope=row>X14473gll</th><td>0.0000</td><td>0.0000</td><td>1.0000</td></tr>\n",
       "\t<tr><th scope=row>X14474gll</th><td>0.0000</td><td>0.0014</td><td>0.9986</td></tr>\n",
       "\t<tr><th scope=row>X14475gll</th><td>0.0000</td><td>0.0150</td><td>0.9850</td></tr>\n",
       "\t<tr><th scope=row>X14476gll</th><td>0.0001</td><td>0.0112</td><td>0.9887</td></tr>\n",
       "</tbody>\n",
       "</table>\n"
      ],
      "text/latex": [
       "\\begin{tabular}{r|lll}\n",
       "  & C & M & V\\\\\n",
       "\\hline\n",
       "\tX14458gll & 1.0000 & 0.0000 & 0.0000\\\\\n",
       "\tX14459gll & 1.0000 & 0.0000 & 0.0000\\\\\n",
       "\tX14460gll & 1.0000 & 0.0000 & 0.0000\\\\\n",
       "\tX14461gll & 1.0000 & 0.0000 & 0.0000\\\\\n",
       "\tX14462gll & 0.9999 & 0.0000 & 0.0001\\\\\n",
       "\tX14463gll & 0.0000 & 0.9988 & 0.0012\\\\\n",
       "\tX14464gll & 0.0000 & 1.0000 & 0.0000\\\\\n",
       "\tX14465gll & 0.0000 & 0.9965 & 0.0035\\\\\n",
       "\tX14466gll & 0.0000 & 0.9992 & 0.0008\\\\\n",
       "\tX14467gll & 0.0000 & 0.8416 & 0.1584\\\\\n",
       "\tX14472gll & 0.0000 & 0.0001 & 0.9998\\\\\n",
       "\tX14473gll & 0.0000 & 0.0000 & 1.0000\\\\\n",
       "\tX14474gll & 0.0000 & 0.0014 & 0.9986\\\\\n",
       "\tX14475gll & 0.0000 & 0.0150 & 0.9850\\\\\n",
       "\tX14476gll & 0.0001 & 0.0112 & 0.9887\\\\\n",
       "\\end{tabular}\n"
      ],
      "text/markdown": [
       "\n",
       "| <!--/--> | C | M | V | \n",
       "|---|---|---|---|---|---|---|---|---|---|---|---|---|---|---|\n",
       "| X14458gll | 1.0000 | 0.0000 | 0.0000 | \n",
       "| X14459gll | 1.0000 | 0.0000 | 0.0000 | \n",
       "| X14460gll | 1.0000 | 0.0000 | 0.0000 | \n",
       "| X14461gll | 1.0000 | 0.0000 | 0.0000 | \n",
       "| X14462gll | 0.9999 | 0.0000 | 0.0001 | \n",
       "| X14463gll | 0.0000 | 0.9988 | 0.0012 | \n",
       "| X14464gll | 0.0000 | 1.0000 | 0.0000 | \n",
       "| X14465gll | 0.0000 | 0.9965 | 0.0035 | \n",
       "| X14466gll | 0.0000 | 0.9992 | 0.0008 | \n",
       "| X14467gll | 0.0000 | 0.8416 | 0.1584 | \n",
       "| X14472gll | 0.0000 | 0.0001 | 0.9998 | \n",
       "| X14473gll | 0.0000 | 0.0000 | 1.0000 | \n",
       "| X14474gll | 0.0000 | 0.0014 | 0.9986 | \n",
       "| X14475gll | 0.0000 | 0.0150 | 0.9850 | \n",
       "| X14476gll | 0.0001 | 0.0112 | 0.9887 | \n",
       "\n",
       "\n"
      ],
      "text/plain": [
       "          C      M      V     \n",
       "X14458gll 1.0000 0.0000 0.0000\n",
       "X14459gll 1.0000 0.0000 0.0000\n",
       "X14460gll 1.0000 0.0000 0.0000\n",
       "X14461gll 1.0000 0.0000 0.0000\n",
       "X14462gll 0.9999 0.0000 0.0001\n",
       "X14463gll 0.0000 0.9988 0.0012\n",
       "X14464gll 0.0000 1.0000 0.0000\n",
       "X14465gll 0.0000 0.9965 0.0035\n",
       "X14466gll 0.0000 0.9992 0.0008\n",
       "X14467gll 0.0000 0.8416 0.1584\n",
       "X14472gll 0.0000 0.0001 0.9998\n",
       "X14473gll 0.0000 0.0000 1.0000\n",
       "X14474gll 0.0000 0.0014 0.9986\n",
       "X14475gll 0.0000 0.0150 0.9850\n",
       "X14476gll 0.0001 0.0112 0.9887"
      ]
     },
     "metadata": {},
     "output_type": "display_data"
    }
   ],
   "source": [
    "predict(spanish_pca_lda)$posterior %>% round(4)"
   ]
  },
  {
   "cell_type": "code",
   "execution_count": 21,
   "metadata": {},
   "outputs": [
    {
     "name": "stdout",
     "output_type": "stream",
     "text": [
      "Call:\n",
      "lda(spanishMeta$Author ~ PC1 + PC2 + PC3 + PC4 + PC5 + PC6 + \n",
      "    PC7 + PC8, data = spanish_x)\n",
      "\n",
      "Prior probabilities of groups:\n",
      "        C         M         V \n",
      "0.3333333 0.3333333 0.3333333 \n",
      "\n",
      "Group means:\n",
      "        PC1        PC2        PC3         PC4        PC5         PC6        PC7\n",
      "C -4.820024  2.7560056  1.3985890 -0.94026140 -0.2141179 -0.02702131 -0.5425466\n",
      "M  3.801425 -2.9890677  0.6494555 -0.01748498 -0.4472681  1.75549883 -0.6416654\n",
      "V  1.018598  0.2330621 -2.0480445  0.95774638  0.6613860 -1.72847752  1.1842120\n",
      "          PC8\n",
      "C  0.86906543\n",
      "M  0.09646039\n",
      "V -0.96552582\n",
      "\n",
      "Coefficients of linear discriminants:\n",
      "            LD1         LD2\n",
      "PC1  0.51799691 -0.02441564\n",
      "PC2 -0.37494794  0.07849967\n",
      "PC3 -0.23194626 -0.24336748\n",
      "PC4  0.22528923  0.12521671\n",
      "PC5  0.01839796  0.12265163\n",
      "PC6  0.17554301 -0.38491079\n",
      "PC7  0.10699689  0.24999510\n",
      "PC8 -0.32246252 -0.20825972\n",
      "\n",
      "Proportion of trace:\n",
      "   LD1    LD2 \n",
      "0.8466 0.1534 \n"
     ]
    }
   ],
   "source": [
    "print(spanish_pca_lda)"
   ]
  },
  {
   "cell_type": "code",
   "execution_count": 22,
   "metadata": {},
   "outputs": [
    {
     "data": {
      "text/html": [
       "<table>\n",
       "<thead><tr><th></th><th scope=col>PC1</th><th scope=col>PC2</th><th scope=col>PC3</th><th scope=col>PC4</th><th scope=col>PC5</th><th scope=col>PC6</th><th scope=col>PC7</th><th scope=col>PC8</th></tr></thead>\n",
       "<tbody>\n",
       "\t<tr><th scope=row>C</th><td>-4.820024  </td><td> 2.7560056 </td><td> 1.3985890 </td><td>-0.94026140</td><td>-0.2141179 </td><td>-0.02702131</td><td>-0.5425466 </td><td> 0.86906543</td></tr>\n",
       "\t<tr><th scope=row>M</th><td> 3.801425  </td><td>-2.9890677 </td><td> 0.6494555 </td><td>-0.01748498</td><td>-0.4472681 </td><td> 1.75549883</td><td>-0.6416654 </td><td> 0.09646039</td></tr>\n",
       "\t<tr><th scope=row>V</th><td> 1.018598  </td><td> 0.2330621 </td><td>-2.0480445 </td><td> 0.95774638</td><td> 0.6613860 </td><td>-1.72847752</td><td> 1.1842120 </td><td>-0.96552582</td></tr>\n",
       "</tbody>\n",
       "</table>\n"
      ],
      "text/latex": [
       "\\begin{tabular}{r|llllllll}\n",
       "  & PC1 & PC2 & PC3 & PC4 & PC5 & PC6 & PC7 & PC8\\\\\n",
       "\\hline\n",
       "\tC & -4.820024   &  2.7560056  &  1.3985890  & -0.94026140 & -0.2141179  & -0.02702131 & -0.5425466  &  0.86906543\\\\\n",
       "\tM &  3.801425   & -2.9890677  &  0.6494555  & -0.01748498 & -0.4472681  &  1.75549883 & -0.6416654  &  0.09646039\\\\\n",
       "\tV &  1.018598   &  0.2330621  & -2.0480445  &  0.95774638 &  0.6613860  & -1.72847752 &  1.1842120  & -0.96552582\\\\\n",
       "\\end{tabular}\n"
      ],
      "text/markdown": [
       "\n",
       "| <!--/--> | PC1 | PC2 | PC3 | PC4 | PC5 | PC6 | PC7 | PC8 | \n",
       "|---|---|---|\n",
       "| C | -4.820024   |  2.7560056  |  1.3985890  | -0.94026140 | -0.2141179  | -0.02702131 | -0.5425466  |  0.86906543 | \n",
       "| M |  3.801425   | -2.9890677  |  0.6494555  | -0.01748498 | -0.4472681  |  1.75549883 | -0.6416654  |  0.09646039 | \n",
       "| V |  1.018598   |  0.2330621  | -2.0480445  |  0.95774638 |  0.6613860  | -1.72847752 |  1.1842120  | -0.96552582 | \n",
       "\n",
       "\n"
      ],
      "text/plain": [
       "  PC1       PC2        PC3        PC4         PC5        PC6         PC7       \n",
       "C -4.820024  2.7560056  1.3985890 -0.94026140 -0.2141179 -0.02702131 -0.5425466\n",
       "M  3.801425 -2.9890677  0.6494555 -0.01748498 -0.4472681  1.75549883 -0.6416654\n",
       "V  1.018598  0.2330621 -2.0480445  0.95774638  0.6613860 -1.72847752  1.1842120\n",
       "  PC8        \n",
       "C  0.86906543\n",
       "M  0.09646039\n",
       "V -0.96552582"
      ]
     },
     "metadata": {},
     "output_type": "display_data"
    }
   ],
   "source": [
    "# Returns the mean for the normal distribution representing each author\n",
    "spanish_pca_lda$means"
   ]
  },
  {
   "cell_type": "code",
   "execution_count": 23,
   "metadata": {},
   "outputs": [
    {
     "data": {
      "text/plain": [
       "                   Df Pillai approx F num Df den Df  Pr(>F)  \n",
       "spanishMeta$Author  2 1.6283   3.2854     16     12 0.02134 *\n",
       "Residuals          12                                        \n",
       "---\n",
       "Signif. codes:  0 ‘***’ 0.001 ‘**’ 0.01 ‘*’ 0.05 ‘.’ 0.1 ‘ ’ 1"
      ]
     },
     "metadata": {},
     "output_type": "display_data"
    }
   ],
   "source": [
    "spanish_manova = manova(cbind(PC1, PC2, PC3, PC4, PC5, PC6, PC7, PC8) ~ spanishMeta$Author, \n",
    "    data = spanish_x)\n",
    "summary(spanish_manova)"
   ]
  },
  {
   "cell_type": "code",
   "execution_count": 26,
   "metadata": {},
   "outputs": [
    {
     "data": {
      "text/plain": [
       "   \n",
       "    C M V\n",
       "  C 5 0 0\n",
       "  M 0 5 0\n",
       "  V 0 0 5"
      ]
     },
     "metadata": {},
     "output_type": "display_data"
    }
   ],
   "source": [
    "# Print the confusion matrix\n",
    "table(predict(spanish_pca_lda)$class, spanishMeta$Author)"
   ]
  },
  {
   "cell_type": "code",
   "execution_count": 32,
   "metadata": {},
   "outputs": [
    {
     "data": {
      "text/html": [
       "15"
      ],
      "text/latex": [
       "15"
      ],
      "text/markdown": [
       "15"
      ],
      "text/plain": [
       "[1] 15"
      ]
     },
     "metadata": {},
     "output_type": "display_data"
    },
    {
     "data": {
      "text/html": [
       "0"
      ],
      "text/latex": [
       "0"
      ],
      "text/markdown": [
       "0"
      ],
      "text/plain": [
       "[1] 0"
      ]
     },
     "metadata": {},
     "output_type": "display_data"
    }
   ],
   "source": [
    "# Cases correctly classified\n",
    "sum(predict(spanish_pca_lda)$class == spanishMeta$Author)\n",
    "\n",
    "# Cases wrongly classified\n",
    "sum(predict(spanish_pca_lda)$class != spanishMeta$Author)"
   ]
  },
  {
   "cell_type": "code",
   "execution_count": null,
   "metadata": {},
   "outputs": [],
   "source": []
  }
 ],
 "metadata": {
  "kernelspec": {
   "display_name": "R",
   "language": "R",
   "name": "ir"
  },
  "language_info": {
   "codemirror_mode": "r",
   "file_extension": ".r",
   "mimetype": "text/x-r-source",
   "name": "R",
   "pygments_lexer": "r",
   "version": "3.5.1"
  }
 },
 "nbformat": 4,
 "nbformat_minor": 2
}
