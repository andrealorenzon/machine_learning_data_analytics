{
 "cells": [
  {
   "cell_type": "markdown",
   "metadata": {},
   "source": [
    "# Linear Discriminant Analysis\n",
    "\n",
    "We use LDA because it is more stable than Logistic regression when classes are well-separated and if the sample is small with an approximately normal distribution. It is also used when **we have more than two response classes**\n",
    "\n",
    "LDA approach models the distribution of X for each class separately, and then uses **Bayes' theorem** to perform estimates for $Pr(Y|X)$.\n",
    "\n",
    "The Bayes classifier used for prediction basically returns the class for which the condition probability of the observation belonging to the class given its features is the highest.\n",
    "\n",
    "To quantify the goodness of the model, we use the **training error rate** obtained by taking the total number of errors on the training set divided by the number of observations.\n",
    "\n",
    "Since the aim of Bayes classifier is to minimize test error rates, we can rewrite the test error rate as the **Bayes error rate**:\n",
    "\n",
    "$$1 - E_X(max_j P(Y = j|X))$$\n",
    "\n",
    "This value won't reach 0 because of the irreducible error present in every distribution.\n",
    "\n",
    "We can obtain a **discriminant score** (which is derived by a manipulation of the Gaussian distribution plugged into the Bayes theorem for LDA). LDA is called **linear** because if we assume a Gaussian distribution for the variable we will obtain a Dscore which is a linear function of x.\n",
    "\n",
    "From the discriminant score function, we can obtain the Bayes Decision Boundary which minimized misclassification. For p = 1, we have that the decision boundary is equal to $x = \\frac{\\mu_1 + \\mu_2}{2}$\n",
    "\n",
    "When p > 1, the discriminant function is still linear if all the observations are drawn from a multivariate Gaussian distribution.\n",
    "\n",
    "From the discriminant score, we can obtain an estimated probability for each class given X. We will use this probability in order to choose the class which maximizes it.\n",
    "\n",
    "We can vary the classification threshold by lowering it for Bayesian classifiers in order to prevent false negatives.\n",
    "\n",
    "* Sensitivity is the complement of FN rate, also known as **true positive rate**.\n",
    "\n",
    "* Specificity is the complement of FP rate, also known as **true negative rate**.\n",
    "\n",
    "For different $\\Sigma_k$ in each class, we get the **quadratic discriminant analysis** which is no longer linear.\n",
    "\n",
    "If we assume total independence between all the variables in the distribution, we get **naive Bayes** approach.\n",
    "\n",
    "We should choose the best DA for our data distribution through contextual knowledge.\n",
    "\n",
    "For two classes, LDA has the same form of the logistic regression model (logit of P(class 1) on P(class2)).\n",
    "\n",
    "**Use LDA when there is a strong hypothesis of Gaussian distribution and there are more than two classes**\n",
    "\n",
    "Logistic regression use **discriminative learning**, which uses conditional likelyhood based on P(Y|X), while LDA uses **generative learning**, since it uses the full likelyhood based on Pr(Y, X).\n",
    "\n",
    "Naive Bayes is popular when p is very large."
   ]
  },
  {
   "cell_type": "markdown",
   "metadata": {},
   "source": [
    "# Laboratory: LDA"
   ]
  },
  {
   "cell_type": "code",
   "execution_count": 1,
   "metadata": {},
   "outputs": [
    {
     "name": "stderr",
     "output_type": "stream",
     "text": [
      "\n",
      "Attaching package: ‘dplyr’\n",
      "\n",
      "The following objects are masked from ‘package:stats’:\n",
      "\n",
      "    filter, lag\n",
      "\n",
      "The following objects are masked from ‘package:base’:\n",
      "\n",
      "    intersect, setdiff, setequal, union\n",
      "\n",
      "\n",
      "Attaching package: ‘MASS’\n",
      "\n",
      "The following object is masked from ‘package:dplyr’:\n",
      "\n",
      "    select\n",
      "\n"
     ]
    }
   ],
   "source": [
    "library(dplyr)  # optional\n",
    "library(languageR)\n",
    "library(tibble)  # optional\n",
    "library(MASS)"
   ]
  },
  {
   "cell_type": "code",
   "execution_count": 2,
   "metadata": {},
   "outputs": [
    {
     "data": {
      "text/html": [
       "<table>\n",
       "<thead><tr><th scope=col>Author</th><th scope=col>YearOfBirth</th><th scope=col>TextName</th><th scope=col>PubDate</th><th scope=col>Nwords</th><th scope=col>FullName</th></tr></thead>\n",
       "<tbody>\n",
       "\t<tr><td>C        </td><td>1916     </td><td>X14458gll</td><td>1983     </td><td>2972     </td><td>Cela     </td></tr>\n",
       "\t<tr><td>C        </td><td>1916     </td><td>X14459gll</td><td>1951     </td><td>3040     </td><td>Cela     </td></tr>\n",
       "\t<tr><td>C        </td><td>1916     </td><td>X14460gll</td><td>1956     </td><td>3066     </td><td>Cela     </td></tr>\n",
       "\t<tr><td>C        </td><td>1916     </td><td>X14461gll</td><td>1948     </td><td>3044     </td><td>Cela     </td></tr>\n",
       "\t<tr><td>C        </td><td>1916     </td><td>X14462gll</td><td>1942     </td><td>3053     </td><td>Cela     </td></tr>\n",
       "\t<tr><td>M        </td><td>1943     </td><td>X14463gll</td><td>1986     </td><td>3013     </td><td>Mendoza  </td></tr>\n",
       "</tbody>\n",
       "</table>\n"
      ],
      "text/latex": [
       "\\begin{tabular}{r|llllll}\n",
       " Author & YearOfBirth & TextName & PubDate & Nwords & FullName\\\\\n",
       "\\hline\n",
       "\t C         & 1916      & X14458gll & 1983      & 2972      & Cela     \\\\\n",
       "\t C         & 1916      & X14459gll & 1951      & 3040      & Cela     \\\\\n",
       "\t C         & 1916      & X14460gll & 1956      & 3066      & Cela     \\\\\n",
       "\t C         & 1916      & X14461gll & 1948      & 3044      & Cela     \\\\\n",
       "\t C         & 1916      & X14462gll & 1942      & 3053      & Cela     \\\\\n",
       "\t M         & 1943      & X14463gll & 1986      & 3013      & Mendoza  \\\\\n",
       "\\end{tabular}\n"
      ],
      "text/markdown": [
       "\n",
       "Author | YearOfBirth | TextName | PubDate | Nwords | FullName | \n",
       "|---|---|---|---|---|---|\n",
       "| C         | 1916      | X14458gll | 1983      | 2972      | Cela      | \n",
       "| C         | 1916      | X14459gll | 1951      | 3040      | Cela      | \n",
       "| C         | 1916      | X14460gll | 1956      | 3066      | Cela      | \n",
       "| C         | 1916      | X14461gll | 1948      | 3044      | Cela      | \n",
       "| C         | 1916      | X14462gll | 1942      | 3053      | Cela      | \n",
       "| M         | 1943      | X14463gll | 1986      | 3013      | Mendoza   | \n",
       "\n",
       "\n"
      ],
      "text/plain": [
       "  Author YearOfBirth TextName  PubDate Nwords FullName\n",
       "1 C      1916        X14458gll 1983    2972   Cela    \n",
       "2 C      1916        X14459gll 1951    3040   Cela    \n",
       "3 C      1916        X14460gll 1956    3066   Cela    \n",
       "4 C      1916        X14461gll 1948    3044   Cela    \n",
       "5 C      1916        X14462gll 1942    3053   Cela    \n",
       "6 M      1943        X14463gll 1986    3013   Mendoza "
      ]
     },
     "metadata": {},
     "output_type": "display_data"
    }
   ],
   "source": [
    "# Word type : represents the number of distinct words in the text\n",
    "# Word token : the sequence of frequences for each word types\n",
    "head(spanishMeta)"
   ]
  },
  {
   "cell_type": "code",
   "execution_count": 3,
   "metadata": {},
   "outputs": [
    {
     "data": {
      "text/html": [
       "<ol class=list-inline>\n",
       "\t<li>'Author'</li>\n",
       "\t<li>'YearOfBirth'</li>\n",
       "\t<li>'TextName'</li>\n",
       "\t<li>'PubDate'</li>\n",
       "\t<li>'Nwords'</li>\n",
       "\t<li>'FullName'</li>\n",
       "</ol>\n"
      ],
      "text/latex": [
       "\\begin{enumerate*}\n",
       "\\item 'Author'\n",
       "\\item 'YearOfBirth'\n",
       "\\item 'TextName'\n",
       "\\item 'PubDate'\n",
       "\\item 'Nwords'\n",
       "\\item 'FullName'\n",
       "\\end{enumerate*}\n"
      ],
      "text/markdown": [
       "1. 'Author'\n",
       "2. 'YearOfBirth'\n",
       "3. 'TextName'\n",
       "4. 'PubDate'\n",
       "5. 'Nwords'\n",
       "6. 'FullName'\n",
       "\n",
       "\n"
      ],
      "text/plain": [
       "[1] \"Author\"      \"YearOfBirth\" \"TextName\"    \"PubDate\"     \"Nwords\"     \n",
       "[6] \"FullName\"   "
      ]
     },
     "metadata": {},
     "output_type": "display_data"
    }
   ],
   "source": [
    "# Extracting column names\n",
    "names(spanishMeta) #or nrow(spanishMeta)"
   ]
  },
  {
   "cell_type": "code",
   "execution_count": 12,
   "metadata": {},
   "outputs": [
    {
     "data": {
      "text/html": [
       "<table>\n",
       "<thead><tr><th scope=col>spanishMeta$Author</th></tr></thead>\n",
       "<tbody>\n",
       "\t<tr><td>C</td></tr>\n",
       "\t<tr><td>M</td></tr>\n",
       "\t<tr><td>V</td></tr>\n",
       "</tbody>\n",
       "</table>\n"
      ],
      "text/latex": [
       "\\begin{tabular}{r|l}\n",
       " spanishMeta\\$Author\\\\\n",
       "\\hline\n",
       "\t C\\\\\n",
       "\t M\\\\\n",
       "\t V\\\\\n",
       "\\end{tabular}\n"
      ],
      "text/markdown": [
       "\n",
       "spanishMeta$Author | \n",
       "|---|---|---|\n",
       "| C | \n",
       "| M | \n",
       "| V | \n",
       "\n",
       "\n"
      ],
      "text/plain": [
       "  spanishMeta$Author\n",
       "1 C                 \n",
       "2 M                 \n",
       "3 V                 "
      ]
     },
     "metadata": {},
     "output_type": "display_data"
    }
   ],
   "source": [
    "# Calculating number of text per author and the mean publication date\n",
    "spanishMeta %>% group_by(spanishMeta$Author) %>% summarize()"
   ]
  },
  {
   "cell_type": "code",
   "execution_count": 13,
   "metadata": {},
   "outputs": [],
   "source": [
    "?summarise"
   ]
  },
  {
   "cell_type": "code",
   "execution_count": null,
   "metadata": {},
   "outputs": [],
   "source": []
  }
 ],
 "metadata": {
  "kernelspec": {
   "display_name": "R",
   "language": "R",
   "name": "ir"
  },
  "language_info": {
   "codemirror_mode": "r",
   "file_extension": ".r",
   "mimetype": "text/x-r-source",
   "name": "R",
   "pygments_lexer": "r",
   "version": "3.5.1"
  }
 },
 "nbformat": 4,
 "nbformat_minor": 2
}
