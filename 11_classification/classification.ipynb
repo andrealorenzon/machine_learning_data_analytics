{
 "cells": [
  {
   "cell_type": "markdown",
   "metadata": {},
   "source": [
    "# Classification\n",
    "\n",
    "There are two main types of classificationL\n",
    "\n",
    "* **Supervised classification**, when all the classes are known. In this case, the data are represented by a matrix having the response categorical variable $y$ in the first column.\n",
    "\n",
    "* **Cluster analysis**, where the classes are not known in advance.\n",
    "\n",
    "We the denote the set of possible classes using $G$.\n",
    "\n",
    "If the response variable takes only two values, it is called **binary variable**. If it takes more than two classes, it is called **multinomial variable**.\n",
    "\n",
    "Most common methods of classification:\n",
    "\n",
    "Logistic regression, KNN, Linear Discriminant Analysis (LDA), SVM, Decision Trees, Random Forests, GAMs $\\implies$ **supervised**\n",
    "\n",
    "Cluster analysis $\\implies$ **unsupervised**\n",
    "\n",
    "We can model a classification problem as a linear problem in which the target is to predict the value of $y$ (which has to be transformed in factor beforehand) by minimizing the error of a linear model on the prediction. We can thus build a rule to represent that\n",
    "\n",
    "$y_i = 1$ if $\\hat{y} \\geq 0.5$, $y_i = 0$ if $\\hat{y} < 0.5$\n",
    "\n",
    "The confusion matrix shows all the missclassified examples in your sample, from which you can compute the classification error. We can compute the confusion matrix on both the train and the test sets.\n",
    "\n",
    "The global classification error is given by the classification error of each class $i$ times the probability that an individual belongs to class $i$. This is the **empyrical** or **training** classification error, and it typically underestimates the real classification error.\n"
   ]
  }
 ],
 "metadata": {
  "kernelspec": {
   "display_name": "R",
   "language": "R",
   "name": "ir"
  },
  "language_info": {
   "codemirror_mode": "r",
   "file_extension": ".r",
   "mimetype": "text/x-r-source",
   "name": "R",
   "pygments_lexer": "r",
   "version": "3.5.1"
  }
 },
 "nbformat": 4,
 "nbformat_minor": 2
}
