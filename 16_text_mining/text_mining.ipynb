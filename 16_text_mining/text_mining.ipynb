{
 "cells": [
  {
   "cell_type": "markdown",
   "metadata": {},
   "source": [
    "# Text Mining\n",
    "\n",
    "Is about extracting information from textual data. It usually implies a combinated effort of machine learning and natural language processing (language written by humans) fields.\n",
    "\n",
    "Many applications of text mining exists:\n",
    "\n",
    "* **Sentiment analysis:** Allows to draw conclusion about the sentiments expressed inside the analyzed text. The sentiment can then be contextualized in order to obtain insights which could be useful for marketing.\n",
    "\n",
    "\n",
    "* **Topic analysis:** Analyzing a large dataset with many textual sources, we can split them by topic by performing topic analysis.\n",
    "\n",
    "\n",
    "* **Text categorization:** Dividing a pool of textes in different categories.\n",
    "\n",
    "\n",
    "* **Text clustering:** Grouping text in an unsupervised way.\n",
    "\n",
    "\n",
    "* **Entity extraction:** Being able to extract textual constructs (syntaxical, grammatical) from a text.\n",
    "\n",
    "\n",
    "* **Summarization:** A technique of natural language generation which allows to build a natural language text to summarize another longer text.\n",
    "\n",
    "\n",
    "First steps of creating text mining system:\n",
    "\n",
    "* Define the nature of the input for the system. Is it long text, tweets, general, specific, whole text of sentence by sentence?\n",
    "\n",
    "* Define the nature of the output of the system. Should we classify a text as good and bad, give more nuances to our evaluation, summarize it, categorize it?\n",
    "\n",
    "* Define the form of learning data used by the system. Which is going to be the form of the dataframe that is going to be provided for the system.\n",
    "\n",
    "* Define a way to assess the goodness of the system. How do we evaluate the system actually works? Can we trace correlation to other statistics which are accountable and measure the same thing, make a survey for the people, use a test set labeled by hand, measure economical impact of the system?\n",
    "\n",
    "Text => Natural Language => Ambiguity. Data in those fields are  usually work than normal ML data.\n",
    "\n",
    "We define a topic as a set of word. "
   ]
  },
  {
   "cell_type": "code",
   "execution_count": null,
   "metadata": {},
   "outputs": [],
   "source": []
  }
 ],
 "metadata": {
  "kernelspec": {
   "display_name": "R",
   "language": "R",
   "name": "ir"
  },
  "language_info": {
   "codemirror_mode": "r",
   "file_extension": ".r",
   "mimetype": "text/x-r-source",
   "name": "R",
   "pygments_lexer": "r",
   "version": "3.5.1"
  }
 },
 "nbformat": 4,
 "nbformat_minor": 2
}
