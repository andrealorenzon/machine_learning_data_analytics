{
 "cells": [
  {
   "cell_type": "markdown",
   "metadata": {},
   "source": [
    "# Politics vs. Sport (vs. Other) classification of Tweets"
   ]
  },
  {
   "cell_type": "code",
   "execution_count": 1,
   "metadata": {},
   "outputs": [
    {
     "name": "stderr",
     "output_type": "stream",
     "text": [
      "Loading required package: tm\n",
      "Loading required package: NLP\n",
      "Loading required package: e1071\n"
     ]
    }
   ],
   "source": [
    "require(tm)\n",
    "require(e1071)"
   ]
  },
  {
   "cell_type": "markdown",
   "metadata": {},
   "source": [
    "Load data: a few tweets for each class."
   ]
  },
  {
   "cell_type": "code",
   "execution_count": 2,
   "metadata": {},
   "outputs": [],
   "source": [
    "tp=c(\"Mainstream (FAKE) media refuses to state our long list of achievements, including 28 legislative signings, strong borders &amp; great optimism!\",\"Looking forward to RALLY in the Great State of Pennsylvania tonight at 7:30. Big crowd, big energy!\",\".@LouDobbs just stated that President Trump's successes are unmatched in recent presidential history  Thank you Lou!\",\"North Korea disrespected the wishes of China &amp; its highly respected President when it launched, though unsuccessfully, a missile today. Bad!\")\n",
    "ts=c(\"The day after the night before ... Jose Mourinho's Manchester United handed tough #ChampionsLeague draw\", \"Super-sub @XS_11official sinks @ManUtd in #LIVMUN derby to leave @LFC top of the #EPL https://cnn.it/2Er3xU5\", \"Horror crash for @MarcGisin at #valgardena downhill won by Aleksander Aamodt Kilde #fisalpine https://cnn.it/2QvrAYY \", \"He won 59 England caps and 10 major trophies with Man Utd, but Phil Neville says winning the Women’s World Cup with England would be his “greatest achievement” \", \"⚡ @FIAFormulaE is back! ⚡ @NickiShields caught up with @MassaFelipe19 who's making his debut in the electric championship this weekend. https://cnn.it/2S0vENP \")\n",
    "to=c(\"A Very Terry Christmas needs happy little trees.\", \"Matt Damon's favorite day of the year? Secret. Santa. Day.\", \"As if the two-night #VoiceFinale event wasn't going to be L-I-T already... we went and did THIS. 🔥\", \"Don’t miss my #GameofGames Holiday Spectacular, tonight! @NBC\")"
   ]
  },
  {
   "cell_type": "markdown",
   "metadata": {},
   "source": [
    "Build a dataframe with labels."
   ]
  },
  {
   "cell_type": "code",
   "execution_count": 3,
   "metadata": {},
   "outputs": [
    {
     "data": {
      "text/html": [
       "<ol class=list-inline>\n",
       "\t<li>13</li>\n",
       "\t<li>2</li>\n",
       "</ol>\n"
      ],
      "text/latex": [
       "\\begin{enumerate*}\n",
       "\\item 13\n",
       "\\item 2\n",
       "\\end{enumerate*}\n"
      ],
      "text/markdown": [
       "1. 13\n",
       "2. 2\n",
       "\n",
       "\n"
      ],
      "text/plain": [
       "[1] 13  2"
      ]
     },
     "metadata": {},
     "output_type": "display_data"
    }
   ],
   "source": [
    "d = cbind(text=c(tp, ts, to), label=c(rep(\"politics\",length(tp)), rep(\"sport\",length(ts)), rep(\"other\",length(to))))\n",
    "d = as.data.frame(d)\n",
    "dim(d)"
   ]
  },
  {
   "cell_type": "markdown",
   "metadata": {},
   "source": [
    "Define preprocessing function:\n",
    "* performs: lowercase, remove punctuation, bag of words\n",
    "* input is a vector of documents\n",
    "* optional input is a vector of words: if non-empty, the words of the output data-frame are thos included in the optional input"
   ]
  },
  {
   "cell_type": "code",
   "execution_count": 20,
   "metadata": {},
   "outputs": [],
   "source": [
    "preprocess = function(tweets, words=c()) {\n",
    "    corpus = Corpus(VectorSource(tweets))\n",
    "    tm_map(corpus, content_transformer(tolower))\n",
    "    removeNumPunct <- function(x) gsub(\"[^a-z]*\", \"\", x)\n",
    "    tm_map(corpus, content_transformer(removeNumPunct))\n",
    "    bow = as.data.frame(t(as.matrix(TermDocumentMatrix(corpus))))\n",
    "    if (length(words)>0) {\n",
    "        bow = bow[,intersect(words, names(bow))]\n",
    "        for (name in setdiff(words, names(bow))) {\n",
    "            bow[,name] = 0\n",
    "        }\n",
    "    }\n",
    "    bow\n",
    "}"
   ]
  },
  {
   "cell_type": "markdown",
   "metadata": {},
   "source": [
    "Define learning function:\n",
    "* takes a labeled dataset with the label in label and the text in text\n",
    "* uses SVM\n",
    "* returns the learned SVM and a vector of words"
   ]
  },
  {
   "cell_type": "code",
   "execution_count": 5,
   "metadata": {},
   "outputs": [],
   "source": [
    "learn = function(labeledTweets) {\n",
    "    bow = preprocess(labeledTweets$text)\n",
    "    classifier = svm(bow, labeledTweets$label, kernel=\"linear\")\n",
    "    list(classifier=classifier, words=names(bow))\n",
    "}"
   ]
  },
  {
   "cell_type": "markdown",
   "metadata": {},
   "source": [
    "Define prediction function:\n",
    "* takes vector of documents to predict for and model (classifier and words)\n",
    "* returns labels"
   ]
  },
  {
   "cell_type": "code",
   "execution_count": 23,
   "metadata": {},
   "outputs": [],
   "source": [
    "predictForTweets = function(tweets, model) {\n",
    "    bow = preprocess(tweets, model$words)\n",
    "    labels = predict(model$classifier, bow)\n",
    "    labels\n",
    "}"
   ]
  },
  {
   "cell_type": "markdown",
   "metadata": {},
   "source": [
    "Try learn and prediction and measure accuracy."
   ]
  },
  {
   "cell_type": "code",
   "execution_count": 24,
   "metadata": {},
   "outputs": [
    {
     "data": {
      "text/plain": [
       "          \n",
       "predicted  other politics sport\n",
       "  other        1        0     0\n",
       "  politics     0        1     1\n",
       "  sport        0        0     0"
      ]
     },
     "metadata": {},
     "output_type": "display_data"
    }
   ],
   "source": [
    "learn.d = d[-c(1,5,10),]\n",
    "test.d =  d[c(1,5,10),]\n",
    "model = learn(learn.d)\n",
    "predicted = predictForTweets(test.d$text, model)\n",
    "table(predicted, test.d$label)"
   ]
  }
 ],
 "metadata": {
  "kernelspec": {
   "display_name": "R",
   "language": "R",
   "name": "ir"
  },
  "language_info": {
   "codemirror_mode": "r",
   "file_extension": ".r",
   "mimetype": "text/x-r-source",
   "name": "R",
   "pygments_lexer": "r",
   "version": "3.5.1"
  }
 },
 "nbformat": 4,
 "nbformat_minor": 2
}
