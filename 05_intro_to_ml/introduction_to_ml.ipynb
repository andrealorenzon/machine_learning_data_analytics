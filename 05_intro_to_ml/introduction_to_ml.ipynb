{
 "cells": [
  {
   "cell_type": "markdown",
   "metadata": {},
   "source": [
    "# Introduction to Machine Learning\n",
    "\n",
    "6 november 2018, [slides](https://github.com/gsarti/machine_learning_data_analytics/blob/master/05_intro_medvet/2018_MLDA_slides.pdf) 1 -  \n",
    "\n",
    "## Supervised and Unsupervised Learning\n",
    "\n",
    "\n",
    "A model which allows to predict an outcome from a given set of categories given in input is called **supervised learning**.\n",
    "\n",
    "A model which doesn't have any information about the possible subgroups in data and could build those from relationships and structures in data is called **supervised learning**.\n",
    "\n",
    "Examples:\n",
    "\n",
    "* **Spam flagging**: _supervised learning_, since we are giving examples of spam mail to make it easier for the system to recognize spam mails.\n",
    "\n",
    "\n",
    "* **Image understanding**: _supervised learning_, since image categories should be previously defined. Since often images are missing tags or labels, we can infer the label from captions attached to the image.\n",
    "\n",
    "\n",
    "* **Flight trajectories analysis**: _unsupervised learning_, since we just want to cluster on common patterns and trajectories.\n",
    "\n",
    "\n",
    "* **Authoring regular expressions**: _none of the above_, since the learning doesn't happen at the beginning, this is an example of **online learning**.\n",
    "\n",
    "\n",
    "## Terminology\n",
    "\n",
    "* The variables used to predict or infer a result from data are called **inputs, independent variables, features or attributes**.\n",
    "\n",
    "\n",
    "* The predicted or inferred variable is called the **output, dependent variable or response**.\n",
    "\n",
    "\n",
    "* A line inside our dataset is called an **observation, instance or data point**.\n",
    "\n",
    "\n",
    "* A dataset is formed by **$n$ observations**, which have a value for each of the **$p$ variables**.\n",
    "\n",
    "\n",
    "* A problem of **binary classification** is made up by two parts: make a **classifier** model which can learn from data, train it and use the model on new observations.\n",
    "\n",
    "* **Repeatability** denotes a procedure that could be repeated by someone else. **Reproducibility** denotes a procedure that will held the same results if it is repeated by someone else. We ideally want to achieve both when building a learning model."
   ]
  },
  {
   "cell_type": "code",
   "execution_count": null,
   "metadata": {},
   "outputs": [],
   "source": [
    "# Hiding warnings for readability\n",
    "options(warn=0)\n",
    "\n",
    "library(ggplot2)\n",
    "library(dplyr)\n",
    "library(tidyr)"
   ]
  },
  {
   "cell_type": "code",
   "execution_count": 3,
   "metadata": {},
   "outputs": [
    {
     "data": {
      "text/plain": [
       "  Sepal.Length    Sepal.Width     Petal.Length    Petal.Width   \n",
       " Min.   :4.300   Min.   :2.000   Min.   :1.000   Min.   :0.100  \n",
       " 1st Qu.:5.100   1st Qu.:2.800   1st Qu.:1.600   1st Qu.:0.300  \n",
       " Median :5.800   Median :3.000   Median :4.350   Median :1.300  \n",
       " Mean   :5.843   Mean   :3.057   Mean   :3.758   Mean   :1.199  \n",
       " 3rd Qu.:6.400   3rd Qu.:3.300   3rd Qu.:5.100   3rd Qu.:1.800  \n",
       " Max.   :7.900   Max.   :4.400   Max.   :6.900   Max.   :2.500  \n",
       "       Species  \n",
       " setosa    :50  \n",
       " versicolor:50  \n",
       " virginica :50  \n",
       "                \n",
       "                \n",
       "                "
      ]
     },
     "metadata": {},
     "output_type": "display_data"
    }
   ],
   "source": [
    "# Get basic information about iris dataset\n",
    "summary(iris)"
   ]
  },
  {
   "cell_type": "code",
   "execution_count": 5,
   "metadata": {},
   "outputs": [
    {
     "data": {
      "text/html": [
       "<table>\n",
       "<thead><tr><th scope=col>Species</th><th scope=col>ratio</th><th scope=col>value</th></tr></thead>\n",
       "<tbody>\n",
       "\t<tr><td>setosa         </td><td>Avg.Sepal.Ratio</td><td>1.470188       </td></tr>\n",
       "\t<tr><td>versicolor     </td><td>Avg.Sepal.Ratio</td><td>2.160402       </td></tr>\n",
       "\t<tr><td>virginica      </td><td>Avg.Sepal.Ratio</td><td>2.230453       </td></tr>\n",
       "\t<tr><td>setosa         </td><td>Avg.Petal.Ratio</td><td>6.908000       </td></tr>\n",
       "\t<tr><td>versicolor     </td><td>Avg.Petal.Ratio</td><td>3.242837       </td></tr>\n",
       "\t<tr><td>virginica      </td><td>Avg.Petal.Ratio</td><td>2.780662       </td></tr>\n",
       "</tbody>\n",
       "</table>\n"
      ],
      "text/latex": [
       "\\begin{tabular}{r|lll}\n",
       " Species & ratio & value\\\\\n",
       "\\hline\n",
       "\t setosa          & Avg.Sepal.Ratio & 1.470188       \\\\\n",
       "\t versicolor      & Avg.Sepal.Ratio & 2.160402       \\\\\n",
       "\t virginica       & Avg.Sepal.Ratio & 2.230453       \\\\\n",
       "\t setosa          & Avg.Petal.Ratio & 6.908000       \\\\\n",
       "\t versicolor      & Avg.Petal.Ratio & 3.242837       \\\\\n",
       "\t virginica       & Avg.Petal.Ratio & 2.780662       \\\\\n",
       "\\end{tabular}\n"
      ],
      "text/markdown": [
       "\n",
       "Species | ratio | value | \n",
       "|---|---|---|---|---|---|\n",
       "| setosa          | Avg.Sepal.Ratio | 1.470188        | \n",
       "| versicolor      | Avg.Sepal.Ratio | 2.160402        | \n",
       "| virginica       | Avg.Sepal.Ratio | 2.230453        | \n",
       "| setosa          | Avg.Petal.Ratio | 6.908000        | \n",
       "| versicolor      | Avg.Petal.Ratio | 3.242837        | \n",
       "| virginica       | Avg.Petal.Ratio | 2.780662        | \n",
       "\n",
       "\n"
      ],
      "text/plain": [
       "  Species    ratio           value   \n",
       "1 setosa     Avg.Sepal.Ratio 1.470188\n",
       "2 versicolor Avg.Sepal.Ratio 2.160402\n",
       "3 virginica  Avg.Sepal.Ratio 2.230453\n",
       "4 setosa     Avg.Petal.Ratio 6.908000\n",
       "5 versicolor Avg.Petal.Ratio 3.242837\n",
       "6 virginica  Avg.Petal.Ratio 2.780662"
      ]
     },
     "metadata": {},
     "output_type": "display_data"
    }
   ],
   "source": [
    "dr = iris %>% group_by(Species) %>%\n",
    "summarise(Avg.Sepal.Ratio = mean(Sepal.Length / Sepal.Width),\n",
    "          Avg.Petal.Ratio = mean(Petal.Length / Petal.Width))\n",
    "dr %>% gather(ratio, value, -Species)"
   ]
  }
 ],
 "metadata": {
  "kernelspec": {
   "display_name": "R",
   "language": "R",
   "name": "ir"
  },
  "language_info": {
   "codemirror_mode": "r",
   "file_extension": ".r",
   "mimetype": "text/x-r-source",
   "name": "R",
   "pygments_lexer": "r",
   "version": "3.5.1"
  }
 },
 "nbformat": 4,
 "nbformat_minor": 2
}
