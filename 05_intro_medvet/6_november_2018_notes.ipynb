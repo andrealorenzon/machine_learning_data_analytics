{
 "cells": [
  {
   "cell_type": "markdown",
   "metadata": {},
   "source": [
    "# Introduction to Machine Learning\n",
    "\n",
    "\n",
    "## Supervised and Unsupervised Learning\n",
    "\n",
    "\n",
    "A model which allows to predict an outcome from a given set of categories given in input is called **supervised learning**.\n",
    "\n",
    "A model which doesn't have any information about the possible subgroups in data and could build those from relationships and structures in data is called **supervised learning**.\n",
    "\n",
    "Examples:\n",
    "\n",
    "* **Spam flagging**: _supervised learning_, since we are giving examples of spam mail to make it easier for the system to recognize spam mails.\n",
    "\n",
    "\n",
    "* **Image understanding**: _supervised learning_, since image categories should be previously defined. Since often images are missing tags or labels, we can infer the label from captions attached to the image.\n",
    "\n",
    "\n",
    "* **Flight trajectories analysis**: _unsupervised learning_, since we just want to cluster on common patterns and trajectories.\n",
    "\n",
    "\n",
    "* **Authoring regular expressions**: _none of the above_, since the learning doesn't happen at the beginning, this is an example of **online learning**.\n",
    "\n",
    "\n"
   ]
  },
  {
   "cell_type": "code",
   "execution_count": null,
   "metadata": {},
   "outputs": [],
   "source": []
  }
 ],
 "metadata": {
  "kernelspec": {
   "display_name": "R",
   "language": "R",
   "name": "ir"
  },
  "language_info": {
   "codemirror_mode": "r",
   "file_extension": ".r",
   "mimetype": "text/x-r-source",
   "name": "R",
   "pygments_lexer": "r",
   "version": "3.5.1"
  }
 },
 "nbformat": 4,
 "nbformat_minor": 2
}
