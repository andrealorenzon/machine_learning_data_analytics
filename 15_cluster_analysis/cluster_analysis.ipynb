{
 "cells": [
  {
   "cell_type": "markdown",
   "metadata": {},
   "source": [
    "# Cluster Analysis\n",
    "\n",
    "It is used to group a set of object in clusters belonging to the same group.\n",
    "\n",
    "It is an unsupervised technique used to assess if data is divided in specific groups. It can also be used to reduce the number of dimensions to the number of groups found in data.\n",
    "\n",
    "It is important to assess clustering tendencies before and after clustering in order to avoid mistakenly-created clusters. \n",
    "\n",
    "Before applying cluster analysis:\n",
    "\n",
    "* Use scatter plots to see if objects are grouped\n",
    "\n",
    "* Icon plots\n",
    "\n",
    "* Ordered dissimilarity matrix\n",
    "\n",
    "* Statistical tests\n",
    "\n",
    "The two most popular clustering methods families are:\n",
    "\n",
    "* **Hierarchical:** Algorithms which recursively find nested clusters. It makes n-1 steps producing n-1 partitions of data.\n",
    "\n",
    "* **Partitional:** Find all the cluster as a partition of data, without hierarchy.\n",
    "\n",
    "Hierarchical algorithms find nested cluster:\n",
    "\n",
    "* in a **bottom-up way (agglomerative)** starting from indipendent points, merging them into clusters.\n",
    "\n",
    "* in a **top-down way (divisive)** starting froma single cluster, splitting it into smaller ones.\n",
    "\n",
    "In order to split values into clusters, we use the notion of **degree of proximity** based on distance, which we consider as the Euclidean distance between two observation in a p-dimensional space.\n",
    "\n",
    "$$d(x_i, x_j) = \\sqrt{\\Sigma_{h=1}^{p}(x_{ih}-x_{jh})^2}$$\n",
    "\n",
    "The distance matrix is symmetric, has 0s on the diagonal, and for each position has the distance between the two correspondent elements in the dataset.\n",
    "\n",
    "### Hierarchical Agglomerative Procedure\n",
    "\n",
    "* Each unit constitutes a group. The distance matrix $D$ contains the distances between all groups.\n",
    "\n",
    "* The two groups which have minimum distance are merged. We decrease the dimension of $D$ by one unit, computing the new distance with the new group.\n",
    "\n",
    "* Iterate until a group of all elements is created.\n",
    "\n",
    "### Distances between groups\n",
    "\n",
    "* **Single linkage (nearest neighbour):** Minimum distance between units belonging to the two respective groups.\n",
    "\n",
    "* **Complete linkage (furthest neighbour):** Maximal distance between units belonging to the two groups (equivalent to the diameter of the smallest circle containing all the units of the two groups).\n",
    "\n",
    "* **Average linkage**: Arithmetic mean of distance between all units of the two groups.\n",
    "\n",
    "* **Centroid**: Distance between groups is given by the distance between centroids of the two groups. In the bottom-up approach, the increase in distance could be non-increasing with this distance.\n",
    "\n",
    "* **Ward**: It is based on the decomposition of total deviance (sum of squared residuals of all units) into deviance within groups $D_W$ and deviance between groups $D_B$. The method merges iteratively the two groups which minimize the increase in withing deviance, maximising the increase in between deviance.\n",
    "\n",
    "$$D_W - \\Sigma_{g=1}^k\\Sigma_{i\\in g}((x_{ig}-\\bar{x_g})^2$$\n",
    "\n",
    "The **dendrogram** is the graphical representation of a hierarchical bottom-up method."
   ]
  },
  {
   "cell_type": "code",
   "execution_count": null,
   "metadata": {},
   "outputs": [],
   "source": [
    "The distance"
   ]
  }
 ],
 "metadata": {
  "kernelspec": {
   "display_name": "R",
   "language": "R",
   "name": "ir"
  },
  "language_info": {
   "codemirror_mode": "r",
   "file_extension": ".r",
   "mimetype": "text/x-r-source",
   "name": "R",
   "pygments_lexer": "r",
   "version": "3.5.1"
  }
 },
 "nbformat": 4,
 "nbformat_minor": 2
}
